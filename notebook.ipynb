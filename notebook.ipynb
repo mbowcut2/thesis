{
 "cells": [
  {
   "cell_type": "code",
   "execution_count": 3,
   "metadata": {},
   "outputs": [],
   "source": [
    "import torch\n",
    "import got_utils\n",
    "import numpy as np\n",
    "import pandas as pd\n",
    "import os\n",
    "import json"
   ]
  },
  {
   "cell_type": "code",
   "execution_count": 11,
   "metadata": {},
   "outputs": [],
   "source": [
    "class CodingData:\n",
    "    def __init__(self, ROOT):\n",
    "        self.act = np.load(os.path.join(ROOT, 'act.npy')) # (Samples, Layers, Dim)\n",
    "        # with open(os.path.join(ROOT, 'labeled_data.json')) as f:\n",
    "        #     self.data = json.load(f)\n",
    "        self.data = pd.read_json(os.path.join(ROOT, 'labeled_data.json'))"
   ]
  },
  {
   "cell_type": "code",
   "execution_count": 13,
   "metadata": {},
   "outputs": [],
   "source": [
    "data = CodingData('data/datasets/factual/easy_100')"
   ]
  },
  {
   "cell_type": "code",
   "execution_count": 14,
   "metadata": {},
   "outputs": [
    {
     "data": {
      "text/plain": [
       "(99, 33, 4096)"
      ]
     },
     "execution_count": 14,
     "metadata": {},
     "output_type": "execute_result"
    }
   ],
   "source": [
    "data.act.shape"
   ]
  },
  {
   "cell_type": "code",
   "execution_count": 16,
   "metadata": {},
   "outputs": [
    {
     "data": {
      "text/html": [
       "<div>\n",
       "<style scoped>\n",
       "    .dataframe tbody tr th:only-of-type {\n",
       "        vertical-align: middle;\n",
       "    }\n",
       "\n",
       "    .dataframe tbody tr th {\n",
       "        vertical-align: top;\n",
       "    }\n",
       "\n",
       "    .dataframe thead th {\n",
       "        text-align: right;\n",
       "    }\n",
       "</style>\n",
       "<table border=\"1\" class=\"dataframe\">\n",
       "  <thead>\n",
       "    <tr style=\"text-align: right;\">\n",
       "      <th></th>\n",
       "      <th>query</th>\n",
       "      <th>response</th>\n",
       "      <th>label</th>\n",
       "    </tr>\n",
       "  </thead>\n",
       "  <tbody>\n",
       "    <tr>\n",
       "      <th>0</th>\n",
       "      <td>What is the name of a python package or librar...</td>\n",
       "      <td>[INST] &lt;&lt;SYS&gt;&gt;\\nYou are a helpful AI assistant...</td>\n",
       "      <td>True</td>\n",
       "    </tr>\n",
       "    <tr>\n",
       "      <th>1</th>\n",
       "      <td>What is the name of a python package or librar...</td>\n",
       "      <td>[INST] &lt;&lt;SYS&gt;&gt;\\nYou are a helpful AI assistant...</td>\n",
       "      <td>False</td>\n",
       "    </tr>\n",
       "    <tr>\n",
       "      <th>2</th>\n",
       "      <td>What is the name of a python package or librar...</td>\n",
       "      <td>[INST] &lt;&lt;SYS&gt;&gt;\\nYou are a helpful AI assistant...</td>\n",
       "      <td>False</td>\n",
       "    </tr>\n",
       "    <tr>\n",
       "      <th>3</th>\n",
       "      <td>What is the name of a python package or librar...</td>\n",
       "      <td>[INST] &lt;&lt;SYS&gt;&gt;\\nYou are a helpful AI assistant...</td>\n",
       "      <td>False</td>\n",
       "    </tr>\n",
       "    <tr>\n",
       "      <th>4</th>\n",
       "      <td>What is the name of a python package or librar...</td>\n",
       "      <td>[INST] &lt;&lt;SYS&gt;&gt;\\nYou are a helpful AI assistant...</td>\n",
       "      <td>False</td>\n",
       "    </tr>\n",
       "  </tbody>\n",
       "</table>\n",
       "</div>"
      ],
      "text/plain": [
       "                                               query  \\\n",
       "0  What is the name of a python package or librar...   \n",
       "1  What is the name of a python package or librar...   \n",
       "2  What is the name of a python package or librar...   \n",
       "3  What is the name of a python package or librar...   \n",
       "4  What is the name of a python package or librar...   \n",
       "\n",
       "                                            response  label  \n",
       "0  [INST] <<SYS>>\\nYou are a helpful AI assistant...   True  \n",
       "1  [INST] <<SYS>>\\nYou are a helpful AI assistant...  False  \n",
       "2  [INST] <<SYS>>\\nYou are a helpful AI assistant...  False  \n",
       "3  [INST] <<SYS>>\\nYou are a helpful AI assistant...  False  \n",
       "4  [INST] <<SYS>>\\nYou are a helpful AI assistant...  False  "
      ]
     },
     "execution_count": 16,
     "metadata": {},
     "output_type": "execute_result"
    }
   ],
   "source": [
    "data.data.head()"
   ]
  },
  {
   "cell_type": "code",
   "execution_count": null,
   "metadata": {},
   "outputs": [],
   "source": []
  }
 ],
 "metadata": {
  "kernelspec": {
   "display_name": "Python 3 (ipykernel)",
   "language": "python",
   "name": "python3"
  },
  "language_info": {
   "codemirror_mode": {
    "name": "ipython",
    "version": 3
   },
   "file_extension": ".py",
   "mimetype": "text/x-python",
   "name": "python",
   "nbconvert_exporter": "python",
   "pygments_lexer": "ipython3",
   "version": "3.10.14"
  }
 },
 "nbformat": 4,
 "nbformat_minor": 2
}
