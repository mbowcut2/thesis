{
 "cells": [
  {
   "cell_type": "code",
   "execution_count": 53,
   "metadata": {},
   "outputs": [],
   "source": [
    "from dotenv import load_dotenv\n",
    "import os\n",
    "import json\n",
    "from tqdm import tqdm"
   ]
  },
  {
   "cell_type": "code",
   "execution_count": 2,
   "metadata": {},
   "outputs": [],
   "source": [
    "from pydantic import BaseModel"
   ]
  },
  {
   "cell_type": "code",
   "execution_count": 3,
   "metadata": {},
   "outputs": [],
   "source": [
    "from openai import OpenAI"
   ]
  },
  {
   "cell_type": "code",
   "execution_count": 5,
   "metadata": {},
   "outputs": [
    {
     "data": {
      "text/plain": [
       "True"
      ]
     },
     "execution_count": 5,
     "metadata": {},
     "output_type": "execute_result"
    }
   ],
   "source": [
    "load_dotenv()"
   ]
  },
  {
   "cell_type": "code",
   "execution_count": 6,
   "metadata": {},
   "outputs": [],
   "source": [
    "client = OpenAI()"
   ]
  },
  {
   "cell_type": "code",
   "execution_count": 28,
   "metadata": {},
   "outputs": [],
   "source": [
    "hard_outputs = json.load(open('data/datasets/hard_factual_output.json'))"
   ]
  },
  {
   "cell_type": "code",
   "execution_count": 34,
   "metadata": {},
   "outputs": [
    {
     "name": "stdout",
     "output_type": "stream",
     "text": [
      "[INST] <<SYS>>\n",
      "You are a helpful AI assistant.\n",
      "<</SYS>>\n",
      "\n",
      "What is the name of a python package or library that can be used to create a simulation for simulating the behavior of complex adaptive systems in multi-level environments. [/INST]\n",
      "\n",
      "Hello! I'm happy to help you find the right Python package or library for your simulation needs. Based on your description, I recommend using the \"PySCT\" (Python Simulation of Complex Systems) library.\n",
      "\n",
      "PySCT is a Python package specifically designed for simulating the behavior of complex adaptive systems in multi-level environments. It provides a comprehensive set of tools and features for modeling, analyzing, and visualizing complex systems, including:\n",
      "\n",
      "1. Agent-based modeling: PySCT allows you to create agent-based models of complex systems, where agents interact with each other and their environment.\n",
      "2\n"
     ]
    }
   ],
   "source": [
    "print(hard_outputs[2])"
   ]
  },
  {
   "cell_type": "code",
   "execution_count": 35,
   "metadata": {},
   "outputs": [],
   "source": [
    "prompt = f'The following is a conversation with an AI assistant. Is the information provided by the AI correct, yes or no?\\n\\n {hard_outputs[2]}'"
   ]
  },
  {
   "cell_type": "code",
   "execution_count": 39,
   "metadata": {},
   "outputs": [],
   "source": [
    "def get_prompt(model_output):\n",
    "    return f'The following is a conversation with an AI assistant. Is the information provided by the AI correct?\\n\\n {model_output}'"
   ]
  },
  {
   "cell_type": "code",
   "execution_count": 36,
   "metadata": {},
   "outputs": [],
   "source": [
    "completion = client.chat.completions.create(\n",
    "    model=\"gpt-4o-mini\",\n",
    "    messages=[\n",
    "        {\"role\": \"system\", \"content\": \"You are a helpful assistant.\"},\n",
    "        {\n",
    "            \"role\": \"user\",\n",
    "            \"content\": prompt\n",
    "        }\n",
    "    ]\n",
    ")"
   ]
  },
  {
   "cell_type": "code",
   "execution_count": 37,
   "metadata": {},
   "outputs": [
    {
     "data": {
      "text/plain": [
       "'No, the information provided by the AI assistant is not correct. As of my knowledge cutoff date in October 2023, there is no widely recognized Python library specifically named \"PySCT.\" Instead, for simulating complex adaptive systems, you might consider libraries such as \"Mesa,\" which is an agent-based modeling framework in Python, or \"SimPy,\" which is a process-based discrete-event simulation framework.'"
      ]
     },
     "execution_count": 37,
     "metadata": {},
     "output_type": "execute_result"
    }
   ],
   "source": [
    "completion.choices[0].message.content"
   ]
  },
  {
   "cell_type": "code",
   "execution_count": 45,
   "metadata": {},
   "outputs": [],
   "source": [
    "class Claim(BaseModel):\n",
    "    claim: str\n",
    "    isTrue: bool"
   ]
  },
  {
   "cell_type": "code",
   "execution_count": 57,
   "metadata": {},
   "outputs": [],
   "source": [
    "def label(outputs, model=\"gpt-4o-2024-08-06\", filename='data/datasets/labeled_output.json'):\n",
    "    labeled_outputs = []\n",
    "    for output in tqdm(outputs):\n",
    "        completion = client.beta.chat.completions.parse(\n",
    "            model=model,\n",
    "            messages=[\n",
    "                {\"role\": \"system\", \"content\": \"You are a helpful assistant.\"},\n",
    "                {\"role\": \"user\", \"content\": get_prompt(output)},\n",
    "            ],\n",
    "            temperature=0.1,\n",
    "            response_format=Claim,\n",
    "        )\n",
    "\n",
    "        labeled_outputs.append(\n",
    "            completion.choices[0].message.parsed.dict()\n",
    "        )\n",
    "    \n",
    "    with open(filename, 'w') as f:\n",
    "        json.dump(labeled_outputs, f)\n",
    "\n",
    "        \n",
    "\n"
   ]
  },
  {
   "cell_type": "code",
   "execution_count": 58,
   "metadata": {},
   "outputs": [
    {
     "name": "stderr",
     "output_type": "stream",
     "text": [
      "100%|█████████████████████████████████████████████████████████████████████████████████████████████████████████████████████████████████████████████████████████████████████████████████████████████████████████████████████████████████████████████| 3/3 [00:05<00:00,  1.68s/it]\n"
     ]
    }
   ],
   "source": [
    "label(test_outputs)"
   ]
  },
  {
   "cell_type": "code",
   "execution_count": 60,
   "metadata": {},
   "outputs": [
    {
     "name": "stderr",
     "output_type": "stream",
     "text": [
      "100%|███████████████████████████████████████████████████████████████████████████████████████████████████████████████████████████████████████████████████████████████████████████████████████████████████████████████████████████████████████████| 32/32 [01:05<00:00,  2.06s/it]\n"
     ]
    }
   ],
   "source": [
    "label(hard_outputs, filename='data/datasets/labeled_hard_output.json')"
   ]
  },
  {
   "cell_type": "code",
   "execution_count": null,
   "metadata": {},
   "outputs": [],
   "source": []
  }
 ],
 "metadata": {
  "kernelspec": {
   "display_name": "Python 3 (ipykernel)",
   "language": "python",
   "name": "python3"
  },
  "language_info": {
   "codemirror_mode": {
    "name": "ipython",
    "version": 3
   },
   "file_extension": ".py",
   "mimetype": "text/x-python",
   "name": "python",
   "nbconvert_exporter": "python",
   "pygments_lexer": "ipython3",
   "version": "3.10.14"
  }
 },
 "nbformat": 4,
 "nbformat_minor": 2
}
