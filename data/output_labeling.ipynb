{
 "cells": [
  {
   "cell_type": "code",
   "execution_count": 140,
   "metadata": {},
   "outputs": [],
   "source": [
    "from dotenv import load_dotenv\n",
    "import os\n",
    "import json"
   ]
  },
  {
   "cell_type": "code",
   "execution_count": 19,
   "metadata": {},
   "outputs": [],
   "source": [
    "from pydantic import BaseModel"
   ]
  },
  {
   "cell_type": "code",
   "execution_count": 10,
   "metadata": {},
   "outputs": [],
   "source": [
    "from openai import OpenAI"
   ]
  },
  {
   "cell_type": "code",
   "execution_count": 12,
   "metadata": {},
   "outputs": [],
   "source": [
    "client = OpenAI()"
   ]
  },
  {
   "cell_type": "code",
   "execution_count": 13,
   "metadata": {},
   "outputs": [
    {
     "data": {
      "text/plain": [
       "<openai.OpenAI at 0x10f646f20>"
      ]
     },
     "execution_count": 13,
     "metadata": {},
     "output_type": "execute_result"
    }
   ],
   "source": []
  },
  {
   "cell_type": "code",
   "execution_count": 3,
   "metadata": {},
   "outputs": [
    {
     "data": {
      "text/plain": [
       "True"
      ]
     },
     "execution_count": 3,
     "metadata": {},
     "output_type": "execute_result"
    }
   ],
   "source": [
    "load_dotenv()"
   ]
  },
  {
   "cell_type": "code",
   "execution_count": 6,
   "metadata": {},
   "outputs": [],
   "source": [
    "OPENAI_API_KEY = os.getenv('OPENAI_API_KEY')"
   ]
  },
  {
   "cell_type": "code",
   "execution_count": 14,
   "metadata": {},
   "outputs": [],
   "source": [
    "completion = client.chat.completions.create(\n",
    "    model=\"gpt-4o-mini\",\n",
    "    messages=[\n",
    "        {\"role\": \"system\", \"content\": \"You are a helpful assistant.\"},\n",
    "        {\n",
    "            \"role\": \"user\",\n",
    "            \"content\": \"Write a haiku about recursion in programming.\"\n",
    "        }\n",
    "    ]\n",
    ")"
   ]
  },
  {
   "cell_type": "code",
   "execution_count": 17,
   "metadata": {},
   "outputs": [
    {
     "name": "stdout",
     "output_type": "stream",
     "text": [
      "Function calls itself,  \n",
      "Layers deep, the logic flows—  \n",
      "Infinite echo.\n"
     ]
    }
   ],
   "source": [
    "print(completion.choices[0].message.content)"
   ]
  },
  {
   "cell_type": "code",
   "execution_count": 95,
   "metadata": {},
   "outputs": [
    {
     "data": {
      "text/plain": [
       "ParsedChatCompletion[TaskList](id='chatcmpl-A4bHDeecFYLUd6VZVq0Fsij322cra', choices=[ParsedChoice[TaskList](finish_reason='stop', index=0, logprobs=None, message=ParsedChatCompletionMessage[TaskList](content='{\"taskt_list\":[\"Write a function to reverse a string.\",\"Implement a basic calculator that can perform addition, subtraction, multiplication, and division.\",\"Create a simple to-do list application with a command-line interface.\",\"Develop a program that sorts a list of numbers using the bubble sort algorithm.\",\"Build a command-line tool that fetches weather data from an API and displays it to the user.\"],\"length\":5}', refusal=None, role='assistant', function_call=None, tool_calls=[], parsed=TaskList(taskt_list=['Write a function to reverse a string.', 'Implement a basic calculator that can perform addition, subtraction, multiplication, and division.', 'Create a simple to-do list application with a command-line interface.', 'Develop a program that sorts a list of numbers using the bubble sort algorithm.', 'Build a command-line tool that fetches weather data from an API and displays it to the user.'], length=5)))], created=1725659967, model='gpt-4o-2024-08-06', object='chat.completion', service_tier=None, system_fingerprint='fp_2a322c9ffc', usage=CompletionUsage(completion_tokens=82, prompt_tokens=84, total_tokens=166))"
      ]
     },
     "execution_count": 95,
     "metadata": {},
     "output_type": "execute_result"
    }
   ],
   "source": [
    "completion"
   ]
  },
  {
   "cell_type": "code",
   "execution_count": 120,
   "metadata": {},
   "outputs": [],
   "source": [
    "class TaskList(BaseModel):\n",
    "    task_list: list[str]\n",
    "    length: int"
   ]
  },
  {
   "cell_type": "code",
   "execution_count": 123,
   "metadata": {},
   "outputs": [],
   "source": [
    "completion = client.beta.chat.completions.parse(\n",
    "    model=\"gpt-4o-2024-08-06\",\n",
    "    messages=[\n",
    "        {\"role\": \"system\", \"content\": \"You are a helpful assistant.\"},\n",
    "        {\"role\": \"user\", \"content\": \"Give me a list of 5 programming tasks for which a pypi module probably exists.\"},\n",
    "    ],\n",
    "    temperature=0.5\n",
    "    response_format=TaskList,\n",
    ")"
   ]
  },
  {
   "cell_type": "code",
   "execution_count": 143,
   "metadata": {},
   "outputs": [],
   "source": [
    "def generate_task_list(n_items):\n",
    "    print(f\"generating a list of {n_items} programming tasks...\")\n",
    "    completion = client.beta.chat.completions.parse(\n",
    "        model=\"gpt-4o-2024-08-06\",\n",
    "        messages=[\n",
    "            {\"role\": \"system\", \"content\": \"You are a helpful assistant.\"},\n",
    "            {\"role\": \"user\", \"content\": f\"Give me a list of {n_items} programming tasks for which PyPI modules probably don't exist.\"},\n",
    "        ],\n",
    "        response_format=TaskList,\n",
    "    )\n",
    "    print('completed')\n",
    "    return completion.choices[0].message.parsed"
   ]
  },
  {
   "cell_type": "code",
   "execution_count": 144,
   "metadata": {},
   "outputs": [
    {
     "name": "stdout",
     "output_type": "stream",
     "text": [
      "generating a list of 500 programming tasks...\n",
      "completed\n"
     ]
    }
   ],
   "source": [
    "hard_programming_tasks = generate_task_list(500)\n"
   ]
  },
  {
   "cell_type": "code",
   "execution_count": 145,
   "metadata": {},
   "outputs": [
    {
     "data": {
      "text/plain": [
       "['Implement a genetic algorithm for optimizing architectural designs of skyscrapers.',\n",
       " 'Design a neural network to simulate quantum entanglement in particles.',\n",
       " 'Create a simulation for simulating the behavior of complex adaptive systems in multi-level environments.',\n",
       " 'Develop a tool to model the effect of gravitational lensing on observed galaxy images.',\n",
       " 'Simulate the growth and fractal-like structures of ice crystals under varying atmospheric conditions.',\n",
       " 'Build a dynamic ecosystem simulator that models predator-prey interactions in real-time.',\n",
       " 'Create a software that models the spread of misinformation across multiple social media networks.',\n",
       " 'Develop an algorithm to optimize flight paths in a city for urban air mobility devices.',\n",
       " 'Implement a symbolic reasoning engine for translating ancient hieroglyphics without annotations.',\n",
       " 'Design a distributed ledger system specifically for tracking gene editing changes in crops.',\n",
       " 'Build a system that predicts the evolutionary pathways of viruses using protein folding simulations.',\n",
       " 'Simulate the effect of cosmic radiation on electronic circuits aboard spacecraft.',\n",
       " 'Create a program to model the acoustic properties of new materials for soundproofing.',\n",
       " 'Develop a simulation platform for testing decentralized autonomous economies.',\n",
       " 'Design an AI to autonomously design new DNA sequences for novel organisms.',\n",
       " 'Develop a software to simulate and visualize gravitational wave interactions with matter.',\n",
       " 'Create an engine that predicts agricultural yield under climate change scenarios.',\n",
       " 'Build a platform that can simulate entire economic systems with millions of agents.',\n",
       " 'Write a simulator for modeling continental drift and its effect on climate patterns.',\n",
       " 'Create an AI tool to design human-readable workflows for complex simulations.',\n",
       " 'Develop an algorithm to detect fake satellite images generated through deep fakes.',\n",
       " 'Implement a system for designing self-healing materials using computational chemistry.',\n",
       " 'Create a multi-agent system simulation of early human societies and resource distribution.',\n",
       " 'Simulate the growth of coral reefs in different oceanic conditions to predict degradation areas.',\n",
       " 'Design a system to model and predict underground water table movements and interactions.',\n",
       " 'Implement a quantum algorithm for optimizing chemical reaction pathways in drug design.',\n",
       " 'Create a dynamic tool for simulating the effects of volcanic eruptions on climate.',\n",
       " 'Develop a system for searching genetic databases for unique protein folding patterns.',\n",
       " 'Build a virtual lab to simulate human brain surgeries and outcomes under varying conditions.',\n",
       " 'Simulate the interactions of exotic particles in theoretical physics in large colliders.',\n",
       " 'Design an evolutionary algorithm to optimize the shapes of sails for high-efficiency.',\n",
       " 'Create a platform to model the logistics of interplanetary supply chains for space missions.']"
      ]
     },
     "execution_count": 145,
     "metadata": {},
     "output_type": "execute_result"
    }
   ],
   "source": [
    "hard_programming_tasks.task_list"
   ]
  },
  {
   "cell_type": "code",
   "execution_count": 124,
   "metadata": {},
   "outputs": [
    {
     "name": "stdout",
     "output_type": "stream",
     "text": [
      "task_list=['Download a file from the internet given a URL.', 'Convert Markdown documents to HTML.', 'Plot a graph from a list of data points.', 'Parse JSON data from a string or file.', 'Send an email through an SMTP server.'] length=5\n"
     ]
    }
   ],
   "source": [
    "print(completion.choices[0].message.parsed)"
   ]
  },
  {
   "cell_type": "code",
   "execution_count": 126,
   "metadata": {},
   "outputs": [
    {
     "data": {
      "text/plain": [
       "CompletionUsage(completion_tokens=52, prompt_tokens=91, total_tokens=143)"
      ]
     },
     "execution_count": 126,
     "metadata": {},
     "output_type": "execute_result"
    }
   ],
   "source": [
    "completion.usage"
   ]
  },
  {
   "cell_type": "code",
   "execution_count": 127,
   "metadata": {},
   "outputs": [],
   "source": [
    "task_list = completion.choices[0].message.parsed"
   ]
  },
  {
   "cell_type": "code",
   "execution_count": 130,
   "metadata": {},
   "outputs": [
    {
     "data": {
      "text/plain": [
       "5"
      ]
     },
     "execution_count": 130,
     "metadata": {},
     "output_type": "execute_result"
    }
   ],
   "source": []
  },
  {
   "cell_type": "code",
   "execution_count": 83,
   "metadata": {},
   "outputs": [],
   "source": [
    "batch_input_file = client.files.create(\n",
    "  file=open(\"data/batch.jsonl\", \"rb\"),\n",
    "  purpose=\"batch\"\n",
    ")"
   ]
  },
  {
   "cell_type": "code",
   "execution_count": 84,
   "metadata": {},
   "outputs": [
    {
     "name": "stdout",
     "output_type": "stream",
     "text": [
      "Batch(id='batch_E1fP1G9UDldmJk2OJvPSxdhV', completion_window='24h', created_at=1725913400, endpoint='/v1/chat/completions', input_file_id='file-oZ8hcbyx0d3amWaa3I8rKZL3', object='batch', status='validating', cancelled_at=None, cancelling_at=None, completed_at=None, error_file_id=None, errors=None, expired_at=None, expires_at=1725999800, failed_at=None, finalizing_at=None, in_progress_at=None, metadata={'description': 'test of coding task generation'}, output_file_id=None, request_counts=BatchRequestCounts(completed=0, failed=0, total=0))\n"
     ]
    }
   ],
   "source": [
    "batch_input_file_id = batch_input_file.id\n",
    "\n",
    "batch = client.batches.create(\n",
    "    input_file_id=batch_input_file_id,\n",
    "    endpoint=\"/v1/chat/completions\",\n",
    "    completion_window=\"24h\",\n",
    "    metadata={\n",
    "      \"description\": \"test of coding task generation\"\n",
    "    }\n",
    ")\n",
    "\n",
    "id = batch.id\n",
    "print(batch)"
   ]
  },
  {
   "cell_type": "code",
   "execution_count": 86,
   "metadata": {},
   "outputs": [
    {
     "name": "stdout",
     "output_type": "stream",
     "text": [
      "Batch(id='batch_E1fP1G9UDldmJk2OJvPSxdhV', completion_window='24h', created_at=1725913400, endpoint='/v1/chat/completions', input_file_id='file-oZ8hcbyx0d3amWaa3I8rKZL3', object='batch', status='completed', cancelled_at=None, cancelling_at=None, completed_at=1725913412, error_file_id=None, errors=None, expired_at=None, expires_at=1725999800, failed_at=None, finalizing_at=1725913411, in_progress_at=1725913400, metadata={'description': 'test of coding task generation'}, output_file_id='file-ppVheoPS4iAZ9kJT7mqtK075', request_counts=BatchRequestCounts(completed=2, failed=0, total=2))\n"
     ]
    }
   ],
   "source": [
    "print(client.batches.retrieve(id))"
   ]
  },
  {
   "cell_type": "code",
   "execution_count": 89,
   "metadata": {},
   "outputs": [
    {
     "name": "stdout",
     "output_type": "stream",
     "text": [
      "completed\n"
     ]
    }
   ],
   "source": [
    "print(client.batches.retrieve(id).status)\n"
   ]
  },
  {
   "cell_type": "code",
   "execution_count": 90,
   "metadata": {},
   "outputs": [],
   "source": [
    "output_file_id = client.batches.retrieve(id).output_file_id"
   ]
  },
  {
   "cell_type": "code",
   "execution_count": 116,
   "metadata": {},
   "outputs": [
    {
     "name": "stdout",
     "output_type": "stream",
     "text": [
      "{\"id\": \"batch_req_R8AwHaPmy1F3SsIF4a5n7lPa\", \"custom_id\": \"request-1\", \"response\": {\"status_code\": 200, \"request_id\": \"9a9671c347ce18732939598a8b6368ea\", \"body\": {\"id\": \"chatcmpl-A5fCuOPUmfcVFkGQu2MIoF2tgXWLp\", \"object\": \"chat.completion\", \"created\": 1725913404, \"model\": \"gpt-4o-mini-2024-07-18\", \"choices\": [{\"index\": 0, \"message\": {\"role\": \"assistant\", \"content\": \"{\\\"tasks\\\":[\\\"Data manipulation and analysis (e.g., using pandas)\\\",\\\"Web scraping (e.g., using BeautifulSoup or Scrapy)\\\",\\\"Image processing (e.g., using Pillow or OpenCV)\\\",\\\"Building REST APIs (e.g., using Flask or FastAPI)\\\",\\\"Machine learning (e.g., using scikit-learn or TensorFlow)\\\"],\\\"length\\\":5}\", \"refusal\": null}, \"logprobs\": null, \"finish_reason\": \"stop\"}], \"usage\": {\"prompt_tokens\": 80, \"completion_tokens\": 77, \"total_tokens\": 157}, \"system_fingerprint\": \"fp_483d39d857\"}}, \"error\": null}\n",
      "{\"id\": \"batch_req_Iexn9zz10EohbQQ6EEcXl0lQ\", \"custom_id\": \"request-2\", \"response\": {\"status_code\": 200, \"request_id\": \"612bc6082ccdd9c7d55475d821f43d0c\", \"body\": {\"id\": \"chatcmpl-A5fD0RSLmohLql10ro4n81HGhf1cX\", \"object\": \"chat.completion\", \"created\": 1725913410, \"model\": \"gpt-4o-mini-2024-07-18\", \"choices\": [{\"index\": 0, \"message\": {\"role\": \"assistant\", \"content\": \"{\\\"tasks\\\":[\\\"Web scraping for data extraction\\\",\\\"Data visualization using charts and graphs\\\",\\\"Sending emails with attachments\\\",\\\"Image processing and manipulation\\\",\\\"API consumption and interaction\\\"],\\\"length\\\":5}\", \"refusal\": null}, \"logprobs\": null, \"finish_reason\": \"stop\"}], \"usage\": {\"prompt_tokens\": 80, \"completion_tokens\": 36, \"total_tokens\": 116}, \"system_fingerprint\": \"fp_483d39d857\"}}, \"error\": null}\n",
      "\n"
     ]
    }
   ],
   "source": [
    "file_response = client.files.content(output_file_id)\n",
    "print(file_response.text)"
   ]
  },
  {
   "cell_type": "code",
   "execution_count": 119,
   "metadata": {},
   "outputs": [
    {
     "data": {
      "text/plain": [
       "b'{\"id\": \"batch_req_R8AwHaPmy1F3SsIF4a5n7lPa\", \"custom_id\": \"request-1\", \"response\": {\"status_code\": 200, \"request_id\": \"9a9671c347ce18732939598a8b6368ea\", \"body\": {\"id\": \"chatcmpl-A5fCuOPUmfcVFkGQu2MIoF2tgXWLp\", \"object\": \"chat.completion\", \"created\": 1725913404, \"model\": \"gpt-4o-mini-2024-07-18\", \"choices\": [{\"index\": 0, \"message\": {\"role\": \"assistant\", \"content\": \"{\\\\\"tasks\\\\\":[\\\\\"Data manipulation and analysis (e.g., using pandas)\\\\\",\\\\\"Web scraping (e.g., using BeautifulSoup or Scrapy)\\\\\",\\\\\"Image processing (e.g., using Pillow or OpenCV)\\\\\",\\\\\"Building REST APIs (e.g., using Flask or FastAPI)\\\\\",\\\\\"Machine learning (e.g., using scikit-learn or TensorFlow)\\\\\"],\\\\\"length\\\\\":5}\", \"refusal\": null}, \"logprobs\": null, \"finish_reason\": \"stop\"}], \"usage\": {\"prompt_tokens\": 80, \"completion_tokens\": 77, \"total_tokens\": 157}, \"system_fingerprint\": \"fp_483d39d857\"}}, \"error\": null}\\n{\"id\": \"batch_req_Iexn9zz10EohbQQ6EEcXl0lQ\", \"custom_id\": \"request-2\", \"response\": {\"status_code\": 200, \"request_id\": \"612bc6082ccdd9c7d55475d821f43d0c\", \"body\": {\"id\": \"chatcmpl-A5fD0RSLmohLql10ro4n81HGhf1cX\", \"object\": \"chat.completion\", \"created\": 1725913410, \"model\": \"gpt-4o-mini-2024-07-18\", \"choices\": [{\"index\": 0, \"message\": {\"role\": \"assistant\", \"content\": \"{\\\\\"tasks\\\\\":[\\\\\"Web scraping for data extraction\\\\\",\\\\\"Data visualization using charts and graphs\\\\\",\\\\\"Sending emails with attachments\\\\\",\\\\\"Image processing and manipulation\\\\\",\\\\\"API consumption and interaction\\\\\"],\\\\\"length\\\\\":5}\", \"refusal\": null}, \"logprobs\": null, \"finish_reason\": \"stop\"}], \"usage\": {\"prompt_tokens\": 80, \"completion_tokens\": 36, \"total_tokens\": 116}, \"system_fingerprint\": \"fp_483d39d857\"}}, \"error\": null}\\n'"
      ]
     },
     "execution_count": 119,
     "metadata": {},
     "output_type": "execute_result"
    }
   ],
   "source": []
  },
  {
   "cell_type": "code",
   "execution_count": 109,
   "metadata": {},
   "outputs": [
    {
     "data": {
      "text/plain": [
       "'{\"id\": \"batch_req_R8AwHaPmy1F3SsIF4a5n7lPa\", \"custom_id\": \"request-1\", \"response\": {\"status_code\": 200, \"request_id\": \"9a9671c347ce18732939598a8b6368ea\", \"body\": {\"id\": \"chatcmpl-A5fCuOPUmfcVFkGQu2MIoF2tgXWLp\", \"object\": \"chat.completion\", \"created\": 1725913404, \"model\": \"gpt-4o-mini-2024-07-18\", \"choices\": [{\"index\": 0, \"message\": {\"role\": \"assistant\", \"content\": \"{\\\\\"tasks\\\\\":[\\\\\"Data manipulation and analysis (e.g., using pandas)\\\\\",\\\\\"Web scraping (e.g., using BeautifulSoup or Scrapy)\\\\\",\\\\\"Image processing (e.g., using Pillow or OpenCV)\\\\\",\\\\\"Building REST APIs (e.g., using Flask or FastAPI)\\\\\",\\\\\"Machine learning (e.g., using scikit-learn or TensorFlow)\\\\\"],\\\\\"length\\\\\":5}\", \"refusal\": null}, \"logprobs\": null, \"finish_reason\": \"stop\"}], \"usage\": {\"prompt_tokens\": 80, \"completion_tokens\": 77, \"total_tokens\": 157}, \"system_fingerprint\": \"fp_483d39d857\"}}, \"error\": null}\\n{\"id\": \"batch_req_Iexn9zz10EohbQQ6EEcXl0lQ\", \"custom_id\": \"request-2\", \"response\": {\"status_code\": 200, \"request_id\": \"612bc6082ccdd9c7d55475d821f43d0c\", \"body\": {\"id\": \"chatcmpl-A5fD0RSLmohLql10ro4n81HGhf1cX\", \"object\": \"chat.completion\", \"created\": 1725913410, \"model\": \"gpt-4o-mini-2024-07-18\", \"choices\": [{\"index\": 0, \"message\": {\"role\": \"assistant\", \"content\": \"{\\\\\"tasks\\\\\":[\\\\\"Web scraping for data extraction\\\\\",\\\\\"Data visualization using charts and graphs\\\\\",\\\\\"Sending emails with attachments\\\\\",\\\\\"Image processing and manipulation\\\\\",\\\\\"API consumption and interaction\\\\\"],\\\\\"length\\\\\":5}\", \"refusal\": null}, \"logprobs\": null, \"finish_reason\": \"stop\"}], \"usage\": {\"prompt_tokens\": 80, \"completion_tokens\": 36, \"total_tokens\": 116}, \"system_fingerprint\": \"fp_483d39d857\"}}, \"error\": null}\\n'"
      ]
     },
     "execution_count": 109,
     "metadata": {},
     "output_type": "execute_result"
    }
   ],
   "source": [
    "file_response.text"
   ]
  },
  {
   "cell_type": "code",
   "execution_count": 115,
   "metadata": {},
   "outputs": [
    {
     "data": {
      "text/plain": [
       "<openai._legacy_response.HttpxBinaryResponseContent at 0x111808a60>"
      ]
     },
     "execution_count": 115,
     "metadata": {},
     "output_type": "execute_result"
    }
   ],
   "source": [
    "file_response"
   ]
  },
  {
   "cell_type": "code",
   "execution_count": 94,
   "metadata": {},
   "outputs": [],
   "source": [
    "file_response.write_to_file('data/batch_output.jsonl')"
   ]
  },
  {
   "cell_type": "code",
   "execution_count": 146,
   "metadata": {},
   "outputs": [],
   "source": [
    "# write easy_programming_tasks array to a file\n",
    "with open('data/hard_programming_tasks.json', 'w') as f:\n",
    "    json.dump(hard_programming_tasks.task_list, f)"
   ]
  },
  {
   "cell_type": "code",
   "execution_count": null,
   "metadata": {},
   "outputs": [],
   "source": []
  }
 ],
 "metadata": {
  "kernelspec": {
   "display_name": "Python 3 (ipykernel)",
   "language": "python",
   "name": "python3"
  }
 },
 "nbformat": 4,
 "nbformat_minor": 2
}
