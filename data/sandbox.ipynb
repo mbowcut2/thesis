{
 "cells": [
  {
   "cell_type": "code",
   "execution_count": 1,
   "metadata": {},
   "outputs": [],
   "source": [
    "import json\n",
    "import os"
   ]
  },
  {
   "cell_type": "code",
   "execution_count": 5,
   "metadata": {},
   "outputs": [],
   "source": [
    "easy_tasks = json.load(open('data/datasets/easy_programming_tasks.json'))\n",
    "hard_tasks = json.load(open('data/datasets/hard_programming_tasks.json'))"
   ]
  },
  {
   "cell_type": "code",
   "execution_count": 6,
   "metadata": {},
   "outputs": [
    {
     "data": {
      "text/plain": [
       "298"
      ]
     },
     "execution_count": 6,
     "metadata": {},
     "output_type": "execute_result"
    }
   ],
   "source": [
    "len(easy_tasks)"
   ]
  },
  {
   "cell_type": "code",
   "execution_count": 7,
   "metadata": {},
   "outputs": [
    {
     "data": {
      "text/plain": [
       "32"
      ]
     },
     "execution_count": 7,
     "metadata": {},
     "output_type": "execute_result"
    }
   ],
   "source": [
    "len(hard_tasks)"
   ]
  },
  {
   "cell_type": "code",
   "execution_count": 8,
   "metadata": {},
   "outputs": [],
   "source": [
    "easy_outputs = json.load(open('data/datasets/easy_factual_output.json'))\n",
    "hard_outputs = json.load(open('data/datasets/hard_factual_output.json'))"
   ]
  },
  {
   "cell_type": "code",
   "execution_count": 10,
   "metadata": {},
   "outputs": [
    {
     "name": "stdout",
     "output_type": "stream",
     "text": [
      "[INST] <<SYS>>\n",
      "You are a helpful AI assistant.\n",
      "<</SYS>>\n",
      "\n",
      "What is the name of a python package or library that can be used to parse json data [/INST]\n",
      "  Hello! I'm happy to help! The Python package you're looking for is called \"json\". It's a built-in library in Python that allows you to parse and generate JSON data. You can use it to read JSON data from a file or string, and also to create JSON objects and strings.\n",
      "\n",
      "Here's an example of how you can use the json library to parse a JSON object:\n",
      "```\n",
      "import json\n",
      "\n",
      "# Parse a JSON object from a string\n",
      "data = '{\"name\": \"John\", \"age\": 30, \"city\": \"New York\"}'\n",
      "parsed_data = json.loads(data)\n",
      "\n",
      "# Access the parsed data as a dictionary\n",
      "print\n"
     ]
    }
   ],
   "source": [
    "print(easy_outputs[0])"
   ]
  },
  {
   "cell_type": "code",
   "execution_count": 14,
   "metadata": {},
   "outputs": [
    {
     "name": "stdout",
     "output_type": "stream",
     "text": [
      "[INST] <<SYS>>\n",
      "You are a helpful AI assistant.\n",
      "<</SYS>>\n",
      "\n",
      "What is the name of a python package or library that can be used to develop a tool to model the effect of gravitational lensing on observed galaxy images. [/INST]\n",
      "\n",
      "Hello! I'm happy to help you with your question. The Python package you're looking for is called \"GalPy\" (Galaxy Propagaation). It's a Python package for studying the properties of galaxy populations and the effects of gravitational lensing on observed galaxy images.\n",
      "\n",
      "GalPy provides a set of tools for simulating and analyzing the lensing of galaxy images, including the ability to model the gravitational potential of dark matter halos and the distortion of galaxy images due to lensing. It also includes a number of pre-built models for common lensing\n"
     ]
    }
   ],
   "source": [
    "print(hard_outputs[3])"
   ]
  },
  {
   "cell_type": "code",
   "execution_count": null,
   "metadata": {},
   "outputs": [],
   "source": []
  }
 ],
 "metadata": {
  "kernelspec": {
   "display_name": "Python 3 (ipykernel)",
   "language": "python",
   "name": "python3"
  },
  "language_info": {
   "codemirror_mode": {
    "name": "ipython",
    "version": 3
   },
   "file_extension": ".py",
   "mimetype": "text/x-python",
   "name": "python",
   "nbconvert_exporter": "python",
   "pygments_lexer": "ipython3",
   "version": "3.10.14"
  }
 },
 "nbformat": 4,
 "nbformat_minor": 2
}
