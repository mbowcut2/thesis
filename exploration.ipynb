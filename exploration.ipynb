{
 "cells": [
  {
   "cell_type": "code",
   "execution_count": 1,
   "metadata": {},
   "outputs": [],
   "source": [
    "import torch\n",
    "import torch.nn.functional as F\n",
    "import got_utils\n",
    "import numpy as np\n",
    "import pandas as pd\n",
    "import os\n",
    "import json\n",
    "import time\n",
    "\n",
    "from tqdm import tqdm\n",
    "\n",
    "from torch.utils.data import DataLoader, Dataset\n",
    "\n",
    "import matplotlib.pyplot as plt"
   ]
  },
  {
   "cell_type": "code",
   "execution_count": 7,
   "metadata": {},
   "outputs": [],
   "source": [
    "import torch\n",
    "from torch.utils.data import Dataset, DataLoader\n",
    "\n",
    "# Custom dataset example\n",
    "class MyDataset(Dataset):\n",
    "    def __init__(self, data, labels):\n",
    "        self.data = data\n",
    "        self.labels = labels\n",
    "\n",
    "    def __len__(self):\n",
    "        return len(self.data)\n",
    "\n",
    "    def __getitem__(self, index):\n",
    "        x = self.data[index]\n",
    "        y = self.labels[index]\n",
    "        return x, y\n",
    "\n",
    "\n",
    "class CodingData:\n",
    "    def __init__(self, ROOT):\n",
    "        try:\n",
    "            self.act = torch.from_numpy(np.load(os.path.join(ROOT, 'acts.npy'))) # (Samples, Layers, Dim)\n",
    "        except:\n",
    "            self.act = None\n",
    "        # with open(os.path.join(ROOT, 'labeled_data.json')) as f:\n",
    "        #     self.data = json.load(f)\n",
    "        self.data = pd.read_json(os.path.join(ROOT, 'labeled.json'))\n",
    "        self.label_tensor = torch.zeros(len(self.data))\n",
    "        for i in range(len(self.data)):\n",
    "            self.label_tensor[i] = int(self.data['label'][i])\n",
    "        self.pcs = []\n",
    "        if self.act is not None:\n",
    "            for i in range(self.act.shape[1]):\n",
    "                self.pcs.append(got_utils.get_pcs(self.act.T[:, i, :]))\n",
    "\n",
    "    def get_dataloader(self, layer, batch_size=32):\n",
    "        dataset = MyDataset(self.act[:, layer, :], self.label_tensor)\n",
    "        return DataLoader(dataset, batch_size=batch_size, shuffle=True)\n",
    "\n",
    "    def plot_pcs(self, layer):\n",
    "        if self.act is None:\n",
    "            print('No activations found')\n",
    "            return\n",
    "        scatter = plt.scatter(self.pcs[layer].numpy()[:,0], self.pcs[layer].numpy()[:,1], c=self.data['label'], cmap='tab20')\n",
    "        # Create legend entries for True and False\n",
    "        handles, _ = scatter.legend_elements()\n",
    "        labels = ['False', 'True']\n",
    "        \n",
    "        # Add the legend with custom labels\n",
    "        plt.legend(handles, labels)\n",
    "        plt.show()\n",
    "\n",
    "    @property\n",
    "    def hallucination_rate(self):\n",
    "        return 1 - self.label_tensor.mean()\n",
    "    \n",
    "\n",
    "def compare_sets(base, chat):\n",
    "    print(f\"Base: {base.hallucination_rate}\")\n",
    "    print(f\"Chat: {chat.hallucination_rate}\")\n",
    "    improve_indices = np.where(\n",
    "        (base.label_tensor == 0) & (chat.label_tensor == 1)\n",
    "    )[0]\n",
    "    degrade_indices = np.where(\n",
    "        (base.label_tensor == 1) & (chat.label_tensor == 0)\n",
    "    )[0]\n",
    "    both_halluc_indices = np.where(\n",
    "        (base.label_tensor == 0) & (chat.label_tensor == 0)\n",
    "    )[0]\n",
    "    both_real_indices = np.where(\n",
    "        (base.label_tensor == 1) & (chat.label_tensor == 1)\n",
    "    )[0]\n",
    "\n",
    "    print(f\"{len(improve_indices)} hallucinations improved ({len(improve_indices) / len(base.data) * 100:.2f}%)\")   \n",
    "    print(f\"{len(degrade_indices)} hallucinations degraded ({len(degrade_indices) / len(base.data) * 100:.2f}%)\")\n",
    "\n",
    "    return {'improve_indices':improve_indices, 'degrade_indices':degrade_indices, 'both_halluc_indices':both_halluc_indices, 'both_real_indices':both_real_indices}\n",
    "\n",
    "def view_sets(base, chat, indices):\n",
    "    for i in indices:\n",
    "        print(base.data.iloc[i]['explanation'], base.data.iloc[i]['label'])\n",
    "        print(chat.data.iloc[i]['explanation'], chat.data.iloc[i]['label'])\n",
    "        print('\\n\\n')\n",
    "    \n"
   ]
  },
  {
   "cell_type": "markdown",
   "metadata": {},
   "source": [
    "## Visualization"
   ]
  },
  {
   "cell_type": "code",
   "execution_count": 105,
   "metadata": {},
   "outputs": [],
   "source": [
    "def plot_summary_pcs(data):\n",
    "# put 10, 20, 30 in a subplot together\n",
    "    fig, axs = plt.subplots(1, 3, figsize=(15, 5))\n",
    "    interval = len(data.pcs) // 3 - 1\n",
    "    for i, ax in enumerate(axs):\n",
    "        scatter = ax.scatter(data.pcs[interval*(i+1)].numpy()[:,0], data.pcs[interval*(i+1)].numpy()[:,1], c=data.data['label'], cmap='tab20')\n",
    "        ax.set_title(f'Layer {10*(i+1)}')\n",
    "        handles, _ = scatter.legend_elements()\n",
    "        labels = ['False', 'True']\n",
    "        ax.legend(handles, labels)\n",
    "    plt.show()"
   ]
  },
  {
   "cell_type": "markdown",
   "metadata": {},
   "source": [
    "## Linear Probes"
   ]
  },
  {
   "cell_type": "code",
   "execution_count": 14,
   "metadata": {},
   "outputs": [],
   "source": [
    "from probes import LinearProbe"
   ]
  },
  {
   "cell_type": "code",
   "execution_count": 110,
   "metadata": {},
   "outputs": [],
   "source": [
    "probe = LinearProbe(data.act.shape[2], 2)"
   ]
  },
  {
   "cell_type": "code",
   "execution_count": 15,
   "metadata": {},
   "outputs": [],
   "source": [
    "def train(probe, data, layer, epochs=1, lr=1e-3, device='cpu', batch_size=32):\n",
    "    optimizer = torch.optim.Adam(probe.parameters(), lr=lr)\n",
    "    losses = []\n",
    "    accuracies = []\n",
    "    for epoch in range(epochs):\n",
    "        for x, y in tqdm(data.get_dataloader(layer, batch_size=32)):\n",
    "            x = x.to(device)\n",
    "            optimizer.zero_grad()\n",
    "            y_hat = probe(x)\n",
    "            loss = probe.loss(y_hat, y.long())\n",
    "            accuracy = probe.accuracy(y_hat, y.long())\n",
    "            accuracies.append(accuracy)\n",
    "            loss.backward()\n",
    "            losses.append(loss.item())\n",
    "            optimizer.step()\n",
    "    return losses, accuracies"
   ]
  },
  {
   "cell_type": "code",
   "execution_count": 172,
   "metadata": {},
   "outputs": [],
   "source": [
    "x, y = next(iter(data.get_dataloader(0)))"
   ]
  },
  {
   "cell_type": "code",
   "execution_count": 155,
   "metadata": {},
   "outputs": [
    {
     "data": {
      "text/plain": [
       "torch.Size([32, 4096])"
      ]
     },
     "execution_count": 155,
     "metadata": {},
     "output_type": "execute_result"
    }
   ],
   "source": [
    "x.shape"
   ]
  },
  {
   "cell_type": "code",
   "execution_count": 156,
   "metadata": {},
   "outputs": [
    {
     "data": {
      "text/plain": [
       "torch.Size([32])"
      ]
     },
     "execution_count": 156,
     "metadata": {},
     "output_type": "execute_result"
    }
   ],
   "source": [
    "y.shape"
   ]
  },
  {
   "cell_type": "code",
   "execution_count": null,
   "metadata": {},
   "outputs": [],
   "source": []
  },
  {
   "cell_type": "code",
   "execution_count": 129,
   "metadata": {},
   "outputs": [
    {
     "data": {
      "text/plain": [
       "tensor([0., 0., 1., 1., 0., 1., 0., 0., 1., 0., 1., 1., 0., 1., 0., 0., 1., 0.,\n",
       "        0., 1., 1., 0., 0., 0., 0., 0., 1., 0., 0., 0., 0., 0.])"
      ]
     },
     "execution_count": 129,
     "metadata": {},
     "output_type": "execute_result"
    }
   ],
   "source": [
    "y"
   ]
  },
  {
   "cell_type": "code",
   "execution_count": 16,
   "metadata": {},
   "outputs": [
    {
     "name": "stderr",
     "output_type": "stream",
     "text": [
      "  0%|                                                                                                                                                                                           | 0/4 [00:00<?, ?it/s]\n"
     ]
    },
    {
     "ename": "RuntimeError",
     "evalue": "mat1 and mat2 shapes cannot be multiplied (32x2 and 4096x2)",
     "output_type": "error",
     "traceback": [
      "\u001b[0;31m---------------------------------------------------------------------------\u001b[0m",
      "\u001b[0;31mRuntimeError\u001b[0m                              Traceback (most recent call last)",
      "Cell \u001b[0;32mIn[16], line 1\u001b[0m\n\u001b[0;32m----> 1\u001b[0m losses, accuracies \u001b[38;5;241m=\u001b[39m \u001b[43mtrain\u001b[49m\u001b[43m(\u001b[49m\u001b[43mprobeOne\u001b[49m\u001b[38;5;241;43m:=\u001b[39;49m\u001b[43mLinearProbe\u001b[49m\u001b[43m(\u001b[49m\u001b[43mdata\u001b[49m\u001b[38;5;241;43m.\u001b[39;49m\u001b[43mact\u001b[49m\u001b[38;5;241;43m.\u001b[39;49m\u001b[43mshape\u001b[49m\u001b[43m[\u001b[49m\u001b[38;5;241;43m2\u001b[39;49m\u001b[43m]\u001b[49m\u001b[43m,\u001b[49m\u001b[43m \u001b[49m\u001b[38;5;241;43m2\u001b[39;49m\u001b[43m)\u001b[49m\u001b[43m,\u001b[49m\u001b[43m \u001b[49m\u001b[43mdata\u001b[49m\u001b[43m,\u001b[49m\u001b[43m \u001b[49m\u001b[38;5;241;43m1\u001b[39;49m\u001b[43m,\u001b[49m\u001b[43m \u001b[49m\u001b[43mepochs\u001b[49m\u001b[38;5;241;43m=\u001b[39;49m\u001b[38;5;241;43m100\u001b[39;49m\u001b[43m,\u001b[49m\u001b[43m \u001b[49m\u001b[43mbatch_size\u001b[49m\u001b[38;5;241;43m=\u001b[39;49m\u001b[38;5;241;43m8\u001b[39;49m\u001b[43m)\u001b[49m\n",
      "Cell \u001b[0;32mIn[15], line 11\u001b[0m, in \u001b[0;36mtrain\u001b[0;34m(probe, data, layer, epochs, lr, device, batch_size)\u001b[0m\n\u001b[1;32m      9\u001b[0m y_hat \u001b[38;5;241m=\u001b[39m probe(x)\n\u001b[1;32m     10\u001b[0m loss \u001b[38;5;241m=\u001b[39m probe\u001b[38;5;241m.\u001b[39mloss(y_hat, y\u001b[38;5;241m.\u001b[39mlong())\n\u001b[0;32m---> 11\u001b[0m accuracy \u001b[38;5;241m=\u001b[39m \u001b[43mprobe\u001b[49m\u001b[38;5;241;43m.\u001b[39;49m\u001b[43maccuracy\u001b[49m\u001b[43m(\u001b[49m\u001b[43my_hat\u001b[49m\u001b[43m,\u001b[49m\u001b[43m \u001b[49m\u001b[43my\u001b[49m\u001b[38;5;241;43m.\u001b[39;49m\u001b[43mlong\u001b[49m\u001b[43m(\u001b[49m\u001b[43m)\u001b[49m\u001b[43m)\u001b[49m\n\u001b[1;32m     12\u001b[0m accuracies\u001b[38;5;241m.\u001b[39mappend(accuracy)\n\u001b[1;32m     13\u001b[0m loss\u001b[38;5;241m.\u001b[39mbackward()\n",
      "File \u001b[0;32m~/Thesis/thesis/probes.py:18\u001b[0m, in \u001b[0;36mLinearProbe.accuracy\u001b[0;34m(self, x, y)\u001b[0m\n\u001b[1;32m     17\u001b[0m \u001b[38;5;28;01mdef\u001b[39;00m \u001b[38;5;21maccuracy\u001b[39m(\u001b[38;5;28mself\u001b[39m, y_hat, y):\n\u001b[0;32m---> 18\u001b[0m     \u001b[38;5;28;01mreturn\u001b[39;00m (\u001b[38;5;28mself\u001b[39m\u001b[38;5;241m.\u001b[39my_hat\u001b[38;5;241m.\u001b[39margmax(dim\u001b[38;5;241m=\u001b[39m\u001b[38;5;241m1\u001b[39m) \u001b[38;5;241m==\u001b[39m y)\u001b[38;5;241m.\u001b[39mfloat()\u001b[38;5;241m.\u001b[39mmean()\n",
      "File \u001b[0;32m~/micromamba/envs/jupyter-env/lib/python3.10/site-packages/torch/nn/modules/module.py:1553\u001b[0m, in \u001b[0;36mModule._wrapped_call_impl\u001b[0;34m(self, *args, **kwargs)\u001b[0m\n\u001b[1;32m   1551\u001b[0m     \u001b[38;5;28;01mreturn\u001b[39;00m \u001b[38;5;28mself\u001b[39m\u001b[38;5;241m.\u001b[39m_compiled_call_impl(\u001b[38;5;241m*\u001b[39margs, \u001b[38;5;241m*\u001b[39m\u001b[38;5;241m*\u001b[39mkwargs)  \u001b[38;5;66;03m# type: ignore[misc]\u001b[39;00m\n\u001b[1;32m   1552\u001b[0m \u001b[38;5;28;01melse\u001b[39;00m:\n\u001b[0;32m-> 1553\u001b[0m     \u001b[38;5;28;01mreturn\u001b[39;00m \u001b[38;5;28;43mself\u001b[39;49m\u001b[38;5;241;43m.\u001b[39;49m\u001b[43m_call_impl\u001b[49m\u001b[43m(\u001b[49m\u001b[38;5;241;43m*\u001b[39;49m\u001b[43margs\u001b[49m\u001b[43m,\u001b[49m\u001b[43m \u001b[49m\u001b[38;5;241;43m*\u001b[39;49m\u001b[38;5;241;43m*\u001b[39;49m\u001b[43mkwargs\u001b[49m\u001b[43m)\u001b[49m\n",
      "File \u001b[0;32m~/micromamba/envs/jupyter-env/lib/python3.10/site-packages/torch/nn/modules/module.py:1562\u001b[0m, in \u001b[0;36mModule._call_impl\u001b[0;34m(self, *args, **kwargs)\u001b[0m\n\u001b[1;32m   1557\u001b[0m \u001b[38;5;66;03m# If we don't have any hooks, we want to skip the rest of the logic in\u001b[39;00m\n\u001b[1;32m   1558\u001b[0m \u001b[38;5;66;03m# this function, and just call forward.\u001b[39;00m\n\u001b[1;32m   1559\u001b[0m \u001b[38;5;28;01mif\u001b[39;00m \u001b[38;5;129;01mnot\u001b[39;00m (\u001b[38;5;28mself\u001b[39m\u001b[38;5;241m.\u001b[39m_backward_hooks \u001b[38;5;129;01mor\u001b[39;00m \u001b[38;5;28mself\u001b[39m\u001b[38;5;241m.\u001b[39m_backward_pre_hooks \u001b[38;5;129;01mor\u001b[39;00m \u001b[38;5;28mself\u001b[39m\u001b[38;5;241m.\u001b[39m_forward_hooks \u001b[38;5;129;01mor\u001b[39;00m \u001b[38;5;28mself\u001b[39m\u001b[38;5;241m.\u001b[39m_forward_pre_hooks\n\u001b[1;32m   1560\u001b[0m         \u001b[38;5;129;01mor\u001b[39;00m _global_backward_pre_hooks \u001b[38;5;129;01mor\u001b[39;00m _global_backward_hooks\n\u001b[1;32m   1561\u001b[0m         \u001b[38;5;129;01mor\u001b[39;00m _global_forward_hooks \u001b[38;5;129;01mor\u001b[39;00m _global_forward_pre_hooks):\n\u001b[0;32m-> 1562\u001b[0m     \u001b[38;5;28;01mreturn\u001b[39;00m \u001b[43mforward_call\u001b[49m\u001b[43m(\u001b[49m\u001b[38;5;241;43m*\u001b[39;49m\u001b[43margs\u001b[49m\u001b[43m,\u001b[49m\u001b[43m \u001b[49m\u001b[38;5;241;43m*\u001b[39;49m\u001b[38;5;241;43m*\u001b[39;49m\u001b[43mkwargs\u001b[49m\u001b[43m)\u001b[49m\n\u001b[1;32m   1564\u001b[0m \u001b[38;5;28;01mtry\u001b[39;00m:\n\u001b[1;32m   1565\u001b[0m     result \u001b[38;5;241m=\u001b[39m \u001b[38;5;28;01mNone\u001b[39;00m\n",
      "File \u001b[0;32m~/micromamba/envs/jupyter-env/lib/python3.10/site-packages/torch/nn/modules/linear.py:117\u001b[0m, in \u001b[0;36mLinear.forward\u001b[0;34m(self, input)\u001b[0m\n\u001b[1;32m    116\u001b[0m \u001b[38;5;28;01mdef\u001b[39;00m \u001b[38;5;21mforward\u001b[39m(\u001b[38;5;28mself\u001b[39m, \u001b[38;5;28minput\u001b[39m: Tensor) \u001b[38;5;241m-\u001b[39m\u001b[38;5;241m>\u001b[39m Tensor:\n\u001b[0;32m--> 117\u001b[0m     \u001b[38;5;28;01mreturn\u001b[39;00m \u001b[43mF\u001b[49m\u001b[38;5;241;43m.\u001b[39;49m\u001b[43mlinear\u001b[49m\u001b[43m(\u001b[49m\u001b[38;5;28;43minput\u001b[39;49m\u001b[43m,\u001b[49m\u001b[43m \u001b[49m\u001b[38;5;28;43mself\u001b[39;49m\u001b[38;5;241;43m.\u001b[39;49m\u001b[43mweight\u001b[49m\u001b[43m,\u001b[49m\u001b[43m \u001b[49m\u001b[38;5;28;43mself\u001b[39;49m\u001b[38;5;241;43m.\u001b[39;49m\u001b[43mbias\u001b[49m\u001b[43m)\u001b[49m\n",
      "\u001b[0;31mRuntimeError\u001b[0m: mat1 and mat2 shapes cannot be multiplied (32x2 and 4096x2)"
     ]
    }
   ],
   "source": [
    "losses, accuracies = train(probeOne:=LinearProbe(data.act.shape[2], 2), data, 1, epochs=100, batch_size=8)"
   ]
  },
  {
   "cell_type": "code",
   "execution_count": 13,
   "metadata": {},
   "outputs": [
    {
     "data": {
      "text/plain": [
       "[0.6907200813293457,\n",
       " 0.684845507144928,\n",
       " 0.6838812232017517,\n",
       " 0.6994679570198059,\n",
       " 0.665129542350769,\n",
       " 0.6526782512664795,\n",
       " 0.666519284248352,\n",
       " 0.622318685054779,\n",
       " 0.645872175693512,\n",
       " 0.6726740598678589,\n",
       " 0.612898051738739,\n",
       " 0.6238868832588196,\n",
       " 0.6552985310554504,\n",
       " 0.5871312022209167,\n",
       " 0.655422031879425,\n",
       " 0.556605339050293,\n",
       " 0.6424732804298401,\n",
       " 0.6128851175308228,\n",
       " 0.6060891151428223,\n",
       " 0.5808897614479065,\n",
       " 0.6373527646064758,\n",
       " 0.6371457576751709,\n",
       " 0.5678880214691162,\n",
       " 0.4354316294193268,\n",
       " 0.5517510771751404,\n",
       " 0.6627371311187744,\n",
       " 0.5846401453018188,\n",
       " 0.6712687015533447,\n",
       " 0.5370045900344849,\n",
       " 0.6796383261680603,\n",
       " 0.5768365859985352,\n",
       " 0.4009714424610138,\n",
       " 0.6336193680763245,\n",
       " 0.526317298412323,\n",
       " 0.6050977110862732,\n",
       " 0.4503001272678375,\n",
       " 0.6688522100448608,\n",
       " 0.5352090001106262,\n",
       " 0.5257655382156372,\n",
       " 0.5737582445144653,\n",
       " 0.5800584554672241,\n",
       " 0.5685614943504333,\n",
       " 0.5618613958358765,\n",
       " 0.5884241461753845,\n",
       " 0.57979816198349,\n",
       " 0.5761747360229492,\n",
       " 0.5464286804199219,\n",
       " 0.4988088607788086,\n",
       " 0.490494966506958,\n",
       " 0.597353458404541,\n",
       " 0.6138206720352173,\n",
       " 0.3890562057495117,\n",
       " 0.548247218132019,\n",
       " 0.5421947240829468,\n",
       " 0.5722962021827698,\n",
       " 0.5967982411384583,\n",
       " 0.5177258849143982,\n",
       " 0.5586938858032227,\n",
       " 0.569383442401886,\n",
       " 0.6215421557426453,\n",
       " 0.5456321239471436,\n",
       " 0.5618557929992676,\n",
       " 0.5273925065994263,\n",
       " 0.5888211727142334,\n",
       " 0.5810959935188293,\n",
       " 0.5697415471076965,\n",
       " 0.4696071445941925,\n",
       " 0.6139088273048401,\n",
       " 0.5696683526039124,\n",
       " 0.519168496131897,\n",
       " 0.5440484881401062,\n",
       " 0.37525737285614014,\n",
       " 0.46689167618751526,\n",
       " 0.540752649307251,\n",
       " 0.5673127770423889,\n",
       " 0.8797500729560852,\n",
       " 0.5590706467628479,\n",
       " 0.508959949016571,\n",
       " 0.5271153450012207,\n",
       " 0.5698035359382629,\n",
       " 0.45495593547821045,\n",
       " 0.5789609551429749,\n",
       " 0.5676320195198059,\n",
       " 0.38341426849365234,\n",
       " 0.5434051156044006,\n",
       " 0.5016905665397644,\n",
       " 0.5449185371398926,\n",
       " 0.4289320707321167,\n",
       " 0.574345052242279,\n",
       " 0.49978554248809814,\n",
       " 0.5155740976333618,\n",
       " 0.313122421503067,\n",
       " 0.5105655193328857,\n",
       " 0.4586403965950012,\n",
       " 0.5957779884338379,\n",
       " 0.5112081170082092,\n",
       " 0.5244441032409668,\n",
       " 0.516167163848877,\n",
       " 0.5267526507377625,\n",
       " 0.36687371134757996,\n",
       " 0.5514609217643738,\n",
       " 0.43703049421310425,\n",
       " 0.5293205380439758,\n",
       " 0.8477187156677246,\n",
       " 0.45336270332336426,\n",
       " 0.5391589403152466,\n",
       " 0.5553995370864868,\n",
       " 0.41572582721710205,\n",
       " 0.5036419630050659,\n",
       " 0.44170525670051575,\n",
       " 0.5857367515563965,\n",
       " 0.5039501786231995,\n",
       " 0.6380950808525085,\n",
       " 0.45578309893608093,\n",
       " 0.431596040725708,\n",
       " 0.4814331531524658,\n",
       " 0.5323556661605835,\n",
       " 0.47755756974220276,\n",
       " 0.5119079947471619,\n",
       " 0.4615815579891205,\n",
       " 0.5345522165298462,\n",
       " 0.4386551082134247,\n",
       " 0.5070860385894775,\n",
       " 0.906486988067627,\n",
       " 0.5378274321556091,\n",
       " 0.4262416958808899,\n",
       " 0.5682384371757507,\n",
       " 0.3250769376754761,\n",
       " 0.5764753222465515,\n",
       " 0.47733527421951294,\n",
       " 0.46813613176345825,\n",
       " 0.3554949462413788,\n",
       " 0.5803820490837097,\n",
       " 0.4989699721336365,\n",
       " 0.4058741629123688,\n",
       " 0.6451283097267151,\n",
       " 0.5285800099372864,\n",
       " 0.4945406913757324,\n",
       " 0.4554526209831238,\n",
       " 0.5818131566047668,\n",
       " 0.4305788278579712,\n",
       " 0.5312977433204651,\n",
       " 0.5340888500213623,\n",
       " 0.29178956151008606,\n",
       " 0.460188627243042,\n",
       " 0.3963412344455719,\n",
       " 0.5874043703079224,\n",
       " 0.7418610453605652,\n",
       " 0.504388689994812,\n",
       " 0.4592956304550171,\n",
       " 0.5056982636451721,\n",
       " 0.3938858211040497,\n",
       " 0.480381041765213,\n",
       " 0.45597565174102783,\n",
       " 0.524394154548645,\n",
       " 0.4434327781200409,\n",
       " 0.47238558530807495,\n",
       " 0.46750032901763916,\n",
       " 0.5315765738487244,\n",
       " 0.2793903052806854,\n",
       " 0.5015825629234314,\n",
       " 0.4352410137653351,\n",
       " 0.5007308125495911,\n",
       " 0.5526635050773621,\n",
       " 0.4423729479312897,\n",
       " 0.5353060364723206,\n",
       " 0.493013858795166,\n",
       " 0.14554256200790405,\n",
       " 0.41867199540138245,\n",
       " 0.4887879490852356,\n",
       " 0.511422872543335,\n",
       " 0.6795942187309265,\n",
       " 0.5433875322341919,\n",
       " 0.39860695600509644,\n",
       " 0.48959892988204956,\n",
       " 0.46637845039367676,\n",
       " 0.4873386025428772,\n",
       " 0.41044431924819946,\n",
       " 0.49227866530418396,\n",
       " 0.7929996848106384,\n",
       " 0.463255375623703,\n",
       " 0.4073139429092407,\n",
       " 0.5493600368499756,\n",
       " 0.35973405838012695,\n",
       " 0.42481255531311035,\n",
       " 0.5038447976112366,\n",
       " 0.4864402115345001,\n",
       " 0.42396461963653564,\n",
       " 0.4366500973701477,\n",
       " 0.4559762477874756,\n",
       " 0.5059658288955688,\n",
       " 0.5880811214447021,\n",
       " 0.5203933119773865,\n",
       " 0.46289828419685364,\n",
       " 0.43440061807632446,\n",
       " 0.33800068497657776,\n",
       " 0.3935564160346985,\n",
       " 0.5466600060462952,\n",
       " 0.4404699504375458,\n",
       " 0.6739356517791748,\n",
       " 0.5863096117973328,\n",
       " 0.39713025093078613,\n",
       " 0.4172489047050476,\n",
       " 0.3670213222503662,\n",
       " 0.4435346722602844,\n",
       " 0.409590482711792,\n",
       " 0.5507372617721558,\n",
       " 0.2341291904449463,\n",
       " 0.5048510432243347,\n",
       " 0.46070384979248047,\n",
       " 0.40236973762512207,\n",
       " 0.5264995694160461,\n",
       " 0.43218275904655457,\n",
       " 0.48465779423713684,\n",
       " 0.4388918876647949,\n",
       " 0.6027513146400452,\n",
       " 0.4549902379512787,\n",
       " 0.46536850929260254,\n",
       " 0.4625844359397888,\n",
       " 0.31083014607429504,\n",
       " 0.4500831067562103,\n",
       " 0.45496153831481934,\n",
       " 0.46435803174972534,\n",
       " 0.4079584777355194,\n",
       " 0.42341580986976624,\n",
       " 0.4566866159439087,\n",
       " 0.5001323819160461,\n",
       " 0.2551898658275604,\n",
       " 0.30245912075042725,\n",
       " 0.5373694896697998,\n",
       " 0.5346195101737976,\n",
       " 0.2588930130004883,\n",
       " 0.39554163813591003,\n",
       " 0.4754776060581207,\n",
       " 0.5005308389663696,\n",
       " 0.22230486571788788,\n",
       " 0.45816919207572937,\n",
       " 0.39910218119621277,\n",
       " 0.4762427806854248,\n",
       " 0.5825954079627991,\n",
       " 0.529896080493927,\n",
       " 0.38304340839385986,\n",
       " 0.41712552309036255,\n",
       " 0.555088460445404,\n",
       " 0.4289439618587494,\n",
       " 0.39594653248786926,\n",
       " 0.5279301404953003,\n",
       " 0.29508253931999207,\n",
       " 0.50556480884552,\n",
       " 0.4540008008480072,\n",
       " 0.392241895198822,\n",
       " 0.2632632553577423,\n",
       " 0.2885582745075226,\n",
       " 0.4775940179824829,\n",
       " 0.538287341594696,\n",
       " 0.7261642813682556,\n",
       " 0.44335612654685974,\n",
       " 0.47435155510902405,\n",
       " 0.3811316192150116,\n",
       " 0.7488942742347717,\n",
       " 0.41523128747940063,\n",
       " 0.47417837381362915,\n",
       " 0.45872071385383606,\n",
       " 0.1691523790359497,\n",
       " 0.4231311082839966,\n",
       " 0.40675482153892517,\n",
       " 0.4751017987728119,\n",
       " 0.6491194367408752,\n",
       " 0.4374118447303772,\n",
       " 0.43581196665763855,\n",
       " 0.4330691695213318,\n",
       " 0.5974017977714539,\n",
       " 0.37661391496658325,\n",
       " 0.4431217610836029,\n",
       " 0.5057309865951538,\n",
       " 0.33318981528282166,\n",
       " 0.43678635358810425,\n",
       " 0.38672783970832825,\n",
       " 0.4880930483341217,\n",
       " 0.4540944993495941,\n",
       " 0.45350557565689087,\n",
       " 0.4189775586128235,\n",
       " 0.4646362364292145,\n",
       " 0.12446925789117813,\n",
       " 0.4148222506046295,\n",
       " 0.3684084713459015,\n",
       " 0.5477135181427002,\n",
       " 0.17242677509784698,\n",
       " 0.3969486355781555,\n",
       " 0.4321933090686798,\n",
       " 0.4909386932849884,\n",
       " 0.2296421378850937,\n",
       " 0.4421748220920563,\n",
       " 0.332608163356781,\n",
       " 0.534562885761261,\n",
       " 0.3072848618030548,\n",
       " 0.43410515785217285,\n",
       " 0.3709494471549988,\n",
       " 0.48116829991340637,\n",
       " 0.5299257636070251,\n",
       " 0.3775142431259155,\n",
       " 0.38599997758865356,\n",
       " 0.5465667843818665,\n",
       " 0.22944100201129913,\n",
       " 0.39816129207611084,\n",
       " 0.5099545121192932,\n",
       " 0.38157084584236145,\n",
       " 0.4048711359500885,\n",
       " 0.3465438485145569,\n",
       " 0.41163933277130127,\n",
       " 0.5328018665313721,\n",
       " 0.3572923243045807,\n",
       " 0.40865716338157654,\n",
       " 0.4738078713417053,\n",
       " 0.4114327132701874,\n",
       " 0.28003764152526855,\n",
       " 0.44318825006484985,\n",
       " 0.342683345079422,\n",
       " 0.4727398753166199,\n",
       " 0.6492008566856384,\n",
       " 0.4309595823287964,\n",
       " 0.36780232191085815,\n",
       " 0.4777063727378845,\n",
       " 0.4335748255252838,\n",
       " 0.4975343942642212,\n",
       " 0.4011904001235962,\n",
       " 0.35728684067726135,\n",
       " 0.6066292524337769,\n",
       " 0.41019007563591003,\n",
       " 0.3975280225276947,\n",
       " 0.4852067530155182,\n",
       " 0.18621103465557098,\n",
       " 0.4206201136112213,\n",
       " 0.4540729522705078,\n",
       " 0.3428570330142975,\n",
       " 0.9529223442077637,\n",
       " 0.39552146196365356,\n",
       " 0.48978617787361145,\n",
       " 0.39287206530570984,\n",
       " 0.28576183319091797,\n",
       " 0.45948800444602966,\n",
       " 0.5006341934204102,\n",
       " 0.323527455329895,\n",
       " 0.21520847082138062,\n",
       " 0.4063991606235504,\n",
       " 0.4544582962989807,\n",
       " 0.3775463402271271,\n",
       " 0.6775403022766113,\n",
       " 0.5110252499580383,\n",
       " 0.3449106514453888,\n",
       " 0.40512898564338684,\n",
       " 0.4219928979873657,\n",
       " 0.39459043741226196,\n",
       " 0.3795512914657593,\n",
       " 0.4720519781112671,\n",
       " 0.5226819515228271,\n",
       " 0.505066454410553,\n",
       " 0.3882443308830261,\n",
       " 0.37508565187454224,\n",
       " 0.2705107629299164,\n",
       " 0.4308767020702362,\n",
       " 0.4363878667354584,\n",
       " 0.3607698380947113,\n",
       " 0.6645476818084717,\n",
       " 0.4411580264568329,\n",
       " 0.3944520950317383,\n",
       " 0.41324999928474426,\n",
       " 0.39782634377479553,\n",
       " 0.40296992659568787,\n",
       " 0.43103453516960144,\n",
       " 0.41917330026626587,\n",
       " 0.2789861261844635,\n",
       " 0.3709491491317749,\n",
       " 0.49858424067497253,\n",
       " 0.38887253403663635,\n",
       " 0.28823065757751465,\n",
       " 0.3661327362060547,\n",
       " 0.5167922377586365,\n",
       " 0.328694611787796,\n",
       " 0.7297949194908142,\n",
       " 0.4107000529766083,\n",
       " 0.37778690457344055,\n",
       " 0.46223047375679016,\n",
       " 0.293614000082016,\n",
       " 0.3846549391746521,\n",
       " 0.47383853793144226,\n",
       " 0.3878871500492096,\n",
       " 0.36676111817359924,\n",
       " 0.3851756453514099,\n",
       " 0.4885751008987427,\n",
       " 0.37842339277267456,\n",
       " 0.2815346419811249,\n",
       " 0.3416956961154938,\n",
       " 0.4857029318809509,\n",
       " 0.39178356528282166,\n",
       " 0.5756449699401855,\n",
       " 0.3295474350452423,\n",
       " 0.43449580669403076,\n",
       " 0.48519590497016907,\n",
       " 0.21596403419971466]"
      ]
     },
     "execution_count": 13,
     "metadata": {},
     "output_type": "execute_result"
    }
   ],
   "source": [
    "losses"
   ]
  },
  {
   "cell_type": "code",
   "execution_count": 159,
   "metadata": {},
   "outputs": [],
   "source": [
    "y_hat = probeOne(x)"
   ]
  },
  {
   "cell_type": "code",
   "execution_count": 160,
   "metadata": {},
   "outputs": [
    {
     "data": {
      "text/plain": [
       "torch.Size([32, 2])"
      ]
     },
     "execution_count": 160,
     "metadata": {},
     "output_type": "execute_result"
    }
   ],
   "source": [
    "y_hat.shape"
   ]
  },
  {
   "cell_type": "code",
   "execution_count": 161,
   "metadata": {},
   "outputs": [
    {
     "data": {
      "text/plain": [
       "torch.Size([32])"
      ]
     },
     "execution_count": 161,
     "metadata": {},
     "output_type": "execute_result"
    }
   ],
   "source": [
    "y.shape"
   ]
  },
  {
   "cell_type": "code",
   "execution_count": 166,
   "metadata": {},
   "outputs": [
    {
     "data": {
      "text/plain": [
       "tensor(0.6918, grad_fn=<NllLossBackward0>)"
      ]
     },
     "execution_count": 166,
     "metadata": {},
     "output_type": "execute_result"
    }
   ],
   "source": [
    "F.cross_entropy(y_hat, y.long())"
   ]
  },
  {
   "cell_type": "code",
   "execution_count": null,
   "metadata": {},
   "outputs": [],
   "source": [
    "probe = "
   ]
  },
  {
   "cell_type": "markdown",
   "metadata": {},
   "source": [
    "## Geometry of Truth Probes"
   ]
  },
  {
   "cell_type": "markdown",
   "metadata": {},
   "source": [
    "### Linear Probe"
   ]
  },
  {
   "cell_type": "code",
   "execution_count": 35,
   "metadata": {},
   "outputs": [],
   "source": [
    "from got_probes import LRProbe, MMProbe, CCSProbe"
   ]
  },
  {
   "cell_type": "code",
   "execution_count": 27,
   "metadata": {},
   "outputs": [
    {
     "name": "stderr",
     "output_type": "stream",
     "text": [
      "100%|█████████████████████████████████████████████████████████████████████████████████████████████████████████████████████████████████████████████████████████████████████████████████████████████████████████████████████████████████████| 1000/1000 [00:00<00:00, 2174.73it/s]\n"
     ]
    }
   ],
   "source": [
    "probe = LRProbe.from_data(easy_base.act[:, -1, :], easy_base.label_tensor.reshape(-1))"
   ]
  },
  {
   "cell_type": "code",
   "execution_count": 39,
   "metadata": {},
   "outputs": [
    {
     "name": "stderr",
     "output_type": "stream",
     "text": [
      "100%|█████████████████████████████████████████████████████████████████████████████████████████████████████████████████████████████████████████████████████████████████████████████████████████████████████████████████████████████████████| 1000/1000 [00:00<00:00, 3007.19it/s]\n"
     ]
    }
   ],
   "source": [
    "hard_lin_probe = LRProbe.from_data(hard_base.act[:, -1, :], hard_base.label_tensor.reshape(-1))"
   ]
  },
  {
   "cell_type": "code",
   "execution_count": 28,
   "metadata": {},
   "outputs": [
    {
     "name": "stdout",
     "output_type": "stream",
     "text": [
      "tensor(1.)\n"
     ]
    }
   ],
   "source": [
    "print(accuracy := (probe.pred(easy_base.act[:, -1, :]) == easy_base.label_tensor).float().mean())"
   ]
  },
  {
   "cell_type": "markdown",
   "metadata": {},
   "source": [
    "Note: we can get perfect accuracy because we have so few data points (99). I think we'd need more data than model dim (5126?) for correlations to mean anything."
   ]
  },
  {
   "cell_type": "code",
   "execution_count": 30,
   "metadata": {},
   "outputs": [],
   "source": [
    "test_accuracy = (probe.pred(hard_base.act[:, -1, :]) == hard_base.label_tensor).float().mean()"
   ]
  },
  {
   "cell_type": "code",
   "execution_count": 31,
   "metadata": {},
   "outputs": [
    {
     "name": "stdout",
     "output_type": "stream",
     "text": [
      "tensor(0.4848)\n"
     ]
    }
   ],
   "source": [
    "print(test_accuracy)"
   ]
  },
  {
   "cell_type": "markdown",
   "metadata": {},
   "source": [
    "### Mass Mean Probe"
   ]
  },
  {
   "cell_type": "code",
   "execution_count": 33,
   "metadata": {},
   "outputs": [],
   "source": [
    "import os\n",
    "os.environ[\"MKL_VERBOSE\"] = \"0\""
   ]
  },
  {
   "cell_type": "code",
   "execution_count": 36,
   "metadata": {},
   "outputs": [
    {
     "name": "stdout",
     "output_type": "stream",
     "text": [
      "Intel MKL WARNING: Support of Intel(R) Streaming SIMD Extensions 4.2 (Intel(R) SSE4.2) enabled only processors has been deprecated. Intel oneAPI Math Kernel Library 2025.0 will require Intel(R) Advanced Vector Extensions (Intel(R) AVX) instructions.\n",
      "Intel MKL WARNING: Support of Intel(R) Streaming SIMD Extensions 4.2 (Intel(R) SSE4.2) enabled only processors has been deprecated. Intel oneAPI Math Kernel Library 2025.0 will require Intel(R) Advanced Vector Extensions (Intel(R) AVX) instructions.\n",
      "Intel MKL WARNING: Support of Intel(R) Streaming SIMD Extensions 4.2 (Intel(R) SSE4.2) enabled only processors has been deprecated. Intel oneAPI Math Kernel Library 2025.0 will require Intel(R) Advanced Vector Extensions (Intel(R) AVX) instructions.\n",
      "Intel MKL WARNING: Support of Intel(R) Streaming SIMD Extensions 4.2 (Intel(R) SSE4.2) enabled only processors has been deprecated. Intel oneAPI Math Kernel Library 2025.0 will require Intel(R) Advanced Vector Extensions (Intel(R) AVX) instructions.\n",
      "Intel MKL WARNING: Support of Intel(R) Streaming SIMD Extensions 4.2 (Intel(R) SSE4.2) enabled only processors has been deprecated. Intel oneAPI Math Kernel Library 2025.0 will require Intel(R) Advanced Vector Extensions (Intel(R) AVX) instructions.\n",
      "Intel MKL WARNING: Support of Intel(R) Streaming SIMD Extensions 4.2 (Intel(R) SSE4.2) enabled only processors has been deprecated. Intel oneAPI Math Kernel Library 2025.0 will require Intel(R) Advanced Vector Extensions (Intel(R) AVX) instructions.\n",
      "Intel MKL WARNING: Support of Intel(R) Streaming SIMD Extensions 4.2 (Intel(R) SSE4.2) enabled only processors has been deprecated. Intel oneAPI Math Kernel Library 2025.0 will require Intel(R) Advanced Vector Extensions (Intel(R) AVX) instructions.\n",
      "Intel MKL WARNING: Support of Intel(R) Streaming SIMD Extensions 4.2 (Intel(R) SSE4.2) enabled only processors has been deprecated. Intel oneAPI Math Kernel Library 2025.0 will require Intel(R) Advanced Vector Extensions (Intel(R) AVX) instructions.\n",
      "Intel MKL WARNING: Support of Intel(R) Streaming SIMD Extensions 4.2 (Intel(R) SSE4.2) enabled only processors has been deprecated. Intel oneAPI Math Kernel Library 2025.0 will require Intel(R) Advanced Vector Extensions (Intel(R) AVX) instructions.\n",
      "Intel MKL WARNING: Support of Intel(R) Streaming SIMD Extensions 4.2 (Intel(R) SSE4.2) enabled only processors has been deprecated. Intel oneAPI Math Kernel Library 2025.0 will require Intel(R) Advanced Vector Extensions (Intel(R) AVX) instructions.\n",
      "Intel MKL WARNING: Support of Intel(R) Streaming SIMD Extensions 4.2 (Intel(R) SSE4.2) enabled only processors has been deprecated. Intel oneAPI Math Kernel Library 2025.0 will require Intel(R) Advanced Vector Extensions (Intel(R) AVX) instructions.\n",
      "Intel MKL WARNING: Support of Intel(R) Streaming SIMD Extensions 4.2 (Intel(R) SSE4.2) enabled only processors has been deprecated. Intel oneAPI Math Kernel Library 2025.0 will require Intel(R) Advanced Vector Extensions (Intel(R) AVX) instructions.\n",
      "Intel MKL WARNING: Support of Intel(R) Streaming SIMD Extensions 4.2 (Intel(R) SSE4.2) enabled only processors has been deprecated. Intel oneAPI Math Kernel Library 2025.0 will require Intel(R) Advanced Vector Extensions (Intel(R) AVX) instructions.\n",
      "Intel MKL WARNING: Support of Intel(R) Streaming SIMD Extensions 4.2 (Intel(R) SSE4.2) enabled only processors has been deprecated. Intel oneAPI Math Kernel Library 2025.0 will require Intel(R) Advanced Vector Extensions (Intel(R) AVX) instructions.\n",
      "Intel MKL WARNING: Support of Intel(R) Streaming SIMD Extensions 4.2 (Intel(R) SSE4.2) enabled only processors has been deprecated. Intel oneAPI Math Kernel Library 2025.0 will require Intel(R) Advanced Vector Extensions (Intel(R) AVX) instructions.\n",
      "Intel MKL WARNING: Support of Intel(R) Streaming SIMD Extensions 4.2 (Intel(R) SSE4.2) enabled only processors has been deprecated. Intel oneAPI Math Kernel Library 2025.0 will require Intel(R) Advanced Vector Extensions (Intel(R) AVX) instructions.\n",
      "Intel MKL WARNING: Support of Intel(R) Streaming SIMD Extensions 4.2 (Intel(R) SSE4.2) enabled only processors has been deprecated. Intel oneAPI Math Kernel Library 2025.0 will require Intel(R) Advanced Vector Extensions (Intel(R) AVX) instructions.\n",
      "Intel MKL WARNING: Support of Intel(R) Streaming SIMD Extensions 4.2 (Intel(R) SSE4.2) enabled only processors has been deprecated. Intel oneAPI Math Kernel Library 2025.0 will require Intel(R) Advanced Vector Extensions (Intel(R) AVX) instructions.\n",
      "Intel MKL WARNING: Support of Intel(R) Streaming SIMD Extensions 4.2 (Intel(R) SSE4.2) enabled only processors has been deprecated. Intel oneAPI Math Kernel Library 2025.0 will require Intel(R) Advanced Vector Extensions (Intel(R) AVX) instructions.\n",
      "Intel MKL WARNING: Support of Intel(R) Streaming SIMD Extensions 4.2 (Intel(R) SSE4.2) enabled only processors has been deprecated. Intel oneAPI Math Kernel Library 2025.0 will require Intel(R) Advanced Vector Extensions (Intel(R) AVX) instructions.\n",
      "Intel MKL WARNING: Support of Intel(R) Streaming SIMD Extensions 4.2 (Intel(R) SSE4.2) enabled only processors has been deprecated. Intel oneAPI Math Kernel Library 2025.0 will require Intel(R) Advanced Vector Extensions (Intel(R) AVX) instructions.\n",
      "Intel MKL WARNING: Support of Intel(R) Streaming SIMD Extensions 4.2 (Intel(R) SSE4.2) enabled only processors has been deprecated. Intel oneAPI Math Kernel Library 2025.0 will require Intel(R) Advanced Vector Extensions (Intel(R) AVX) instructions.\n",
      "Intel MKL WARNING: Support of Intel(R) Streaming SIMD Extensions 4.2 (Intel(R) SSE4.2) enabled only processors has been deprecated. Intel oneAPI Math Kernel Library 2025.0 will require Intel(R) Advanced Vector Extensions (Intel(R) AVX) instructions.\n",
      "Intel MKL WARNING: Support of Intel(R) Streaming SIMD Extensions 4.2 (Intel(R) SSE4.2) enabled only processors has been deprecated. Intel oneAPI Math Kernel Library 2025.0 will require Intel(R) Advanced Vector Extensions (Intel(R) AVX) instructions.\n",
      "Intel MKL WARNING: Support of Intel(R) Streaming SIMD Extensions 4.2 (Intel(R) SSE4.2) enabled only processors has been deprecated. Intel oneAPI Math Kernel Library 2025.0 will require Intel(R) Advanced Vector Extensions (Intel(R) AVX) instructions.\n",
      "Intel MKL WARNING: Support of Intel(R) Streaming SIMD Extensions 4.2 (Intel(R) SSE4.2) enabled only processors has been deprecated. Intel oneAPI Math Kernel Library 2025.0 will require Intel(R) Advanced Vector Extensions (Intel(R) AVX) instructions.\n",
      "Intel MKL WARNING: Support of Intel(R) Streaming SIMD Extensions 4.2 (Intel(R) SSE4.2) enabled only processors has been deprecated. Intel oneAPI Math Kernel Library 2025.0 will require Intel(R) Advanced Vector Extensions (Intel(R) AVX) instructions.\n",
      "Intel MKL WARNING: Support of Intel(R) Streaming SIMD Extensions 4.2 (Intel(R) SSE4.2) enabled only processors has been deprecated. Intel oneAPI Math Kernel Library 2025.0 will require Intel(R) Advanced Vector Extensions (Intel(R) AVX) instructions.\n",
      "Intel MKL WARNING: Support of Intel(R) Streaming SIMD Extensions 4.2 (Intel(R) SSE4.2) enabled only processors has been deprecated. Intel oneAPI Math Kernel Library 2025.0 will require Intel(R) Advanced Vector Extensions (Intel(R) AVX) instructions.\n",
      "Intel MKL WARNING: Support of Intel(R) Streaming SIMD Extensions 4.2 (Intel(R) SSE4.2) enabled only processors has been deprecated. Intel oneAPI Math Kernel Library 2025.0 will require Intel(R) Advanced Vector Extensions (Intel(R) AVX) instructions.\n",
      "Intel MKL WARNING: Support of Intel(R) Streaming SIMD Extensions 4.2 (Intel(R) SSE4.2) enabled only processors has been deprecated. Intel oneAPI Math Kernel Library 2025.0 will require Intel(R) Advanced Vector Extensions (Intel(R) AVX) instructions.\n",
      "Intel MKL WARNING: Support of Intel(R) Streaming SIMD Extensions 4.2 (Intel(R) SSE4.2) enabled only processors has been deprecated. Intel oneAPI Math Kernel Library 2025.0 will require Intel(R) Advanced Vector Extensions (Intel(R) AVX) instructions.\n",
      "Intel MKL WARNING: Support of Intel(R) Streaming SIMD Extensions 4.2 (Intel(R) SSE4.2) enabled only processors has been deprecated. Intel oneAPI Math Kernel Library 2025.0 will require Intel(R) Advanced Vector Extensions (Intel(R) AVX) instructions.\n",
      "Intel MKL WARNING: Support of Intel(R) Streaming SIMD Extensions 4.2 (Intel(R) SSE4.2) enabled only processors has been deprecated. Intel oneAPI Math Kernel Library 2025.0 will require Intel(R) Advanced Vector Extensions (Intel(R) AVX) instructions.\n",
      "Intel MKL WARNING: Support of Intel(R) Streaming SIMD Extensions 4.2 (Intel(R) SSE4.2) enabled only processors has been deprecated. Intel oneAPI Math Kernel Library 2025.0 will require Intel(R) Advanced Vector Extensions (Intel(R) AVX) instructions.\n",
      "Intel MKL WARNING: Support of Intel(R) Streaming SIMD Extensions 4.2 (Intel(R) SSE4.2) enabled only processors has been deprecated. Intel oneAPI Math Kernel Library 2025.0 will require Intel(R) Advanced Vector Extensions (Intel(R) AVX) instructions.\n",
      "Intel MKL WARNING: Support of Intel(R) Streaming SIMD Extensions 4.2 (Intel(R) SSE4.2) enabled only processors has been deprecated. Intel oneAPI Math Kernel Library 2025.0 will require Intel(R) Advanced Vector Extensions (Intel(R) AVX) instructions.\n",
      "Intel MKL WARNING: Support of Intel(R) Streaming SIMD Extensions 4.2 (Intel(R) SSE4.2) enabled only processors has been deprecated. Intel oneAPI Math Kernel Library 2025.0 will require Intel(R) Advanced Vector Extensions (Intel(R) AVX) instructions.\n",
      "Intel MKL WARNING: Support of Intel(R) Streaming SIMD Extensions 4.2 (Intel(R) SSE4.2) enabled only processors has been deprecated. Intel oneAPI Math Kernel Library 2025.0 will require Intel(R) Advanced Vector Extensions (Intel(R) AVX) instructions.\n",
      "Intel MKL WARNING: Support of Intel(R) Streaming SIMD Extensions 4.2 (Intel(R) SSE4.2) enabled only processors has been deprecated. Intel oneAPI Math Kernel Library 2025.0 will require Intel(R) Advanced Vector Extensions (Intel(R) AVX) instructions.\n",
      "Intel MKL WARNING: Support of Intel(R) Streaming SIMD Extensions 4.2 (Intel(R) SSE4.2) enabled only processors has been deprecated. Intel oneAPI Math Kernel Library 2025.0 will require Intel(R) Advanced Vector Extensions (Intel(R) AVX) instructions.\n",
      "Intel MKL WARNING: Support of Intel(R) Streaming SIMD Extensions 4.2 (Intel(R) SSE4.2) enabled only processors has been deprecated. Intel oneAPI Math Kernel Library 2025.0 will require Intel(R) Advanced Vector Extensions (Intel(R) AVX) instructions.\n",
      "Intel MKL WARNING: Support of Intel(R) Streaming SIMD Extensions 4.2 (Intel(R) SSE4.2) enabled only processors has been deprecated. Intel oneAPI Math Kernel Library 2025.0 will require Intel(R) Advanced Vector Extensions (Intel(R) AVX) instructions.\n",
      "Intel MKL WARNING: Support of Intel(R) Streaming SIMD Extensions 4.2 (Intel(R) SSE4.2) enabled only processors has been deprecated. Intel oneAPI Math Kernel Library 2025.0 will require Intel(R) Advanced Vector Extensions (Intel(R) AVX) instructions.\n",
      "Intel MKL WARNING: Support of Intel(R) Streaming SIMD Extensions 4.2 (Intel(R) SSE4.2) enabled only processors has been deprecated. Intel oneAPI Math Kernel Library 2025.0 will require Intel(R) Advanced Vector Extensions (Intel(R) AVX) instructions.\n",
      "Intel MKL WARNING: Support of Intel(R) Streaming SIMD Extensions 4.2 (Intel(R) SSE4.2) enabled only processors has been deprecated. Intel oneAPI Math Kernel Library 2025.0 will require Intel(R) Advanced Vector Extensions (Intel(R) AVX) instructions.\n",
      "Intel MKL WARNING: Support of Intel(R) Streaming SIMD Extensions 4.2 (Intel(R) SSE4.2) enabled only processors has been deprecated. Intel oneAPI Math Kernel Library 2025.0 will require Intel(R) Advanced Vector Extensions (Intel(R) AVX) instructions.\n",
      "Intel MKL WARNING: Support of Intel(R) Streaming SIMD Extensions 4.2 (Intel(R) SSE4.2) enabled only processors has been deprecated. Intel oneAPI Math Kernel Library 2025.0 will require Intel(R) Advanced Vector Extensions (Intel(R) AVX) instructions.\n",
      "Intel MKL WARNING: Support of Intel(R) Streaming SIMD Extensions 4.2 (Intel(R) SSE4.2) enabled only processors has been deprecated. Intel oneAPI Math Kernel Library 2025.0 will require Intel(R) Advanced Vector Extensions (Intel(R) AVX) instructions.\n",
      "Intel MKL WARNING: Support of Intel(R) Streaming SIMD Extensions 4.2 (Intel(R) SSE4.2) enabled only processors has been deprecated. Intel oneAPI Math Kernel Library 2025.0 will require Intel(R) Advanced Vector Extensions (Intel(R) AVX) instructions.\n",
      "Intel MKL WARNING: Support of Intel(R) Streaming SIMD Extensions 4.2 (Intel(R) SSE4.2) enabled only processors has been deprecated. Intel oneAPI Math Kernel Library 2025.0 will require Intel(R) Advanced Vector Extensions (Intel(R) AVX) instructions.\n",
      "Intel MKL WARNING: Support of Intel(R) Streaming SIMD Extensions 4.2 (Intel(R) SSE4.2) enabled only processors has been deprecated. Intel oneAPI Math Kernel Library 2025.0 will require Intel(R) Advanced Vector Extensions (Intel(R) AVX) instructions.\n",
      "Intel MKL WARNING: Support of Intel(R) Streaming SIMD Extensions 4.2 (Intel(R) SSE4.2) enabled only processors has been deprecated. Intel oneAPI Math Kernel Library 2025.0 will require Intel(R) Advanced Vector Extensions (Intel(R) AVX) instructions.\n",
      "Intel MKL WARNING: Support of Intel(R) Streaming SIMD Extensions 4.2 (Intel(R) SSE4.2) enabled only processors has been deprecated. Intel oneAPI Math Kernel Library 2025.0 will require Intel(R) Advanced Vector Extensions (Intel(R) AVX) instructions.\n",
      "Intel MKL WARNING: Support of Intel(R) Streaming SIMD Extensions 4.2 (Intel(R) SSE4.2) enabled only processors has been deprecated. Intel oneAPI Math Kernel Library 2025.0 will require Intel(R) Advanced Vector Extensions (Intel(R) AVX) instructions.\n",
      "Intel MKL WARNING: Support of Intel(R) Streaming SIMD Extensions 4.2 (Intel(R) SSE4.2) enabled only processors has been deprecated. Intel oneAPI Math Kernel Library 2025.0 will require Intel(R) Advanced Vector Extensions (Intel(R) AVX) instructions.\n",
      "Intel MKL WARNING: Support of Intel(R) Streaming SIMD Extensions 4.2 (Intel(R) SSE4.2) enabled only processors has been deprecated. Intel oneAPI Math Kernel Library 2025.0 will require Intel(R) Advanced Vector Extensions (Intel(R) AVX) instructions.\n",
      "Intel MKL WARNING: Support of Intel(R) Streaming SIMD Extensions 4.2 (Intel(R) SSE4.2) enabled only processors has been deprecated. Intel oneAPI Math Kernel Library 2025.0 will require Intel(R) Advanced Vector Extensions (Intel(R) AVX) instructions.\n",
      "Intel MKL WARNING: Support of Intel(R) Streaming SIMD Extensions 4.2 (Intel(R) SSE4.2) enabled only processors has been deprecated. Intel oneAPI Math Kernel Library 2025.0 will require Intel(R) Advanced Vector Extensions (Intel(R) AVX) instructions.\n",
      "Intel MKL WARNING: Support of Intel(R) Streaming SIMD Extensions 4.2 (Intel(R) SSE4.2) enabled only processors has been deprecated. Intel oneAPI Math Kernel Library 2025.0 will require Intel(R) Advanced Vector Extensions (Intel(R) AVX) instructions.\n",
      "Intel MKL WARNING: Support of Intel(R) Streaming SIMD Extensions 4.2 (Intel(R) SSE4.2) enabled only processors has been deprecated. Intel oneAPI Math Kernel Library 2025.0 will require Intel(R) Advanced Vector Extensions (Intel(R) AVX) instructions.\n",
      "Intel MKL WARNING: Support of Intel(R) Streaming SIMD Extensions 4.2 (Intel(R) SSE4.2) enabled only processors has been deprecated. Intel oneAPI Math Kernel Library 2025.0 will require Intel(R) Advanced Vector Extensions (Intel(R) AVX) instructions.\n",
      "Intel MKL WARNING: Support of Intel(R) Streaming SIMD Extensions 4.2 (Intel(R) SSE4.2) enabled only processors has been deprecated. Intel oneAPI Math Kernel Library 2025.0 will require Intel(R) Advanced Vector Extensions (Intel(R) AVX) instructions.\n",
      "Intel MKL WARNING: Support of Intel(R) Streaming SIMD Extensions 4.2 (Intel(R) SSE4.2) enabled only processors has been deprecated. Intel oneAPI Math Kernel Library 2025.0 will require Intel(R) Advanced Vector Extensions (Intel(R) AVX) instructions.\n",
      "Intel MKL WARNING: Support of Intel(R) Streaming SIMD Extensions 4.2 (Intel(R) SSE4.2) enabled only processors has been deprecated. Intel oneAPI Math Kernel Library 2025.0 will require Intel(R) Advanced Vector Extensions (Intel(R) AVX) instructions.\n",
      "Intel MKL WARNING: Support of Intel(R) Streaming SIMD Extensions 4.2 (Intel(R) SSE4.2) enabled only processors has been deprecated. Intel oneAPI Math Kernel Library 2025.0 will require Intel(R) Advanced Vector Extensions (Intel(R) AVX) instructions.\n",
      "Intel MKL WARNING: Support of Intel(R) Streaming SIMD Extensions 4.2 (Intel(R) SSE4.2) enabled only processors has been deprecated. Intel oneAPI Math Kernel Library 2025.0 will require Intel(R) Advanced Vector Extensions (Intel(R) AVX) instructions.\n",
      "Intel MKL WARNING: Support of Intel(R) Streaming SIMD Extensions 4.2 (Intel(R) SSE4.2) enabled only processors has been deprecated. Intel oneAPI Math Kernel Library 2025.0 will require Intel(R) Advanced Vector Extensions (Intel(R) AVX) instructions.\n",
      "Intel MKL WARNING: Support of Intel(R) Streaming SIMD Extensions 4.2 (Intel(R) SSE4.2) enabled only processors has been deprecated. Intel oneAPI Math Kernel Library 2025.0 will require Intel(R) Advanced Vector Extensions (Intel(R) AVX) instructions.\n",
      "Intel MKL WARNING: Support of Intel(R) Streaming SIMD Extensions 4.2 (Intel(R) SSE4.2) enabled only processors has been deprecated. Intel oneAPI Math Kernel Library 2025.0 will require Intel(R) Advanced Vector Extensions (Intel(R) AVX) instructions.\n",
      "Intel MKL WARNING: Support of Intel(R) Streaming SIMD Extensions 4.2 (Intel(R) SSE4.2) enabled only processors has been deprecated. Intel oneAPI Math Kernel Library 2025.0 will require Intel(R) Advanced Vector Extensions (Intel(R) AVX) instructions.\n",
      "Intel MKL WARNING: Support of Intel(R) Streaming SIMD Extensions 4.2 (Intel(R) SSE4.2) enabled only processors has been deprecated. Intel oneAPI Math Kernel Library 2025.0 will require Intel(R) Advanced Vector Extensions (Intel(R) AVX) instructions.\n",
      "Intel MKL WARNING: Support of Intel(R) Streaming SIMD Extensions 4.2 (Intel(R) SSE4.2) enabled only processors has been deprecated. Intel oneAPI Math Kernel Library 2025.0 will require Intel(R) Advanced Vector Extensions (Intel(R) AVX) instructions.\n",
      "Intel MKL WARNING: Support of Intel(R) Streaming SIMD Extensions 4.2 (Intel(R) SSE4.2) enabled only processors has been deprecated. Intel oneAPI Math Kernel Library 2025.0 will require Intel(R) Advanced Vector Extensions (Intel(R) AVX) instructions.\n",
      "Intel MKL WARNING: Support of Intel(R) Streaming SIMD Extensions 4.2 (Intel(R) SSE4.2) enabled only processors has been deprecated. Intel oneAPI Math Kernel Library 2025.0 will require Intel(R) Advanced Vector Extensions (Intel(R) AVX) instructions.\n",
      "Intel MKL WARNING: Support of Intel(R) Streaming SIMD Extensions 4.2 (Intel(R) SSE4.2) enabled only processors has been deprecated. Intel oneAPI Math Kernel Library 2025.0 will require Intel(R) Advanced Vector Extensions (Intel(R) AVX) instructions.\n",
      "Intel MKL WARNING: Support of Intel(R) Streaming SIMD Extensions 4.2 (Intel(R) SSE4.2) enabled only processors has been deprecated. Intel oneAPI Math Kernel Library 2025.0 will require Intel(R) Advanced Vector Extensions (Intel(R) AVX) instructions.\n",
      "Intel MKL WARNING: Support of Intel(R) Streaming SIMD Extensions 4.2 (Intel(R) SSE4.2) enabled only processors has been deprecated. Intel oneAPI Math Kernel Library 2025.0 will require Intel(R) Advanced Vector Extensions (Intel(R) AVX) instructions.\n",
      "Intel MKL WARNING: Support of Intel(R) Streaming SIMD Extensions 4.2 (Intel(R) SSE4.2) enabled only processors has been deprecated. Intel oneAPI Math Kernel Library 2025.0 will require Intel(R) Advanced Vector Extensions (Intel(R) AVX) instructions.\n",
      "Intel MKL WARNING: Support of Intel(R) Streaming SIMD Extensions 4.2 (Intel(R) SSE4.2) enabled only processors has been deprecated. Intel oneAPI Math Kernel Library 2025.0 will require Intel(R) Advanced Vector Extensions (Intel(R) AVX) instructions.\n",
      "Intel MKL WARNING: Support of Intel(R) Streaming SIMD Extensions 4.2 (Intel(R) SSE4.2) enabled only processors has been deprecated. Intel oneAPI Math Kernel Library 2025.0 will require Intel(R) Advanced Vector Extensions (Intel(R) AVX) instructions.\n",
      "Intel MKL WARNING: Support of Intel(R) Streaming SIMD Extensions 4.2 (Intel(R) SSE4.2) enabled only processors has been deprecated. Intel oneAPI Math Kernel Library 2025.0 will require Intel(R) Advanced Vector Extensions (Intel(R) AVX) instructions.\n",
      "Intel MKL WARNING: Support of Intel(R) Streaming SIMD Extensions 4.2 (Intel(R) SSE4.2) enabled only processors has been deprecated. Intel oneAPI Math Kernel Library 2025.0 will require Intel(R) Advanced Vector Extensions (Intel(R) AVX) instructions.\n",
      "Intel MKL WARNING: Support of Intel(R) Streaming SIMD Extensions 4.2 (Intel(R) SSE4.2) enabled only processors has been deprecated. Intel oneAPI Math Kernel Library 2025.0 will require Intel(R) Advanced Vector Extensions (Intel(R) AVX) instructions.\n",
      "Intel MKL WARNING: Support of Intel(R) Streaming SIMD Extensions 4.2 (Intel(R) SSE4.2) enabled only processors has been deprecated. Intel oneAPI Math Kernel Library 2025.0 will require Intel(R) Advanced Vector Extensions (Intel(R) AVX) instructions.\n",
      "Intel MKL WARNING: Support of Intel(R) Streaming SIMD Extensions 4.2 (Intel(R) SSE4.2) enabled only processors has been deprecated. Intel oneAPI Math Kernel Library 2025.0 will require Intel(R) Advanced Vector Extensions (Intel(R) AVX) instructions.\n",
      "Intel MKL WARNING: Support of Intel(R) Streaming SIMD Extensions 4.2 (Intel(R) SSE4.2) enabled only processors has been deprecated. Intel oneAPI Math Kernel Library 2025.0 will require Intel(R) Advanced Vector Extensions (Intel(R) AVX) instructions.\n",
      "Intel MKL WARNING: Support of Intel(R) Streaming SIMD Extensions 4.2 (Intel(R) SSE4.2) enabled only processors has been deprecated. Intel oneAPI Math Kernel Library 2025.0 will require Intel(R) Advanced Vector Extensions (Intel(R) AVX) instructions.\n",
      "Intel MKL WARNING: Support of Intel(R) Streaming SIMD Extensions 4.2 (Intel(R) SSE4.2) enabled only processors has been deprecated. Intel oneAPI Math Kernel Library 2025.0 will require Intel(R) Advanced Vector Extensions (Intel(R) AVX) instructions.\n",
      "Intel MKL WARNING: Support of Intel(R) Streaming SIMD Extensions 4.2 (Intel(R) SSE4.2) enabled only processors has been deprecated. Intel oneAPI Math Kernel Library 2025.0 will require Intel(R) Advanced Vector Extensions (Intel(R) AVX) instructions.\n",
      "Intel MKL WARNING: Support of Intel(R) Streaming SIMD Extensions 4.2 (Intel(R) SSE4.2) enabled only processors has been deprecated. Intel oneAPI Math Kernel Library 2025.0 will require Intel(R) Advanced Vector Extensions (Intel(R) AVX) instructions.\n",
      "Intel MKL WARNING: Support of Intel(R) Streaming SIMD Extensions 4.2 (Intel(R) SSE4.2) enabled only processors has been deprecated. Intel oneAPI Math Kernel Library 2025.0 will require Intel(R) Advanced Vector Extensions (Intel(R) AVX) instructions.\n",
      "Intel MKL WARNING: Support of Intel(R) Streaming SIMD Extensions 4.2 (Intel(R) SSE4.2) enabled only processors has been deprecated. Intel oneAPI Math Kernel Library 2025.0 will require Intel(R) Advanced Vector Extensions (Intel(R) AVX) instructions.\n",
      "Intel MKL WARNING: Support of Intel(R) Streaming SIMD Extensions 4.2 (Intel(R) SSE4.2) enabled only processors has been deprecated. Intel oneAPI Math Kernel Library 2025.0 will require Intel(R) Advanced Vector Extensions (Intel(R) AVX) instructions.\n",
      "Intel MKL WARNING: Support of Intel(R) Streaming SIMD Extensions 4.2 (Intel(R) SSE4.2) enabled only processors has been deprecated. Intel oneAPI Math Kernel Library 2025.0 will require Intel(R) Advanced Vector Extensions (Intel(R) AVX) instructions.\n",
      "Intel MKL WARNING: Support of Intel(R) Streaming SIMD Extensions 4.2 (Intel(R) SSE4.2) enabled only processors has been deprecated. Intel oneAPI Math Kernel Library 2025.0 will require Intel(R) Advanced Vector Extensions (Intel(R) AVX) instructions.\n",
      "Intel MKL WARNING: Support of Intel(R) Streaming SIMD Extensions 4.2 (Intel(R) SSE4.2) enabled only processors has been deprecated. Intel oneAPI Math Kernel Library 2025.0 will require Intel(R) Advanced Vector Extensions (Intel(R) AVX) instructions.\n",
      "Intel MKL WARNING: Support of Intel(R) Streaming SIMD Extensions 4.2 (Intel(R) SSE4.2) enabled only processors has been deprecated. Intel oneAPI Math Kernel Library 2025.0 will require Intel(R) Advanced Vector Extensions (Intel(R) AVX) instructions.\n",
      "Intel MKL WARNING: Support of Intel(R) Streaming SIMD Extensions 4.2 (Intel(R) SSE4.2) enabled only processors has been deprecated. Intel oneAPI Math Kernel Library 2025.0 will require Intel(R) Advanced Vector Extensions (Intel(R) AVX) instructions.\n",
      "Intel MKL WARNING: Support of Intel(R) Streaming SIMD Extensions 4.2 (Intel(R) SSE4.2) enabled only processors has been deprecated. Intel oneAPI Math Kernel Library 2025.0 will require Intel(R) Advanced Vector Extensions (Intel(R) AVX) instructions.\n",
      "Intel MKL WARNING: Support of Intel(R) Streaming SIMD Extensions 4.2 (Intel(R) SSE4.2) enabled only processors has been deprecated. Intel oneAPI Math Kernel Library 2025.0 will require Intel(R) Advanced Vector Extensions (Intel(R) AVX) instructions.\n",
      "Intel MKL WARNING: Support of Intel(R) Streaming SIMD Extensions 4.2 (Intel(R) SSE4.2) enabled only processors has been deprecated. Intel oneAPI Math Kernel Library 2025.0 will require Intel(R) Advanced Vector Extensions (Intel(R) AVX) instructions.\n",
      "Intel MKL WARNING: Support of Intel(R) Streaming SIMD Extensions 4.2 (Intel(R) SSE4.2) enabled only processors has been deprecated. Intel oneAPI Math Kernel Library 2025.0 will require Intel(R) Advanced Vector Extensions (Intel(R) AVX) instructions.\n",
      "Intel MKL WARNING: Support of Intel(R) Streaming SIMD Extensions 4.2 (Intel(R) SSE4.2) enabled only processors has been deprecated. Intel oneAPI Math Kernel Library 2025.0 will require Intel(R) Advanced Vector Extensions (Intel(R) AVX) instructions.\n",
      "Intel MKL WARNING: Support of Intel(R) Streaming SIMD Extensions 4.2 (Intel(R) SSE4.2) enabled only processors has been deprecated. Intel oneAPI Math Kernel Library 2025.0 will require Intel(R) Advanced Vector Extensions (Intel(R) AVX) instructions.\n",
      "Intel MKL WARNING: Support of Intel(R) Streaming SIMD Extensions 4.2 (Intel(R) SSE4.2) enabled only processors has been deprecated. Intel oneAPI Math Kernel Library 2025.0 will require Intel(R) Advanced Vector Extensions (Intel(R) AVX) instructions.\n",
      "Intel MKL WARNING: Support of Intel(R) Streaming SIMD Extensions 4.2 (Intel(R) SSE4.2) enabled only processors has been deprecated. Intel oneAPI Math Kernel Library 2025.0 will require Intel(R) Advanced Vector Extensions (Intel(R) AVX) instructions.\n",
      "Intel MKL WARNING: Support of Intel(R) Streaming SIMD Extensions 4.2 (Intel(R) SSE4.2) enabled only processors has been deprecated. Intel oneAPI Math Kernel Library 2025.0 will require Intel(R) Advanced Vector Extensions (Intel(R) AVX) instructions.\n",
      "Intel MKL WARNING: Support of Intel(R) Streaming SIMD Extensions 4.2 (Intel(R) SSE4.2) enabled only processors has been deprecated. Intel oneAPI Math Kernel Library 2025.0 will require Intel(R) Advanced Vector Extensions (Intel(R) AVX) instructions.\n",
      "Intel MKL WARNING: Support of Intel(R) Streaming SIMD Extensions 4.2 (Intel(R) SSE4.2) enabled only processors has been deprecated. Intel oneAPI Math Kernel Library 2025.0 will require Intel(R) Advanced Vector Extensions (Intel(R) AVX) instructions.\n",
      "Intel MKL WARNING: Support of Intel(R) Streaming SIMD Extensions 4.2 (Intel(R) SSE4.2) enabled only processors has been deprecated. Intel oneAPI Math Kernel Library 2025.0 will require Intel(R) Advanced Vector Extensions (Intel(R) AVX) instructions.\n",
      "Intel MKL WARNING: Support of Intel(R) Streaming SIMD Extensions 4.2 (Intel(R) SSE4.2) enabled only processors has been deprecated. Intel oneAPI Math Kernel Library 2025.0 will require Intel(R) Advanced Vector Extensions (Intel(R) AVX) instructions.\n",
      "Intel MKL WARNING: Support of Intel(R) Streaming SIMD Extensions 4.2 (Intel(R) SSE4.2) enabled only processors has been deprecated. Intel oneAPI Math Kernel Library 2025.0 will require Intel(R) Advanced Vector Extensions (Intel(R) AVX) instructions.\n",
      "Intel MKL WARNING: Support of Intel(R) Streaming SIMD Extensions 4.2 (Intel(R) SSE4.2) enabled only processors has been deprecated. Intel oneAPI Math Kernel Library 2025.0 will require Intel(R) Advanced Vector Extensions (Intel(R) AVX) instructions.\n",
      "Intel MKL WARNING: Support of Intel(R) Streaming SIMD Extensions 4.2 (Intel(R) SSE4.2) enabled only processors has been deprecated. Intel oneAPI Math Kernel Library 2025.0 will require Intel(R) Advanced Vector Extensions (Intel(R) AVX) instructions.\n",
      "Intel MKL WARNING: Support of Intel(R) Streaming SIMD Extensions 4.2 (Intel(R) SSE4.2) enabled only processors has been deprecated. Intel oneAPI Math Kernel Library 2025.0 will require Intel(R) Advanced Vector Extensions (Intel(R) AVX) instructions.\n",
      "Intel MKL WARNING: Support of Intel(R) Streaming SIMD Extensions 4.2 (Intel(R) SSE4.2) enabled only processors has been deprecated. Intel oneAPI Math Kernel Library 2025.0 will require Intel(R) Advanced Vector Extensions (Intel(R) AVX) instructions.\n",
      "Intel MKL WARNING: Support of Intel(R) Streaming SIMD Extensions 4.2 (Intel(R) SSE4.2) enabled only processors has been deprecated. Intel oneAPI Math Kernel Library 2025.0 will require Intel(R) Advanced Vector Extensions (Intel(R) AVX) instructions.\n",
      "Intel MKL WARNING: Support of Intel(R) Streaming SIMD Extensions 4.2 (Intel(R) SSE4.2) enabled only processors has been deprecated. Intel oneAPI Math Kernel Library 2025.0 will require Intel(R) Advanced Vector Extensions (Intel(R) AVX) instructions.\n",
      "Intel MKL WARNING: Support of Intel(R) Streaming SIMD Extensions 4.2 (Intel(R) SSE4.2) enabled only processors has been deprecated. Intel oneAPI Math Kernel Library 2025.0 will require Intel(R) Advanced Vector Extensions (Intel(R) AVX) instructions.\n",
      "Intel MKL WARNING: Support of Intel(R) Streaming SIMD Extensions 4.2 (Intel(R) SSE4.2) enabled only processors has been deprecated. Intel oneAPI Math Kernel Library 2025.0 will require Intel(R) Advanced Vector Extensions (Intel(R) AVX) instructions.\n",
      "Intel MKL WARNING: Support of Intel(R) Streaming SIMD Extensions 4.2 (Intel(R) SSE4.2) enabled only processors has been deprecated. Intel oneAPI Math Kernel Library 2025.0 will require Intel(R) Advanced Vector Extensions (Intel(R) AVX) instructions.\n",
      "Intel MKL WARNING: Support of Intel(R) Streaming SIMD Extensions 4.2 (Intel(R) SSE4.2) enabled only processors has been deprecated. Intel oneAPI Math Kernel Library 2025.0 will require Intel(R) Advanced Vector Extensions (Intel(R) AVX) instructions.\n",
      "Intel MKL WARNING: Support of Intel(R) Streaming SIMD Extensions 4.2 (Intel(R) SSE4.2) enabled only processors has been deprecated. Intel oneAPI Math Kernel Library 2025.0 will require Intel(R) Advanced Vector Extensions (Intel(R) AVX) instructions.\n",
      "Intel MKL WARNING: Support of Intel(R) Streaming SIMD Extensions 4.2 (Intel(R) SSE4.2) enabled only processors has been deprecated. Intel oneAPI Math Kernel Library 2025.0 will require Intel(R) Advanced Vector Extensions (Intel(R) AVX) instructions.\n",
      "Intel MKL WARNING: Support of Intel(R) Streaming SIMD Extensions 4.2 (Intel(R) SSE4.2) enabled only processors has been deprecated. Intel oneAPI Math Kernel Library 2025.0 will require Intel(R) Advanced Vector Extensions (Intel(R) AVX) instructions.\n",
      "Intel MKL WARNING: Support of Intel(R) Streaming SIMD Extensions 4.2 (Intel(R) SSE4.2) enabled only processors has been deprecated. Intel oneAPI Math Kernel Library 2025.0 will require Intel(R) Advanced Vector Extensions (Intel(R) AVX) instructions.\n",
      "Intel MKL WARNING: Support of Intel(R) Streaming SIMD Extensions 4.2 (Intel(R) SSE4.2) enabled only processors has been deprecated. Intel oneAPI Math Kernel Library 2025.0 will require Intel(R) Advanced Vector Extensions (Intel(R) AVX) instructions.\n",
      "Intel MKL WARNING: Support of Intel(R) Streaming SIMD Extensions 4.2 (Intel(R) SSE4.2) enabled only processors has been deprecated. Intel oneAPI Math Kernel Library 2025.0 will require Intel(R) Advanced Vector Extensions (Intel(R) AVX) instructions.\n",
      "Intel MKL WARNING: Support of Intel(R) Streaming SIMD Extensions 4.2 (Intel(R) SSE4.2) enabled only processors has been deprecated. Intel oneAPI Math Kernel Library 2025.0 will require Intel(R) Advanced Vector Extensions (Intel(R) AVX) instructions.\n",
      "Intel MKL WARNING: Support of Intel(R) Streaming SIMD Extensions 4.2 (Intel(R) SSE4.2) enabled only processors has been deprecated. Intel oneAPI Math Kernel Library 2025.0 will require Intel(R) Advanced Vector Extensions (Intel(R) AVX) instructions.\n",
      "Intel MKL WARNING: Support of Intel(R) Streaming SIMD Extensions 4.2 (Intel(R) SSE4.2) enabled only processors has been deprecated. Intel oneAPI Math Kernel Library 2025.0 will require Intel(R) Advanced Vector Extensions (Intel(R) AVX) instructions.\n",
      "Intel MKL WARNING: Support of Intel(R) Streaming SIMD Extensions 4.2 (Intel(R) SSE4.2) enabled only processors has been deprecated. Intel oneAPI Math Kernel Library 2025.0 will require Intel(R) Advanced Vector Extensions (Intel(R) AVX) instructions.\n",
      "Intel MKL WARNING: Support of Intel(R) Streaming SIMD Extensions 4.2 (Intel(R) SSE4.2) enabled only processors has been deprecated. Intel oneAPI Math Kernel Library 2025.0 will require Intel(R) Advanced Vector Extensions (Intel(R) AVX) instructions.\n",
      "Intel MKL WARNING: Support of Intel(R) Streaming SIMD Extensions 4.2 (Intel(R) SSE4.2) enabled only processors has been deprecated. Intel oneAPI Math Kernel Library 2025.0 will require Intel(R) Advanced Vector Extensions (Intel(R) AVX) instructions.\n",
      "Intel MKL WARNING: Support of Intel(R) Streaming SIMD Extensions 4.2 (Intel(R) SSE4.2) enabled only processors has been deprecated. Intel oneAPI Math Kernel Library 2025.0 will require Intel(R) Advanced Vector Extensions (Intel(R) AVX) instructions.\n",
      "Intel MKL WARNING: Support of Intel(R) Streaming SIMD Extensions 4.2 (Intel(R) SSE4.2) enabled only processors has been deprecated. Intel oneAPI Math Kernel Library 2025.0 will require Intel(R) Advanced Vector Extensions (Intel(R) AVX) instructions.\n",
      "Intel MKL WARNING: Support of Intel(R) Streaming SIMD Extensions 4.2 (Intel(R) SSE4.2) enabled only processors has been deprecated. Intel oneAPI Math Kernel Library 2025.0 will require Intel(R) Advanced Vector Extensions (Intel(R) AVX) instructions.\n",
      "Intel MKL WARNING: Support of Intel(R) Streaming SIMD Extensions 4.2 (Intel(R) SSE4.2) enabled only processors has been deprecated. Intel oneAPI Math Kernel Library 2025.0 will require Intel(R) Advanced Vector Extensions (Intel(R) AVX) instructions.\n",
      "Intel MKL WARNING: Support of Intel(R) Streaming SIMD Extensions 4.2 (Intel(R) SSE4.2) enabled only processors has been deprecated. Intel oneAPI Math Kernel Library 2025.0 will require Intel(R) Advanced Vector Extensions (Intel(R) AVX) instructions.\n",
      "Intel MKL WARNING: Support of Intel(R) Streaming SIMD Extensions 4.2 (Intel(R) SSE4.2) enabled only processors has been deprecated. Intel oneAPI Math Kernel Library 2025.0 will require Intel(R) Advanced Vector Extensions (Intel(R) AVX) instructions.\n",
      "Intel MKL WARNING: Support of Intel(R) Streaming SIMD Extensions 4.2 (Intel(R) SSE4.2) enabled only processors has been deprecated. Intel oneAPI Math Kernel Library 2025.0 will require Intel(R) Advanced Vector Extensions (Intel(R) AVX) instructions.\n",
      "Intel MKL WARNING: Support of Intel(R) Streaming SIMD Extensions 4.2 (Intel(R) SSE4.2) enabled only processors has been deprecated. Intel oneAPI Math Kernel Library 2025.0 will require Intel(R) Advanced Vector Extensions (Intel(R) AVX) instructions.\n",
      "Intel MKL WARNING: Support of Intel(R) Streaming SIMD Extensions 4.2 (Intel(R) SSE4.2) enabled only processors has been deprecated. Intel oneAPI Math Kernel Library 2025.0 will require Intel(R) Advanced Vector Extensions (Intel(R) AVX) instructions.\n",
      "Intel MKL WARNING: Support of Intel(R) Streaming SIMD Extensions 4.2 (Intel(R) SSE4.2) enabled only processors has been deprecated. Intel oneAPI Math Kernel Library 2025.0 will require Intel(R) Advanced Vector Extensions (Intel(R) AVX) instructions.\n",
      "Intel MKL WARNING: Support of Intel(R) Streaming SIMD Extensions 4.2 (Intel(R) SSE4.2) enabled only processors has been deprecated. Intel oneAPI Math Kernel Library 2025.0 will require Intel(R) Advanced Vector Extensions (Intel(R) AVX) instructions.\n",
      "Intel MKL WARNING: Support of Intel(R) Streaming SIMD Extensions 4.2 (Intel(R) SSE4.2) enabled only processors has been deprecated. Intel oneAPI Math Kernel Library 2025.0 will require Intel(R) Advanced Vector Extensions (Intel(R) AVX) instructions.\n",
      "Intel MKL WARNING: Support of Intel(R) Streaming SIMD Extensions 4.2 (Intel(R) SSE4.2) enabled only processors has been deprecated. Intel oneAPI Math Kernel Library 2025.0 will require Intel(R) Advanced Vector Extensions (Intel(R) AVX) instructions.\n",
      "Intel MKL WARNING: Support of Intel(R) Streaming SIMD Extensions 4.2 (Intel(R) SSE4.2) enabled only processors has been deprecated. Intel oneAPI Math Kernel Library 2025.0 will require Intel(R) Advanced Vector Extensions (Intel(R) AVX) instructions.\n",
      "Intel MKL WARNING: Support of Intel(R) Streaming SIMD Extensions 4.2 (Intel(R) SSE4.2) enabled only processors has been deprecated. Intel oneAPI Math Kernel Library 2025.0 will require Intel(R) Advanced Vector Extensions (Intel(R) AVX) instructions.\n",
      "Intel MKL WARNING: Support of Intel(R) Streaming SIMD Extensions 4.2 (Intel(R) SSE4.2) enabled only processors has been deprecated. Intel oneAPI Math Kernel Library 2025.0 will require Intel(R) Advanced Vector Extensions (Intel(R) AVX) instructions.\n",
      "Intel MKL WARNING: Support of Intel(R) Streaming SIMD Extensions 4.2 (Intel(R) SSE4.2) enabled only processors has been deprecated. Intel oneAPI Math Kernel Library 2025.0 will require Intel(R) Advanced Vector Extensions (Intel(R) AVX) instructions.\n",
      "Intel MKL WARNING: Support of Intel(R) Streaming SIMD Extensions 4.2 (Intel(R) SSE4.2) enabled only processors has been deprecated. Intel oneAPI Math Kernel Library 2025.0 will require Intel(R) Advanced Vector Extensions (Intel(R) AVX) instructions.\n",
      "Intel MKL WARNING: Support of Intel(R) Streaming SIMD Extensions 4.2 (Intel(R) SSE4.2) enabled only processors has been deprecated. Intel oneAPI Math Kernel Library 2025.0 will require Intel(R) Advanced Vector Extensions (Intel(R) AVX) instructions.\n",
      "Intel MKL WARNING: Support of Intel(R) Streaming SIMD Extensions 4.2 (Intel(R) SSE4.2) enabled only processors has been deprecated. Intel oneAPI Math Kernel Library 2025.0 will require Intel(R) Advanced Vector Extensions (Intel(R) AVX) instructions.\n",
      "Intel MKL WARNING: Support of Intel(R) Streaming SIMD Extensions 4.2 (Intel(R) SSE4.2) enabled only processors has been deprecated. Intel oneAPI Math Kernel Library 2025.0 will require Intel(R) Advanced Vector Extensions (Intel(R) AVX) instructions.\n",
      "Intel MKL WARNING: Support of Intel(R) Streaming SIMD Extensions 4.2 (Intel(R) SSE4.2) enabled only processors has been deprecated. Intel oneAPI Math Kernel Library 2025.0 will require Intel(R) Advanced Vector Extensions (Intel(R) AVX) instructions.\n",
      "Intel MKL WARNING: Support of Intel(R) Streaming SIMD Extensions 4.2 (Intel(R) SSE4.2) enabled only processors has been deprecated. Intel oneAPI Math Kernel Library 2025.0 will require Intel(R) Advanced Vector Extensions (Intel(R) AVX) instructions.\n",
      "Intel MKL WARNING: Support of Intel(R) Streaming SIMD Extensions 4.2 (Intel(R) SSE4.2) enabled only processors has been deprecated. Intel oneAPI Math Kernel Library 2025.0 will require Intel(R) Advanced Vector Extensions (Intel(R) AVX) instructions.\n",
      "Intel MKL WARNING: Support of Intel(R) Streaming SIMD Extensions 4.2 (Intel(R) SSE4.2) enabled only processors has been deprecated. Intel oneAPI Math Kernel Library 2025.0 will require Intel(R) Advanced Vector Extensions (Intel(R) AVX) instructions.\n",
      "Intel MKL WARNING: Support of Intel(R) Streaming SIMD Extensions 4.2 (Intel(R) SSE4.2) enabled only processors has been deprecated. Intel oneAPI Math Kernel Library 2025.0 will require Intel(R) Advanced Vector Extensions (Intel(R) AVX) instructions.\n",
      "Intel MKL WARNING: Support of Intel(R) Streaming SIMD Extensions 4.2 (Intel(R) SSE4.2) enabled only processors has been deprecated. Intel oneAPI Math Kernel Library 2025.0 will require Intel(R) Advanced Vector Extensions (Intel(R) AVX) instructions.\n",
      "Intel MKL WARNING: Support of Intel(R) Streaming SIMD Extensions 4.2 (Intel(R) SSE4.2) enabled only processors has been deprecated. Intel oneAPI Math Kernel Library 2025.0 will require Intel(R) Advanced Vector Extensions (Intel(R) AVX) instructions.\n",
      "Intel MKL WARNING: Support of Intel(R) Streaming SIMD Extensions 4.2 (Intel(R) SSE4.2) enabled only processors has been deprecated. Intel oneAPI Math Kernel Library 2025.0 will require Intel(R) Advanced Vector Extensions (Intel(R) AVX) instructions.\n",
      "Intel MKL WARNING: Support of Intel(R) Streaming SIMD Extensions 4.2 (Intel(R) SSE4.2) enabled only processors has been deprecated. Intel oneAPI Math Kernel Library 2025.0 will require Intel(R) Advanced Vector Extensions (Intel(R) AVX) instructions.\n",
      "Intel MKL WARNING: Support of Intel(R) Streaming SIMD Extensions 4.2 (Intel(R) SSE4.2) enabled only processors has been deprecated. Intel oneAPI Math Kernel Library 2025.0 will require Intel(R) Advanced Vector Extensions (Intel(R) AVX) instructions.\n",
      "Intel MKL WARNING: Support of Intel(R) Streaming SIMD Extensions 4.2 (Intel(R) SSE4.2) enabled only processors has been deprecated. Intel oneAPI Math Kernel Library 2025.0 will require Intel(R) Advanced Vector Extensions (Intel(R) AVX) instructions.\n",
      "Intel MKL WARNING: Support of Intel(R) Streaming SIMD Extensions 4.2 (Intel(R) SSE4.2) enabled only processors has been deprecated. Intel oneAPI Math Kernel Library 2025.0 will require Intel(R) Advanced Vector Extensions (Intel(R) AVX) instructions.\n",
      "Intel MKL WARNING: Support of Intel(R) Streaming SIMD Extensions 4.2 (Intel(R) SSE4.2) enabled only processors has been deprecated. Intel oneAPI Math Kernel Library 2025.0 will require Intel(R) Advanced Vector Extensions (Intel(R) AVX) instructions.\n",
      "Intel MKL WARNING: Support of Intel(R) Streaming SIMD Extensions 4.2 (Intel(R) SSE4.2) enabled only processors has been deprecated. Intel oneAPI Math Kernel Library 2025.0 will require Intel(R) Advanced Vector Extensions (Intel(R) AVX) instructions.\n",
      "Intel MKL WARNING: Support of Intel(R) Streaming SIMD Extensions 4.2 (Intel(R) SSE4.2) enabled only processors has been deprecated. Intel oneAPI Math Kernel Library 2025.0 will require Intel(R) Advanced Vector Extensions (Intel(R) AVX) instructions.\n",
      "Intel MKL WARNING: Support of Intel(R) Streaming SIMD Extensions 4.2 (Intel(R) SSE4.2) enabled only processors has been deprecated. Intel oneAPI Math Kernel Library 2025.0 will require Intel(R) Advanced Vector Extensions (Intel(R) AVX) instructions.\n",
      "Intel MKL WARNING: Support of Intel(R) Streaming SIMD Extensions 4.2 (Intel(R) SSE4.2) enabled only processors has been deprecated. Intel oneAPI Math Kernel Library 2025.0 will require Intel(R) Advanced Vector Extensions (Intel(R) AVX) instructions.\n",
      "Intel MKL WARNING: Support of Intel(R) Streaming SIMD Extensions 4.2 (Intel(R) SSE4.2) enabled only processors has been deprecated. Intel oneAPI Math Kernel Library 2025.0 will require Intel(R) Advanced Vector Extensions (Intel(R) AVX) instructions.\n",
      "Intel MKL WARNING: Support of Intel(R) Streaming SIMD Extensions 4.2 (Intel(R) SSE4.2) enabled only processors has been deprecated. Intel oneAPI Math Kernel Library 2025.0 will require Intel(R) Advanced Vector Extensions (Intel(R) AVX) instructions.\n",
      "Intel MKL WARNING: Support of Intel(R) Streaming SIMD Extensions 4.2 (Intel(R) SSE4.2) enabled only processors has been deprecated. Intel oneAPI Math Kernel Library 2025.0 will require Intel(R) Advanced Vector Extensions (Intel(R) AVX) instructions.\n",
      "Intel MKL WARNING: Support of Intel(R) Streaming SIMD Extensions 4.2 (Intel(R) SSE4.2) enabled only processors has been deprecated. Intel oneAPI Math Kernel Library 2025.0 will require Intel(R) Advanced Vector Extensions (Intel(R) AVX) instructions.\n",
      "Intel MKL WARNING: Support of Intel(R) Streaming SIMD Extensions 4.2 (Intel(R) SSE4.2) enabled only processors has been deprecated. Intel oneAPI Math Kernel Library 2025.0 will require Intel(R) Advanced Vector Extensions (Intel(R) AVX) instructions.\n",
      "Intel MKL WARNING: Support of Intel(R) Streaming SIMD Extensions 4.2 (Intel(R) SSE4.2) enabled only processors has been deprecated. Intel oneAPI Math Kernel Library 2025.0 will require Intel(R) Advanced Vector Extensions (Intel(R) AVX) instructions.\n",
      "Intel MKL WARNING: Support of Intel(R) Streaming SIMD Extensions 4.2 (Intel(R) SSE4.2) enabled only processors has been deprecated. Intel oneAPI Math Kernel Library 2025.0 will require Intel(R) Advanced Vector Extensions (Intel(R) AVX) instructions.\n",
      "Intel MKL WARNING: Support of Intel(R) Streaming SIMD Extensions 4.2 (Intel(R) SSE4.2) enabled only processors has been deprecated. Intel oneAPI Math Kernel Library 2025.0 will require Intel(R) Advanced Vector Extensions (Intel(R) AVX) instructions.\n",
      "Intel MKL WARNING: Support of Intel(R) Streaming SIMD Extensions 4.2 (Intel(R) SSE4.2) enabled only processors has been deprecated. Intel oneAPI Math Kernel Library 2025.0 will require Intel(R) Advanced Vector Extensions (Intel(R) AVX) instructions.\n",
      "Intel MKL WARNING: Support of Intel(R) Streaming SIMD Extensions 4.2 (Intel(R) SSE4.2) enabled only processors has been deprecated. Intel oneAPI Math Kernel Library 2025.0 will require Intel(R) Advanced Vector Extensions (Intel(R) AVX) instructions.\n",
      "Intel MKL WARNING: Support of Intel(R) Streaming SIMD Extensions 4.2 (Intel(R) SSE4.2) enabled only processors has been deprecated. Intel oneAPI Math Kernel Library 2025.0 will require Intel(R) Advanced Vector Extensions (Intel(R) AVX) instructions.\n",
      "Intel MKL WARNING: Support of Intel(R) Streaming SIMD Extensions 4.2 (Intel(R) SSE4.2) enabled only processors has been deprecated. Intel oneAPI Math Kernel Library 2025.0 will require Intel(R) Advanced Vector Extensions (Intel(R) AVX) instructions.\n",
      "Intel MKL WARNING: Support of Intel(R) Streaming SIMD Extensions 4.2 (Intel(R) SSE4.2) enabled only processors has been deprecated. Intel oneAPI Math Kernel Library 2025.0 will require Intel(R) Advanced Vector Extensions (Intel(R) AVX) instructions.\n",
      "Intel MKL WARNING: Support of Intel(R) Streaming SIMD Extensions 4.2 (Intel(R) SSE4.2) enabled only processors has been deprecated. Intel oneAPI Math Kernel Library 2025.0 will require Intel(R) Advanced Vector Extensions (Intel(R) AVX) instructions.\n",
      "Intel MKL WARNING: Support of Intel(R) Streaming SIMD Extensions 4.2 (Intel(R) SSE4.2) enabled only processors has been deprecated. Intel oneAPI Math Kernel Library 2025.0 will require Intel(R) Advanced Vector Extensions (Intel(R) AVX) instructions.\n",
      "Intel MKL WARNING: Support of Intel(R) Streaming SIMD Extensions 4.2 (Intel(R) SSE4.2) enabled only processors has been deprecated. Intel oneAPI Math Kernel Library 2025.0 will require Intel(R) Advanced Vector Extensions (Intel(R) AVX) instructions.\n",
      "Intel MKL WARNING: Support of Intel(R) Streaming SIMD Extensions 4.2 (Intel(R) SSE4.2) enabled only processors has been deprecated. Intel oneAPI Math Kernel Library 2025.0 will require Intel(R) Advanced Vector Extensions (Intel(R) AVX) instructions.\n",
      "Intel MKL WARNING: Support of Intel(R) Streaming SIMD Extensions 4.2 (Intel(R) SSE4.2) enabled only processors has been deprecated. Intel oneAPI Math Kernel Library 2025.0 will require Intel(R) Advanced Vector Extensions (Intel(R) AVX) instructions.\n",
      "Intel MKL WARNING: Support of Intel(R) Streaming SIMD Extensions 4.2 (Intel(R) SSE4.2) enabled only processors has been deprecated. Intel oneAPI Math Kernel Library 2025.0 will require Intel(R) Advanced Vector Extensions (Intel(R) AVX) instructions.\n",
      "Intel MKL WARNING: Support of Intel(R) Streaming SIMD Extensions 4.2 (Intel(R) SSE4.2) enabled only processors has been deprecated. Intel oneAPI Math Kernel Library 2025.0 will require Intel(R) Advanced Vector Extensions (Intel(R) AVX) instructions.\n",
      "Intel MKL WARNING: Support of Intel(R) Streaming SIMD Extensions 4.2 (Intel(R) SSE4.2) enabled only processors has been deprecated. Intel oneAPI Math Kernel Library 2025.0 will require Intel(R) Advanced Vector Extensions (Intel(R) AVX) instructions.\n",
      "Intel MKL WARNING: Support of Intel(R) Streaming SIMD Extensions 4.2 (Intel(R) SSE4.2) enabled only processors has been deprecated. Intel oneAPI Math Kernel Library 2025.0 will require Intel(R) Advanced Vector Extensions (Intel(R) AVX) instructions.\n",
      "Intel MKL WARNING: Support of Intel(R) Streaming SIMD Extensions 4.2 (Intel(R) SSE4.2) enabled only processors has been deprecated. Intel oneAPI Math Kernel Library 2025.0 will require Intel(R) Advanced Vector Extensions (Intel(R) AVX) instructions.\n",
      "Intel MKL WARNING: Support of Intel(R) Streaming SIMD Extensions 4.2 (Intel(R) SSE4.2) enabled only processors has been deprecated. Intel oneAPI Math Kernel Library 2025.0 will require Intel(R) Advanced Vector Extensions (Intel(R) AVX) instructions.\n",
      "Intel MKL WARNING: Support of Intel(R) Streaming SIMD Extensions 4.2 (Intel(R) SSE4.2) enabled only processors has been deprecated. Intel oneAPI Math Kernel Library 2025.0 will require Intel(R) Advanced Vector Extensions (Intel(R) AVX) instructions.\n",
      "Intel MKL WARNING: Support of Intel(R) Streaming SIMD Extensions 4.2 (Intel(R) SSE4.2) enabled only processors has been deprecated. Intel oneAPI Math Kernel Library 2025.0 will require Intel(R) Advanced Vector Extensions (Intel(R) AVX) instructions.\n",
      "Intel MKL WARNING: Support of Intel(R) Streaming SIMD Extensions 4.2 (Intel(R) SSE4.2) enabled only processors has been deprecated. Intel oneAPI Math Kernel Library 2025.0 will require Intel(R) Advanced Vector Extensions (Intel(R) AVX) instructions.\n",
      "Intel MKL WARNING: Support of Intel(R) Streaming SIMD Extensions 4.2 (Intel(R) SSE4.2) enabled only processors has been deprecated. Intel oneAPI Math Kernel Library 2025.0 will require Intel(R) Advanced Vector Extensions (Intel(R) AVX) instructions.\n",
      "Intel MKL WARNING: Support of Intel(R) Streaming SIMD Extensions 4.2 (Intel(R) SSE4.2) enabled only processors has been deprecated. Intel oneAPI Math Kernel Library 2025.0 will require Intel(R) Advanced Vector Extensions (Intel(R) AVX) instructions.\n",
      "Intel MKL WARNING: Support of Intel(R) Streaming SIMD Extensions 4.2 (Intel(R) SSE4.2) enabled only processors has been deprecated. Intel oneAPI Math Kernel Library 2025.0 will require Intel(R) Advanced Vector Extensions (Intel(R) AVX) instructions.\n",
      "Intel MKL WARNING: Support of Intel(R) Streaming SIMD Extensions 4.2 (Intel(R) SSE4.2) enabled only processors has been deprecated. Intel oneAPI Math Kernel Library 2025.0 will require Intel(R) Advanced Vector Extensions (Intel(R) AVX) instructions.\n",
      "Intel MKL WARNING: Support of Intel(R) Streaming SIMD Extensions 4.2 (Intel(R) SSE4.2) enabled only processors has been deprecated. Intel oneAPI Math Kernel Library 2025.0 will require Intel(R) Advanced Vector Extensions (Intel(R) AVX) instructions.\n",
      "Intel MKL WARNING: Support of Intel(R) Streaming SIMD Extensions 4.2 (Intel(R) SSE4.2) enabled only processors has been deprecated. Intel oneAPI Math Kernel Library 2025.0 will require Intel(R) Advanced Vector Extensions (Intel(R) AVX) instructions.\n",
      "Intel MKL WARNING: Support of Intel(R) Streaming SIMD Extensions 4.2 (Intel(R) SSE4.2) enabled only processors has been deprecated. Intel oneAPI Math Kernel Library 2025.0 will require Intel(R) Advanced Vector Extensions (Intel(R) AVX) instructions.\n",
      "Intel MKL WARNING: Support of Intel(R) Streaming SIMD Extensions 4.2 (Intel(R) SSE4.2) enabled only processors has been deprecated. Intel oneAPI Math Kernel Library 2025.0 will require Intel(R) Advanced Vector Extensions (Intel(R) AVX) instructions.\n",
      "Intel MKL WARNING: Support of Intel(R) Streaming SIMD Extensions 4.2 (Intel(R) SSE4.2) enabled only processors has been deprecated. Intel oneAPI Math Kernel Library 2025.0 will require Intel(R) Advanced Vector Extensions (Intel(R) AVX) instructions.\n",
      "Intel MKL WARNING: Support of Intel(R) Streaming SIMD Extensions 4.2 (Intel(R) SSE4.2) enabled only processors has been deprecated. Intel oneAPI Math Kernel Library 2025.0 will require Intel(R) Advanced Vector Extensions (Intel(R) AVX) instructions.\n",
      "Intel MKL WARNING: Support of Intel(R) Streaming SIMD Extensions 4.2 (Intel(R) SSE4.2) enabled only processors has been deprecated. Intel oneAPI Math Kernel Library 2025.0 will require Intel(R) Advanced Vector Extensions (Intel(R) AVX) instructions.\n",
      "Intel MKL WARNING: Support of Intel(R) Streaming SIMD Extensions 4.2 (Intel(R) SSE4.2) enabled only processors has been deprecated. Intel oneAPI Math Kernel Library 2025.0 will require Intel(R) Advanced Vector Extensions (Intel(R) AVX) instructions.\n",
      "Intel MKL WARNING: Support of Intel(R) Streaming SIMD Extensions 4.2 (Intel(R) SSE4.2) enabled only processors has been deprecated. Intel oneAPI Math Kernel Library 2025.0 will require Intel(R) Advanced Vector Extensions (Intel(R) AVX) instructions.\n",
      "Intel MKL WARNING: Support of Intel(R) Streaming SIMD Extensions 4.2 (Intel(R) SSE4.2) enabled only processors has been deprecated. Intel oneAPI Math Kernel Library 2025.0 will require Intel(R) Advanced Vector Extensions (Intel(R) AVX) instructions.\n",
      "Intel MKL WARNING: Support of Intel(R) Streaming SIMD Extensions 4.2 (Intel(R) SSE4.2) enabled only processors has been deprecated. Intel oneAPI Math Kernel Library 2025.0 will require Intel(R) Advanced Vector Extensions (Intel(R) AVX) instructions.\n",
      "Intel MKL WARNING: Support of Intel(R) Streaming SIMD Extensions 4.2 (Intel(R) SSE4.2) enabled only processors has been deprecated. Intel oneAPI Math Kernel Library 2025.0 will require Intel(R) Advanced Vector Extensions (Intel(R) AVX) instructions.\n",
      "Intel MKL WARNING: Support of Intel(R) Streaming SIMD Extensions 4.2 (Intel(R) SSE4.2) enabled only processors has been deprecated. Intel oneAPI Math Kernel Library 2025.0 will require Intel(R) Advanced Vector Extensions (Intel(R) AVX) instructions.\n",
      "Intel MKL WARNING: Support of Intel(R) Streaming SIMD Extensions 4.2 (Intel(R) SSE4.2) enabled only processors has been deprecated. Intel oneAPI Math Kernel Library 2025.0 will require Intel(R) Advanced Vector Extensions (Intel(R) AVX) instructions.\n",
      "Intel MKL WARNING: Support of Intel(R) Streaming SIMD Extensions 4.2 (Intel(R) SSE4.2) enabled only processors has been deprecated. Intel oneAPI Math Kernel Library 2025.0 will require Intel(R) Advanced Vector Extensions (Intel(R) AVX) instructions.\n",
      "Intel MKL WARNING: Support of Intel(R) Streaming SIMD Extensions 4.2 (Intel(R) SSE4.2) enabled only processors has been deprecated. Intel oneAPI Math Kernel Library 2025.0 will require Intel(R) Advanced Vector Extensions (Intel(R) AVX) instructions.\n",
      "Intel MKL WARNING: Support of Intel(R) Streaming SIMD Extensions 4.2 (Intel(R) SSE4.2) enabled only processors has been deprecated. Intel oneAPI Math Kernel Library 2025.0 will require Intel(R) Advanced Vector Extensions (Intel(R) AVX) instructions.\n",
      "Intel MKL WARNING: Support of Intel(R) Streaming SIMD Extensions 4.2 (Intel(R) SSE4.2) enabled only processors has been deprecated. Intel oneAPI Math Kernel Library 2025.0 will require Intel(R) Advanced Vector Extensions (Intel(R) AVX) instructions.\n",
      "Intel MKL WARNING: Support of Intel(R) Streaming SIMD Extensions 4.2 (Intel(R) SSE4.2) enabled only processors has been deprecated. Intel oneAPI Math Kernel Library 2025.0 will require Intel(R) Advanced Vector Extensions (Intel(R) AVX) instructions.\n",
      "Intel MKL WARNING: Support of Intel(R) Streaming SIMD Extensions 4.2 (Intel(R) SSE4.2) enabled only processors has been deprecated. Intel oneAPI Math Kernel Library 2025.0 will require Intel(R) Advanced Vector Extensions (Intel(R) AVX) instructions.\n",
      "Intel MKL WARNING: Support of Intel(R) Streaming SIMD Extensions 4.2 (Intel(R) SSE4.2) enabled only processors has been deprecated. Intel oneAPI Math Kernel Library 2025.0 will require Intel(R) Advanced Vector Extensions (Intel(R) AVX) instructions.\n",
      "Intel MKL WARNING: Support of Intel(R) Streaming SIMD Extensions 4.2 (Intel(R) SSE4.2) enabled only processors has been deprecated. Intel oneAPI Math Kernel Library 2025.0 will require Intel(R) Advanced Vector Extensions (Intel(R) AVX) instructions.\n",
      "Intel MKL WARNING: Support of Intel(R) Streaming SIMD Extensions 4.2 (Intel(R) SSE4.2) enabled only processors has been deprecated. Intel oneAPI Math Kernel Library 2025.0 will require Intel(R) Advanced Vector Extensions (Intel(R) AVX) instructions.\n",
      "Intel MKL WARNING: Support of Intel(R) Streaming SIMD Extensions 4.2 (Intel(R) SSE4.2) enabled only processors has been deprecated. Intel oneAPI Math Kernel Library 2025.0 will require Intel(R) Advanced Vector Extensions (Intel(R) AVX) instructions.\n",
      "Intel MKL WARNING: Support of Intel(R) Streaming SIMD Extensions 4.2 (Intel(R) SSE4.2) enabled only processors has been deprecated. Intel oneAPI Math Kernel Library 2025.0 will require Intel(R) Advanced Vector Extensions (Intel(R) AVX) instructions.\n",
      "Intel MKL WARNING: Support of Intel(R) Streaming SIMD Extensions 4.2 (Intel(R) SSE4.2) enabled only processors has been deprecated. Intel oneAPI Math Kernel Library 2025.0 will require Intel(R) Advanced Vector Extensions (Intel(R) AVX) instructions.\n",
      "Intel MKL WARNING: Support of Intel(R) Streaming SIMD Extensions 4.2 (Intel(R) SSE4.2) enabled only processors has been deprecated. Intel oneAPI Math Kernel Library 2025.0 will require Intel(R) Advanced Vector Extensions (Intel(R) AVX) instructions.\n",
      "Intel MKL WARNING: Support of Intel(R) Streaming SIMD Extensions 4.2 (Intel(R) SSE4.2) enabled only processors has been deprecated. Intel oneAPI Math Kernel Library 2025.0 will require Intel(R) Advanced Vector Extensions (Intel(R) AVX) instructions.\n",
      "Intel MKL WARNING: Support of Intel(R) Streaming SIMD Extensions 4.2 (Intel(R) SSE4.2) enabled only processors has been deprecated. Intel oneAPI Math Kernel Library 2025.0 will require Intel(R) Advanced Vector Extensions (Intel(R) AVX) instructions.\n",
      "Intel MKL WARNING: Support of Intel(R) Streaming SIMD Extensions 4.2 (Intel(R) SSE4.2) enabled only processors has been deprecated. Intel oneAPI Math Kernel Library 2025.0 will require Intel(R) Advanced Vector Extensions (Intel(R) AVX) instructions.\n",
      "Intel MKL WARNING: Support of Intel(R) Streaming SIMD Extensions 4.2 (Intel(R) SSE4.2) enabled only processors has been deprecated. Intel oneAPI Math Kernel Library 2025.0 will require Intel(R) Advanced Vector Extensions (Intel(R) AVX) instructions.\n",
      "Intel MKL WARNING: Support of Intel(R) Streaming SIMD Extensions 4.2 (Intel(R) SSE4.2) enabled only processors has been deprecated. Intel oneAPI Math Kernel Library 2025.0 will require Intel(R) Advanced Vector Extensions (Intel(R) AVX) instructions.\n",
      "Intel MKL WARNING: Support of Intel(R) Streaming SIMD Extensions 4.2 (Intel(R) SSE4.2) enabled only processors has been deprecated. Intel oneAPI Math Kernel Library 2025.0 will require Intel(R) Advanced Vector Extensions (Intel(R) AVX) instructions.\n",
      "Intel MKL WARNING: Support of Intel(R) Streaming SIMD Extensions 4.2 (Intel(R) SSE4.2) enabled only processors has been deprecated. Intel oneAPI Math Kernel Library 2025.0 will require Intel(R) Advanced Vector Extensions (Intel(R) AVX) instructions.\n",
      "Intel MKL WARNING: Support of Intel(R) Streaming SIMD Extensions 4.2 (Intel(R) SSE4.2) enabled only processors has been deprecated. Intel oneAPI Math Kernel Library 2025.0 will require Intel(R) Advanced Vector Extensions (Intel(R) AVX) instructions.\n",
      "Intel MKL WARNING: Support of Intel(R) Streaming SIMD Extensions 4.2 (Intel(R) SSE4.2) enabled only processors has been deprecated. Intel oneAPI Math Kernel Library 2025.0 will require Intel(R) Advanced Vector Extensions (Intel(R) AVX) instructions.\n",
      "Intel MKL WARNING: Support of Intel(R) Streaming SIMD Extensions 4.2 (Intel(R) SSE4.2) enabled only processors has been deprecated. Intel oneAPI Math Kernel Library 2025.0 will require Intel(R) Advanced Vector Extensions (Intel(R) AVX) instructions.\n",
      "Intel MKL WARNING: Support of Intel(R) Streaming SIMD Extensions 4.2 (Intel(R) SSE4.2) enabled only processors has been deprecated. Intel oneAPI Math Kernel Library 2025.0 will require Intel(R) Advanced Vector Extensions (Intel(R) AVX) instructions.\n",
      "Intel MKL WARNING: Support of Intel(R) Streaming SIMD Extensions 4.2 (Intel(R) SSE4.2) enabled only processors has been deprecated. Intel oneAPI Math Kernel Library 2025.0 will require Intel(R) Advanced Vector Extensions (Intel(R) AVX) instructions.\n",
      "Intel MKL WARNING: Support of Intel(R) Streaming SIMD Extensions 4.2 (Intel(R) SSE4.2) enabled only processors has been deprecated. Intel oneAPI Math Kernel Library 2025.0 will require Intel(R) Advanced Vector Extensions (Intel(R) AVX) instructions.\n",
      "Intel MKL WARNING: Support of Intel(R) Streaming SIMD Extensions 4.2 (Intel(R) SSE4.2) enabled only processors has been deprecated. Intel oneAPI Math Kernel Library 2025.0 will require Intel(R) Advanced Vector Extensions (Intel(R) AVX) instructions.\n",
      "Intel MKL WARNING: Support of Intel(R) Streaming SIMD Extensions 4.2 (Intel(R) SSE4.2) enabled only processors has been deprecated. Intel oneAPI Math Kernel Library 2025.0 will require Intel(R) Advanced Vector Extensions (Intel(R) AVX) instructions.\n",
      "Intel MKL WARNING: Support of Intel(R) Streaming SIMD Extensions 4.2 (Intel(R) SSE4.2) enabled only processors has been deprecated. Intel oneAPI Math Kernel Library 2025.0 will require Intel(R) Advanced Vector Extensions (Intel(R) AVX) instructions.\n",
      "Intel MKL WARNING: Support of Intel(R) Streaming SIMD Extensions 4.2 (Intel(R) SSE4.2) enabled only processors has been deprecated. Intel oneAPI Math Kernel Library 2025.0 will require Intel(R) Advanced Vector Extensions (Intel(R) AVX) instructions.\n",
      "Intel MKL WARNING: Support of Intel(R) Streaming SIMD Extensions 4.2 (Intel(R) SSE4.2) enabled only processors has been deprecated. Intel oneAPI Math Kernel Library 2025.0 will require Intel(R) Advanced Vector Extensions (Intel(R) AVX) instructions.\n",
      "Intel MKL WARNING: Support of Intel(R) Streaming SIMD Extensions 4.2 (Intel(R) SSE4.2) enabled only processors has been deprecated. Intel oneAPI Math Kernel Library 2025.0 will require Intel(R) Advanced Vector Extensions (Intel(R) AVX) instructions.\n",
      "Intel MKL WARNING: Support of Intel(R) Streaming SIMD Extensions 4.2 (Intel(R) SSE4.2) enabled only processors has been deprecated. Intel oneAPI Math Kernel Library 2025.0 will require Intel(R) Advanced Vector Extensions (Intel(R) AVX) instructions.\n",
      "Intel MKL WARNING: Support of Intel(R) Streaming SIMD Extensions 4.2 (Intel(R) SSE4.2) enabled only processors has been deprecated. Intel oneAPI Math Kernel Library 2025.0 will require Intel(R) Advanced Vector Extensions (Intel(R) AVX) instructions.\n",
      "Intel MKL WARNING: Support of Intel(R) Streaming SIMD Extensions 4.2 (Intel(R) SSE4.2) enabled only processors has been deprecated. Intel oneAPI Math Kernel Library 2025.0 will require Intel(R) Advanced Vector Extensions (Intel(R) AVX) instructions.\n",
      "Intel MKL WARNING: Support of Intel(R) Streaming SIMD Extensions 4.2 (Intel(R) SSE4.2) enabled only processors has been deprecated. Intel oneAPI Math Kernel Library 2025.0 will require Intel(R) Advanced Vector Extensions (Intel(R) AVX) instructions.\n",
      "Intel MKL WARNING: Support of Intel(R) Streaming SIMD Extensions 4.2 (Intel(R) SSE4.2) enabled only processors has been deprecated. Intel oneAPI Math Kernel Library 2025.0 will require Intel(R) Advanced Vector Extensions (Intel(R) AVX) instructions.\n",
      "Intel MKL WARNING: Support of Intel(R) Streaming SIMD Extensions 4.2 (Intel(R) SSE4.2) enabled only processors has been deprecated. Intel oneAPI Math Kernel Library 2025.0 will require Intel(R) Advanced Vector Extensions (Intel(R) AVX) instructions.\n",
      "Intel MKL WARNING: Support of Intel(R) Streaming SIMD Extensions 4.2 (Intel(R) SSE4.2) enabled only processors has been deprecated. Intel oneAPI Math Kernel Library 2025.0 will require Intel(R) Advanced Vector Extensions (Intel(R) AVX) instructions.\n",
      "Intel MKL WARNING: Support of Intel(R) Streaming SIMD Extensions 4.2 (Intel(R) SSE4.2) enabled only processors has been deprecated. Intel oneAPI Math Kernel Library 2025.0 will require Intel(R) Advanced Vector Extensions (Intel(R) AVX) instructions.\n",
      "Intel MKL WARNING: Support of Intel(R) Streaming SIMD Extensions 4.2 (Intel(R) SSE4.2) enabled only processors has been deprecated. Intel oneAPI Math Kernel Library 2025.0 will require Intel(R) Advanced Vector Extensions (Intel(R) AVX) instructions.\n",
      "Intel MKL WARNING: Support of Intel(R) Streaming SIMD Extensions 4.2 (Intel(R) SSE4.2) enabled only processors has been deprecated. Intel oneAPI Math Kernel Library 2025.0 will require Intel(R) Advanced Vector Extensions (Intel(R) AVX) instructions.\n",
      "Intel MKL WARNING: Support of Intel(R) Streaming SIMD Extensions 4.2 (Intel(R) SSE4.2) enabled only processors has been deprecated. Intel oneAPI Math Kernel Library 2025.0 will require Intel(R) Advanced Vector Extensions (Intel(R) AVX) instructions.\n",
      "Intel MKL WARNING: Support of Intel(R) Streaming SIMD Extensions 4.2 (Intel(R) SSE4.2) enabled only processors has been deprecated. Intel oneAPI Math Kernel Library 2025.0 will require Intel(R) Advanced Vector Extensions (Intel(R) AVX) instructions.\n",
      "Intel MKL WARNING: Support of Intel(R) Streaming SIMD Extensions 4.2 (Intel(R) SSE4.2) enabled only processors has been deprecated. Intel oneAPI Math Kernel Library 2025.0 will require Intel(R) Advanced Vector Extensions (Intel(R) AVX) instructions.\n",
      "Intel MKL WARNING: Support of Intel(R) Streaming SIMD Extensions 4.2 (Intel(R) SSE4.2) enabled only processors has been deprecated. Intel oneAPI Math Kernel Library 2025.0 will require Intel(R) Advanced Vector Extensions (Intel(R) AVX) instructions.\n",
      "Intel MKL WARNING: Support of Intel(R) Streaming SIMD Extensions 4.2 (Intel(R) SSE4.2) enabled only processors has been deprecated. Intel oneAPI Math Kernel Library 2025.0 will require Intel(R) Advanced Vector Extensions (Intel(R) AVX) instructions.\n",
      "Intel MKL WARNING: Support of Intel(R) Streaming SIMD Extensions 4.2 (Intel(R) SSE4.2) enabled only processors has been deprecated. Intel oneAPI Math Kernel Library 2025.0 will require Intel(R) Advanced Vector Extensions (Intel(R) AVX) instructions.\n",
      "Intel MKL WARNING: Support of Intel(R) Streaming SIMD Extensions 4.2 (Intel(R) SSE4.2) enabled only processors has been deprecated. Intel oneAPI Math Kernel Library 2025.0 will require Intel(R) Advanced Vector Extensions (Intel(R) AVX) instructions.\n",
      "Intel MKL WARNING: Support of Intel(R) Streaming SIMD Extensions 4.2 (Intel(R) SSE4.2) enabled only processors has been deprecated. Intel oneAPI Math Kernel Library 2025.0 will require Intel(R) Advanced Vector Extensions (Intel(R) AVX) instructions.\n",
      "Intel MKL WARNING: Support of Intel(R) Streaming SIMD Extensions 4.2 (Intel(R) SSE4.2) enabled only processors has been deprecated. Intel oneAPI Math Kernel Library 2025.0 will require Intel(R) Advanced Vector Extensions (Intel(R) AVX) instructions.\n",
      "Intel MKL WARNING: Support of Intel(R) Streaming SIMD Extensions 4.2 (Intel(R) SSE4.2) enabled only processors has been deprecated. Intel oneAPI Math Kernel Library 2025.0 will require Intel(R) Advanced Vector Extensions (Intel(R) AVX) instructions.\n",
      "Intel MKL WARNING: Support of Intel(R) Streaming SIMD Extensions 4.2 (Intel(R) SSE4.2) enabled only processors has been deprecated. Intel oneAPI Math Kernel Library 2025.0 will require Intel(R) Advanced Vector Extensions (Intel(R) AVX) instructions.\n",
      "Intel MKL WARNING: Support of Intel(R) Streaming SIMD Extensions 4.2 (Intel(R) SSE4.2) enabled only processors has been deprecated. Intel oneAPI Math Kernel Library 2025.0 will require Intel(R) Advanced Vector Extensions (Intel(R) AVX) instructions.\n",
      "Intel MKL WARNING: Support of Intel(R) Streaming SIMD Extensions 4.2 (Intel(R) SSE4.2) enabled only processors has been deprecated. Intel oneAPI Math Kernel Library 2025.0 will require Intel(R) Advanced Vector Extensions (Intel(R) AVX) instructions.\n",
      "Intel MKL WARNING: Support of Intel(R) Streaming SIMD Extensions 4.2 (Intel(R) SSE4.2) enabled only processors has been deprecated. Intel oneAPI Math Kernel Library 2025.0 will require Intel(R) Advanced Vector Extensions (Intel(R) AVX) instructions.\n",
      "Intel MKL WARNING: Support of Intel(R) Streaming SIMD Extensions 4.2 (Intel(R) SSE4.2) enabled only processors has been deprecated. Intel oneAPI Math Kernel Library 2025.0 will require Intel(R) Advanced Vector Extensions (Intel(R) AVX) instructions.\n",
      "Intel MKL WARNING: Support of Intel(R) Streaming SIMD Extensions 4.2 (Intel(R) SSE4.2) enabled only processors has been deprecated. Intel oneAPI Math Kernel Library 2025.0 will require Intel(R) Advanced Vector Extensions (Intel(R) AVX) instructions.\n",
      "Intel MKL WARNING: Support of Intel(R) Streaming SIMD Extensions 4.2 (Intel(R) SSE4.2) enabled only processors has been deprecated. Intel oneAPI Math Kernel Library 2025.0 will require Intel(R) Advanced Vector Extensions (Intel(R) AVX) instructions.\n",
      "Intel MKL WARNING: Support of Intel(R) Streaming SIMD Extensions 4.2 (Intel(R) SSE4.2) enabled only processors has been deprecated. Intel oneAPI Math Kernel Library 2025.0 will require Intel(R) Advanced Vector Extensions (Intel(R) AVX) instructions.\n",
      "Intel MKL WARNING: Support of Intel(R) Streaming SIMD Extensions 4.2 (Intel(R) SSE4.2) enabled only processors has been deprecated. Intel oneAPI Math Kernel Library 2025.0 will require Intel(R) Advanced Vector Extensions (Intel(R) AVX) instructions.\n",
      "Intel MKL WARNING: Support of Intel(R) Streaming SIMD Extensions 4.2 (Intel(R) SSE4.2) enabled only processors has been deprecated. Intel oneAPI Math Kernel Library 2025.0 will require Intel(R) Advanced Vector Extensions (Intel(R) AVX) instructions.\n",
      "Intel MKL WARNING: Support of Intel(R) Streaming SIMD Extensions 4.2 (Intel(R) SSE4.2) enabled only processors has been deprecated. Intel oneAPI Math Kernel Library 2025.0 will require Intel(R) Advanced Vector Extensions (Intel(R) AVX) instructions.\n",
      "Intel MKL WARNING: Support of Intel(R) Streaming SIMD Extensions 4.2 (Intel(R) SSE4.2) enabled only processors has been deprecated. Intel oneAPI Math Kernel Library 2025.0 will require Intel(R) Advanced Vector Extensions (Intel(R) AVX) instructions.\n",
      "Intel MKL WARNING: Support of Intel(R) Streaming SIMD Extensions 4.2 (Intel(R) SSE4.2) enabled only processors has been deprecated. Intel oneAPI Math Kernel Library 2025.0 will require Intel(R) Advanced Vector Extensions (Intel(R) AVX) instructions.\n",
      "Intel MKL WARNING: Support of Intel(R) Streaming SIMD Extensions 4.2 (Intel(R) SSE4.2) enabled only processors has been deprecated. Intel oneAPI Math Kernel Library 2025.0 will require Intel(R) Advanced Vector Extensions (Intel(R) AVX) instructions.\n",
      "Intel MKL WARNING: Support of Intel(R) Streaming SIMD Extensions 4.2 (Intel(R) SSE4.2) enabled only processors has been deprecated. Intel oneAPI Math Kernel Library 2025.0 will require Intel(R) Advanced Vector Extensions (Intel(R) AVX) instructions.\n",
      "Intel MKL WARNING: Support of Intel(R) Streaming SIMD Extensions 4.2 (Intel(R) SSE4.2) enabled only processors has been deprecated. Intel oneAPI Math Kernel Library 2025.0 will require Intel(R) Advanced Vector Extensions (Intel(R) AVX) instructions.\n",
      "Intel MKL WARNING: Support of Intel(R) Streaming SIMD Extensions 4.2 (Intel(R) SSE4.2) enabled only processors has been deprecated. Intel oneAPI Math Kernel Library 2025.0 will require Intel(R) Advanced Vector Extensions (Intel(R) AVX) instructions.\n",
      "Intel MKL WARNING: Support of Intel(R) Streaming SIMD Extensions 4.2 (Intel(R) SSE4.2) enabled only processors has been deprecated. Intel oneAPI Math Kernel Library 2025.0 will require Intel(R) Advanced Vector Extensions (Intel(R) AVX) instructions.\n",
      "Intel MKL WARNING: Support of Intel(R) Streaming SIMD Extensions 4.2 (Intel(R) SSE4.2) enabled only processors has been deprecated. Intel oneAPI Math Kernel Library 2025.0 will require Intel(R) Advanced Vector Extensions (Intel(R) AVX) instructions.\n",
      "Intel MKL WARNING: Support of Intel(R) Streaming SIMD Extensions 4.2 (Intel(R) SSE4.2) enabled only processors has been deprecated. Intel oneAPI Math Kernel Library 2025.0 will require Intel(R) Advanced Vector Extensions (Intel(R) AVX) instructions.\n",
      "Intel MKL WARNING: Support of Intel(R) Streaming SIMD Extensions 4.2 (Intel(R) SSE4.2) enabled only processors has been deprecated. Intel oneAPI Math Kernel Library 2025.0 will require Intel(R) Advanced Vector Extensions (Intel(R) AVX) instructions.\n",
      "Intel MKL WARNING: Support of Intel(R) Streaming SIMD Extensions 4.2 (Intel(R) SSE4.2) enabled only processors has been deprecated. Intel oneAPI Math Kernel Library 2025.0 will require Intel(R) Advanced Vector Extensions (Intel(R) AVX) instructions.\n",
      "Intel MKL WARNING: Support of Intel(R) Streaming SIMD Extensions 4.2 (Intel(R) SSE4.2) enabled only processors has been deprecated. Intel oneAPI Math Kernel Library 2025.0 will require Intel(R) Advanced Vector Extensions (Intel(R) AVX) instructions.\n",
      "Intel MKL WARNING: Support of Intel(R) Streaming SIMD Extensions 4.2 (Intel(R) SSE4.2) enabled only processors has been deprecated. Intel oneAPI Math Kernel Library 2025.0 will require Intel(R) Advanced Vector Extensions (Intel(R) AVX) instructions.\n",
      "Intel MKL WARNING: Support of Intel(R) Streaming SIMD Extensions 4.2 (Intel(R) SSE4.2) enabled only processors has been deprecated. Intel oneAPI Math Kernel Library 2025.0 will require Intel(R) Advanced Vector Extensions (Intel(R) AVX) instructions.\n",
      "Intel MKL WARNING: Support of Intel(R) Streaming SIMD Extensions 4.2 (Intel(R) SSE4.2) enabled only processors has been deprecated. Intel oneAPI Math Kernel Library 2025.0 will require Intel(R) Advanced Vector Extensions (Intel(R) AVX) instructions.\n",
      "Intel MKL WARNING: Support of Intel(R) Streaming SIMD Extensions 4.2 (Intel(R) SSE4.2) enabled only processors has been deprecated. Intel oneAPI Math Kernel Library 2025.0 will require Intel(R) Advanced Vector Extensions (Intel(R) AVX) instructions.\n",
      "Intel MKL WARNING: Support of Intel(R) Streaming SIMD Extensions 4.2 (Intel(R) SSE4.2) enabled only processors has been deprecated. Intel oneAPI Math Kernel Library 2025.0 will require Intel(R) Advanced Vector Extensions (Intel(R) AVX) instructions.\n",
      "Intel MKL WARNING: Support of Intel(R) Streaming SIMD Extensions 4.2 (Intel(R) SSE4.2) enabled only processors has been deprecated. Intel oneAPI Math Kernel Library 2025.0 will require Intel(R) Advanced Vector Extensions (Intel(R) AVX) instructions.\n",
      "Intel MKL WARNING: Support of Intel(R) Streaming SIMD Extensions 4.2 (Intel(R) SSE4.2) enabled only processors has been deprecated. Intel oneAPI Math Kernel Library 2025.0 will require Intel(R) Advanced Vector Extensions (Intel(R) AVX) instructions.\n",
      "Intel MKL WARNING: Support of Intel(R) Streaming SIMD Extensions 4.2 (Intel(R) SSE4.2) enabled only processors has been deprecated. Intel oneAPI Math Kernel Library 2025.0 will require Intel(R) Advanced Vector Extensions (Intel(R) AVX) instructions.\n",
      "Intel MKL WARNING: Support of Intel(R) Streaming SIMD Extensions 4.2 (Intel(R) SSE4.2) enabled only processors has been deprecated. Intel oneAPI Math Kernel Library 2025.0 will require Intel(R) Advanced Vector Extensions (Intel(R) AVX) instructions.\n",
      "Intel MKL WARNING: Support of Intel(R) Streaming SIMD Extensions 4.2 (Intel(R) SSE4.2) enabled only processors has been deprecated. Intel oneAPI Math Kernel Library 2025.0 will require Intel(R) Advanced Vector Extensions (Intel(R) AVX) instructions.\n",
      "Intel MKL WARNING: Support of Intel(R) Streaming SIMD Extensions 4.2 (Intel(R) SSE4.2) enabled only processors has been deprecated. Intel oneAPI Math Kernel Library 2025.0 will require Intel(R) Advanced Vector Extensions (Intel(R) AVX) instructions.\n",
      "Intel MKL WARNING: Support of Intel(R) Streaming SIMD Extensions 4.2 (Intel(R) SSE4.2) enabled only processors has been deprecated. Intel oneAPI Math Kernel Library 2025.0 will require Intel(R) Advanced Vector Extensions (Intel(R) AVX) instructions.\n",
      "Intel MKL WARNING: Support of Intel(R) Streaming SIMD Extensions 4.2 (Intel(R) SSE4.2) enabled only processors has been deprecated. Intel oneAPI Math Kernel Library 2025.0 will require Intel(R) Advanced Vector Extensions (Intel(R) AVX) instructions.\n",
      "Intel MKL WARNING: Support of Intel(R) Streaming SIMD Extensions 4.2 (Intel(R) SSE4.2) enabled only processors has been deprecated. Intel oneAPI Math Kernel Library 2025.0 will require Intel(R) Advanced Vector Extensions (Intel(R) AVX) instructions.\n",
      "Intel MKL WARNING: Support of Intel(R) Streaming SIMD Extensions 4.2 (Intel(R) SSE4.2) enabled only processors has been deprecated. Intel oneAPI Math Kernel Library 2025.0 will require Intel(R) Advanced Vector Extensions (Intel(R) AVX) instructions.\n",
      "Intel MKL WARNING: Support of Intel(R) Streaming SIMD Extensions 4.2 (Intel(R) SSE4.2) enabled only processors has been deprecated. Intel oneAPI Math Kernel Library 2025.0 will require Intel(R) Advanced Vector Extensions (Intel(R) AVX) instructions.\n",
      "Intel MKL WARNING: Support of Intel(R) Streaming SIMD Extensions 4.2 (Intel(R) SSE4.2) enabled only processors has been deprecated. Intel oneAPI Math Kernel Library 2025.0 will require Intel(R) Advanced Vector Extensions (Intel(R) AVX) instructions.\n",
      "Intel MKL WARNING: Support of Intel(R) Streaming SIMD Extensions 4.2 (Intel(R) SSE4.2) enabled only processors has been deprecated. Intel oneAPI Math Kernel Library 2025.0 will require Intel(R) Advanced Vector Extensions (Intel(R) AVX) instructions.\n",
      "Intel MKL WARNING: Support of Intel(R) Streaming SIMD Extensions 4.2 (Intel(R) SSE4.2) enabled only processors has been deprecated. Intel oneAPI Math Kernel Library 2025.0 will require Intel(R) Advanced Vector Extensions (Intel(R) AVX) instructions.\n",
      "Intel MKL WARNING: Support of Intel(R) Streaming SIMD Extensions 4.2 (Intel(R) SSE4.2) enabled only processors has been deprecated. Intel oneAPI Math Kernel Library 2025.0 will require Intel(R) Advanced Vector Extensions (Intel(R) AVX) instructions.\n",
      "Intel MKL WARNING: Support of Intel(R) Streaming SIMD Extensions 4.2 (Intel(R) SSE4.2) enabled only processors has been deprecated. Intel oneAPI Math Kernel Library 2025.0 will require Intel(R) Advanced Vector Extensions (Intel(R) AVX) instructions.\n",
      "Intel MKL WARNING: Support of Intel(R) Streaming SIMD Extensions 4.2 (Intel(R) SSE4.2) enabled only processors has been deprecated. Intel oneAPI Math Kernel Library 2025.0 will require Intel(R) Advanced Vector Extensions (Intel(R) AVX) instructions.\n",
      "Intel MKL WARNING: Support of Intel(R) Streaming SIMD Extensions 4.2 (Intel(R) SSE4.2) enabled only processors has been deprecated. Intel oneAPI Math Kernel Library 2025.0 will require Intel(R) Advanced Vector Extensions (Intel(R) AVX) instructions.\n",
      "Intel MKL WARNING: Support of Intel(R) Streaming SIMD Extensions 4.2 (Intel(R) SSE4.2) enabled only processors has been deprecated. Intel oneAPI Math Kernel Library 2025.0 will require Intel(R) Advanced Vector Extensions (Intel(R) AVX) instructions.\n",
      "Intel MKL WARNING: Support of Intel(R) Streaming SIMD Extensions 4.2 (Intel(R) SSE4.2) enabled only processors has been deprecated. Intel oneAPI Math Kernel Library 2025.0 will require Intel(R) Advanced Vector Extensions (Intel(R) AVX) instructions.\n",
      "Intel MKL WARNING: Support of Intel(R) Streaming SIMD Extensions 4.2 (Intel(R) SSE4.2) enabled only processors has been deprecated. Intel oneAPI Math Kernel Library 2025.0 will require Intel(R) Advanced Vector Extensions (Intel(R) AVX) instructions.\n",
      "Intel MKL WARNING: Support of Intel(R) Streaming SIMD Extensions 4.2 (Intel(R) SSE4.2) enabled only processors has been deprecated. Intel oneAPI Math Kernel Library 2025.0 will require Intel(R) Advanced Vector Extensions (Intel(R) AVX) instructions.\n",
      "Intel MKL WARNING: Support of Intel(R) Streaming SIMD Extensions 4.2 (Intel(R) SSE4.2) enabled only processors has been deprecated. Intel oneAPI Math Kernel Library 2025.0 will require Intel(R) Advanced Vector Extensions (Intel(R) AVX) instructions.\n",
      "Intel MKL WARNING: Support of Intel(R) Streaming SIMD Extensions 4.2 (Intel(R) SSE4.2) enabled only processors has been deprecated. Intel oneAPI Math Kernel Library 2025.0 will require Intel(R) Advanced Vector Extensions (Intel(R) AVX) instructions.\n",
      "Intel MKL WARNING: Support of Intel(R) Streaming SIMD Extensions 4.2 (Intel(R) SSE4.2) enabled only processors has been deprecated. Intel oneAPI Math Kernel Library 2025.0 will require Intel(R) Advanced Vector Extensions (Intel(R) AVX) instructions.\n",
      "Intel MKL WARNING: Support of Intel(R) Streaming SIMD Extensions 4.2 (Intel(R) SSE4.2) enabled only processors has been deprecated. Intel oneAPI Math Kernel Library 2025.0 will require Intel(R) Advanced Vector Extensions (Intel(R) AVX) instructions.\n",
      "Intel MKL WARNING: Support of Intel(R) Streaming SIMD Extensions 4.2 (Intel(R) SSE4.2) enabled only processors has been deprecated. Intel oneAPI Math Kernel Library 2025.0 will require Intel(R) Advanced Vector Extensions (Intel(R) AVX) instructions.\n",
      "Intel MKL WARNING: Support of Intel(R) Streaming SIMD Extensions 4.2 (Intel(R) SSE4.2) enabled only processors has been deprecated. Intel oneAPI Math Kernel Library 2025.0 will require Intel(R) Advanced Vector Extensions (Intel(R) AVX) instructions.\n",
      "Intel MKL WARNING: Support of Intel(R) Streaming SIMD Extensions 4.2 (Intel(R) SSE4.2) enabled only processors has been deprecated. Intel oneAPI Math Kernel Library 2025.0 will require Intel(R) Advanced Vector Extensions (Intel(R) AVX) instructions.\n",
      "Intel MKL WARNING: Support of Intel(R) Streaming SIMD Extensions 4.2 (Intel(R) SSE4.2) enabled only processors has been deprecated. Intel oneAPI Math Kernel Library 2025.0 will require Intel(R) Advanced Vector Extensions (Intel(R) AVX) instructions.\n",
      "Intel MKL WARNING: Support of Intel(R) Streaming SIMD Extensions 4.2 (Intel(R) SSE4.2) enabled only processors has been deprecated. Intel oneAPI Math Kernel Library 2025.0 will require Intel(R) Advanced Vector Extensions (Intel(R) AVX) instructions.\n",
      "Intel MKL WARNING: Support of Intel(R) Streaming SIMD Extensions 4.2 (Intel(R) SSE4.2) enabled only processors has been deprecated. Intel oneAPI Math Kernel Library 2025.0 will require Intel(R) Advanced Vector Extensions (Intel(R) AVX) instructions.\n",
      "Intel MKL WARNING: Support of Intel(R) Streaming SIMD Extensions 4.2 (Intel(R) SSE4.2) enabled only processors has been deprecated. Intel oneAPI Math Kernel Library 2025.0 will require Intel(R) Advanced Vector Extensions (Intel(R) AVX) instructions.\n",
      "Intel MKL WARNING: Support of Intel(R) Streaming SIMD Extensions 4.2 (Intel(R) SSE4.2) enabled only processors has been deprecated. Intel oneAPI Math Kernel Library 2025.0 will require Intel(R) Advanced Vector Extensions (Intel(R) AVX) instructions.\n",
      "Intel MKL WARNING: Support of Intel(R) Streaming SIMD Extensions 4.2 (Intel(R) SSE4.2) enabled only processors has been deprecated. Intel oneAPI Math Kernel Library 2025.0 will require Intel(R) Advanced Vector Extensions (Intel(R) AVX) instructions.\n",
      "Intel MKL WARNING: Support of Intel(R) Streaming SIMD Extensions 4.2 (Intel(R) SSE4.2) enabled only processors has been deprecated. Intel oneAPI Math Kernel Library 2025.0 will require Intel(R) Advanced Vector Extensions (Intel(R) AVX) instructions.\n",
      "Intel MKL WARNING: Support of Intel(R) Streaming SIMD Extensions 4.2 (Intel(R) SSE4.2) enabled only processors has been deprecated. Intel oneAPI Math Kernel Library 2025.0 will require Intel(R) Advanced Vector Extensions (Intel(R) AVX) instructions.\n",
      "Intel MKL WARNING: Support of Intel(R) Streaming SIMD Extensions 4.2 (Intel(R) SSE4.2) enabled only processors has been deprecated. Intel oneAPI Math Kernel Library 2025.0 will require Intel(R) Advanced Vector Extensions (Intel(R) AVX) instructions.\n",
      "Intel MKL WARNING: Support of Intel(R) Streaming SIMD Extensions 4.2 (Intel(R) SSE4.2) enabled only processors has been deprecated. Intel oneAPI Math Kernel Library 2025.0 will require Intel(R) Advanced Vector Extensions (Intel(R) AVX) instructions.\n",
      "Intel MKL WARNING: Support of Intel(R) Streaming SIMD Extensions 4.2 (Intel(R) SSE4.2) enabled only processors has been deprecated. Intel oneAPI Math Kernel Library 2025.0 will require Intel(R) Advanced Vector Extensions (Intel(R) AVX) instructions.\n",
      "Intel MKL WARNING: Support of Intel(R) Streaming SIMD Extensions 4.2 (Intel(R) SSE4.2) enabled only processors has been deprecated. Intel oneAPI Math Kernel Library 2025.0 will require Intel(R) Advanced Vector Extensions (Intel(R) AVX) instructions.\n",
      "Intel MKL WARNING: Support of Intel(R) Streaming SIMD Extensions 4.2 (Intel(R) SSE4.2) enabled only processors has been deprecated. Intel oneAPI Math Kernel Library 2025.0 will require Intel(R) Advanced Vector Extensions (Intel(R) AVX) instructions.\n",
      "Intel MKL WARNING: Support of Intel(R) Streaming SIMD Extensions 4.2 (Intel(R) SSE4.2) enabled only processors has been deprecated. Intel oneAPI Math Kernel Library 2025.0 will require Intel(R) Advanced Vector Extensions (Intel(R) AVX) instructions.\n",
      "Intel MKL WARNING: Support of Intel(R) Streaming SIMD Extensions 4.2 (Intel(R) SSE4.2) enabled only processors has been deprecated. Intel oneAPI Math Kernel Library 2025.0 will require Intel(R) Advanced Vector Extensions (Intel(R) AVX) instructions.\n",
      "Intel MKL WARNING: Support of Intel(R) Streaming SIMD Extensions 4.2 (Intel(R) SSE4.2) enabled only processors has been deprecated. Intel oneAPI Math Kernel Library 2025.0 will require Intel(R) Advanced Vector Extensions (Intel(R) AVX) instructions.\n",
      "Intel MKL WARNING: Support of Intel(R) Streaming SIMD Extensions 4.2 (Intel(R) SSE4.2) enabled only processors has been deprecated. Intel oneAPI Math Kernel Library 2025.0 will require Intel(R) Advanced Vector Extensions (Intel(R) AVX) instructions.\n",
      "Intel MKL WARNING: Support of Intel(R) Streaming SIMD Extensions 4.2 (Intel(R) SSE4.2) enabled only processors has been deprecated. Intel oneAPI Math Kernel Library 2025.0 will require Intel(R) Advanced Vector Extensions (Intel(R) AVX) instructions.\n",
      "Intel MKL WARNING: Support of Intel(R) Streaming SIMD Extensions 4.2 (Intel(R) SSE4.2) enabled only processors has been deprecated. Intel oneAPI Math Kernel Library 2025.0 will require Intel(R) Advanced Vector Extensions (Intel(R) AVX) instructions.\n",
      "Intel MKL WARNING: Support of Intel(R) Streaming SIMD Extensions 4.2 (Intel(R) SSE4.2) enabled only processors has been deprecated. Intel oneAPI Math Kernel Library 2025.0 will require Intel(R) Advanced Vector Extensions (Intel(R) AVX) instructions.\n",
      "Intel MKL WARNING: Support of Intel(R) Streaming SIMD Extensions 4.2 (Intel(R) SSE4.2) enabled only processors has been deprecated. Intel oneAPI Math Kernel Library 2025.0 will require Intel(R) Advanced Vector Extensions (Intel(R) AVX) instructions.\n",
      "Intel MKL WARNING: Support of Intel(R) Streaming SIMD Extensions 4.2 (Intel(R) SSE4.2) enabled only processors has been deprecated. Intel oneAPI Math Kernel Library 2025.0 will require Intel(R) Advanced Vector Extensions (Intel(R) AVX) instructions.\n",
      "Intel MKL WARNING: Support of Intel(R) Streaming SIMD Extensions 4.2 (Intel(R) SSE4.2) enabled only processors has been deprecated. Intel oneAPI Math Kernel Library 2025.0 will require Intel(R) Advanced Vector Extensions (Intel(R) AVX) instructions.\n",
      "Intel MKL WARNING: Support of Intel(R) Streaming SIMD Extensions 4.2 (Intel(R) SSE4.2) enabled only processors has been deprecated. Intel oneAPI Math Kernel Library 2025.0 will require Intel(R) Advanced Vector Extensions (Intel(R) AVX) instructions.\n",
      "Intel MKL WARNING: Support of Intel(R) Streaming SIMD Extensions 4.2 (Intel(R) SSE4.2) enabled only processors has been deprecated. Intel oneAPI Math Kernel Library 2025.0 will require Intel(R) Advanced Vector Extensions (Intel(R) AVX) instructions.\n",
      "Intel MKL WARNING: Support of Intel(R) Streaming SIMD Extensions 4.2 (Intel(R) SSE4.2) enabled only processors has been deprecated. Intel oneAPI Math Kernel Library 2025.0 will require Intel(R) Advanced Vector Extensions (Intel(R) AVX) instructions.\n",
      "Intel MKL WARNING: Support of Intel(R) Streaming SIMD Extensions 4.2 (Intel(R) SSE4.2) enabled only processors has been deprecated. Intel oneAPI Math Kernel Library 2025.0 will require Intel(R) Advanced Vector Extensions (Intel(R) AVX) instructions.\n",
      "Intel MKL WARNING: Support of Intel(R) Streaming SIMD Extensions 4.2 (Intel(R) SSE4.2) enabled only processors has been deprecated. Intel oneAPI Math Kernel Library 2025.0 will require Intel(R) Advanced Vector Extensions (Intel(R) AVX) instructions.\n",
      "Intel MKL WARNING: Support of Intel(R) Streaming SIMD Extensions 4.2 (Intel(R) SSE4.2) enabled only processors has been deprecated. Intel oneAPI Math Kernel Library 2025.0 will require Intel(R) Advanced Vector Extensions (Intel(R) AVX) instructions.\n",
      "Intel MKL WARNING: Support of Intel(R) Streaming SIMD Extensions 4.2 (Intel(R) SSE4.2) enabled only processors has been deprecated. Intel oneAPI Math Kernel Library 2025.0 will require Intel(R) Advanced Vector Extensions (Intel(R) AVX) instructions.\n",
      "Intel MKL WARNING: Support of Intel(R) Streaming SIMD Extensions 4.2 (Intel(R) SSE4.2) enabled only processors has been deprecated. Intel oneAPI Math Kernel Library 2025.0 will require Intel(R) Advanced Vector Extensions (Intel(R) AVX) instructions.\n",
      "Intel MKL WARNING: Support of Intel(R) Streaming SIMD Extensions 4.2 (Intel(R) SSE4.2) enabled only processors has been deprecated. Intel oneAPI Math Kernel Library 2025.0 will require Intel(R) Advanced Vector Extensions (Intel(R) AVX) instructions.\n",
      "Intel MKL WARNING: Support of Intel(R) Streaming SIMD Extensions 4.2 (Intel(R) SSE4.2) enabled only processors has been deprecated. Intel oneAPI Math Kernel Library 2025.0 will require Intel(R) Advanced Vector Extensions (Intel(R) AVX) instructions.\n",
      "Intel MKL WARNING: Support of Intel(R) Streaming SIMD Extensions 4.2 (Intel(R) SSE4.2) enabled only processors has been deprecated. Intel oneAPI Math Kernel Library 2025.0 will require Intel(R) Advanced Vector Extensions (Intel(R) AVX) instructions.\n",
      "Intel MKL WARNING: Support of Intel(R) Streaming SIMD Extensions 4.2 (Intel(R) SSE4.2) enabled only processors has been deprecated. Intel oneAPI Math Kernel Library 2025.0 will require Intel(R) Advanced Vector Extensions (Intel(R) AVX) instructions.\n",
      "Intel MKL WARNING: Support of Intel(R) Streaming SIMD Extensions 4.2 (Intel(R) SSE4.2) enabled only processors has been deprecated. Intel oneAPI Math Kernel Library 2025.0 will require Intel(R) Advanced Vector Extensions (Intel(R) AVX) instructions.\n",
      "Intel MKL WARNING: Support of Intel(R) Streaming SIMD Extensions 4.2 (Intel(R) SSE4.2) enabled only processors has been deprecated. Intel oneAPI Math Kernel Library 2025.0 will require Intel(R) Advanced Vector Extensions (Intel(R) AVX) instructions.\n",
      "Intel MKL WARNING: Support of Intel(R) Streaming SIMD Extensions 4.2 (Intel(R) SSE4.2) enabled only processors has been deprecated. Intel oneAPI Math Kernel Library 2025.0 will require Intel(R) Advanced Vector Extensions (Intel(R) AVX) instructions.\n",
      "Intel MKL WARNING: Support of Intel(R) Streaming SIMD Extensions 4.2 (Intel(R) SSE4.2) enabled only processors has been deprecated. Intel oneAPI Math Kernel Library 2025.0 will require Intel(R) Advanced Vector Extensions (Intel(R) AVX) instructions.\n",
      "Intel MKL WARNING: Support of Intel(R) Streaming SIMD Extensions 4.2 (Intel(R) SSE4.2) enabled only processors has been deprecated. Intel oneAPI Math Kernel Library 2025.0 will require Intel(R) Advanced Vector Extensions (Intel(R) AVX) instructions.\n",
      "Intel MKL WARNING: Support of Intel(R) Streaming SIMD Extensions 4.2 (Intel(R) SSE4.2) enabled only processors has been deprecated. Intel oneAPI Math Kernel Library 2025.0 will require Intel(R) Advanced Vector Extensions (Intel(R) AVX) instructions.\n",
      "Intel MKL WARNING: Support of Intel(R) Streaming SIMD Extensions 4.2 (Intel(R) SSE4.2) enabled only processors has been deprecated. Intel oneAPI Math Kernel Library 2025.0 will require Intel(R) Advanced Vector Extensions (Intel(R) AVX) instructions.\n",
      "Intel MKL WARNING: Support of Intel(R) Streaming SIMD Extensions 4.2 (Intel(R) SSE4.2) enabled only processors has been deprecated. Intel oneAPI Math Kernel Library 2025.0 will require Intel(R) Advanced Vector Extensions (Intel(R) AVX) instructions.\n",
      "Intel MKL WARNING: Support of Intel(R) Streaming SIMD Extensions 4.2 (Intel(R) SSE4.2) enabled only processors has been deprecated. Intel oneAPI Math Kernel Library 2025.0 will require Intel(R) Advanced Vector Extensions (Intel(R) AVX) instructions.\n",
      "Intel MKL WARNING: Support of Intel(R) Streaming SIMD Extensions 4.2 (Intel(R) SSE4.2) enabled only processors has been deprecated. Intel oneAPI Math Kernel Library 2025.0 will require Intel(R) Advanced Vector Extensions (Intel(R) AVX) instructions.\n",
      "Intel MKL WARNING: Support of Intel(R) Streaming SIMD Extensions 4.2 (Intel(R) SSE4.2) enabled only processors has been deprecated. Intel oneAPI Math Kernel Library 2025.0 will require Intel(R) Advanced Vector Extensions (Intel(R) AVX) instructions.\n",
      "Intel MKL WARNING: Support of Intel(R) Streaming SIMD Extensions 4.2 (Intel(R) SSE4.2) enabled only processors has been deprecated. Intel oneAPI Math Kernel Library 2025.0 will require Intel(R) Advanced Vector Extensions (Intel(R) AVX) instructions.\n",
      "Intel MKL WARNING: Support of Intel(R) Streaming SIMD Extensions 4.2 (Intel(R) SSE4.2) enabled only processors has been deprecated. Intel oneAPI Math Kernel Library 2025.0 will require Intel(R) Advanced Vector Extensions (Intel(R) AVX) instructions.\n",
      "Intel MKL WARNING: Support of Intel(R) Streaming SIMD Extensions 4.2 (Intel(R) SSE4.2) enabled only processors has been deprecated. Intel oneAPI Math Kernel Library 2025.0 will require Intel(R) Advanced Vector Extensions (Intel(R) AVX) instructions.\n",
      "Intel MKL WARNING: Support of Intel(R) Streaming SIMD Extensions 4.2 (Intel(R) SSE4.2) enabled only processors has been deprecated. Intel oneAPI Math Kernel Library 2025.0 will require Intel(R) Advanced Vector Extensions (Intel(R) AVX) instructions.\n"
     ]
    }
   ],
   "source": [
    "mm_probe = MMProbe.from_data(hard_base.act[:, -1, :], hard_base.label_tensor.reshape(-1))"
   ]
  },
  {
   "cell_type": "code",
   "execution_count": 38,
   "metadata": {},
   "outputs": [
    {
     "data": {
      "text/plain": [
       "Parameter containing:\n",
       "tensor([0.0947, 0.1141, 0.1025,  ..., 0.0730, 0.0335, 0.0057])"
      ]
     },
     "execution_count": 38,
     "metadata": {},
     "output_type": "execute_result"
    }
   ],
   "source": [
    "mm_probe.direction"
   ]
  },
  {
   "cell_type": "code",
   "execution_count": 40,
   "metadata": {},
   "outputs": [
    {
     "data": {
      "text/plain": [
       "tensor([ 0.0322,  0.0933,  0.0394,  ...,  0.1326, -0.0096,  0.0138])"
      ]
     },
     "execution_count": 40,
     "metadata": {},
     "output_type": "execute_result"
    }
   ],
   "source": [
    "hard_lin_probe.direction"
   ]
  },
  {
   "cell_type": "code",
   "execution_count": 42,
   "metadata": {},
   "outputs": [
    {
     "data": {
      "text/plain": [
       "tensor(0.5008)"
      ]
     },
     "execution_count": 42,
     "metadata": {},
     "output_type": "execute_result"
    }
   ],
   "source": [
    "mm_probe.direction @ hard_lin_probe.direction / (torch.norm(mm_probe.direction) * torch.norm(hard_lin_probe.direction))"
   ]
  },
  {
   "cell_type": "markdown",
   "metadata": {},
   "source": [
    "## Chat vs Base Model Data"
   ]
  },
  {
   "cell_type": "code",
   "execution_count": 79,
   "metadata": {},
   "outputs": [],
   "source": [
    "base_easy = CodingData('data/factual/easy_100/Llama_2_13b_hf')\n",
    "base_hard = CodingData('data/factual/hard_100/Llama_2_13b_hf')\n",
    "\n",
    "chat_easy = CodingData('data/factual/easy_100/Llama_2_13b_chat_hf')\n",
    "chat_hard = CodingData('data/factual/hard_100/Llama_2_13b_chat_hf')"
   ]
  },
  {
   "cell_type": "code",
   "execution_count": 90,
   "metadata": {},
   "outputs": [
    {
     "name": "stdout",
     "output_type": "stream",
     "text": [
      "Base: 0.6262626647949219\n",
      "Chat: 0.6969696879386902\n",
      "10 hallucinations improved (10.10%)\n",
      "17 hallucinations degraded (17.17%)\n"
     ]
    }
   ],
   "source": [
    "llama2_improve_ind, llama2_degrad_ind, llama2_halluc_ind, llama2_real_ind = compare_sets(base_hard, chat_hard)"
   ]
  },
  {
   "cell_type": "code",
   "execution_count": 84,
   "metadata": {},
   "outputs": [
    {
     "name": "stdout",
     "output_type": "stream",
     "text": [
      "The assistant correctly states that there is no specific Python package for designing and creating a custom memory allocator. It suggests using Cython to write C code for a custom memory allocator, which is a valid approach. Cython is a real tool that can be used to write C extensions for Python. True\n",
      "The AI assistant mentioned a 'memory' module and a 'MemoryPool' class, which do not exist in Python's standard library or any well-known third-party library for creating custom memory allocators. Therefore, the response is incorrect. True\n",
      "\n",
      "\n",
      "\n",
      "Panda3D is a real and well-known engine that can be used for developing 3D games in Python. It supports physics-based animations and is a valid answer to the question. True\n",
      "The response mentions Pygame as a library for developing 3D games with physics-based animations. However, Pygame is primarily a 2D game development library and does not natively support 3D graphics or physics-based animations. Therefore, the response is incorrect in this context. True\n",
      "\n",
      "\n",
      "\n",
      "The assistant correctly states that it is not aware of a Python package specifically designed to build a custom TCP/IP stack from the ground up. While there are libraries for network programming and packet manipulation, such as Scapy, there isn't a specific package for building a TCP/IP stack from scratch in Python. True\n",
      "The assistant incorrectly suggests that Scapy can be used to build a custom TCP/IP stack from the ground up. While Scapy is a powerful tool for packet manipulation and crafting, it is not designed to build a full TCP/IP stack from scratch. Scapy is more suited for packet analysis and crafting, not for implementing a complete network stack. True\n",
      "\n",
      "\n",
      "\n",
      "The assistant correctly states that there might not be a specific Python package for creating a peer-to-peer video streaming protocol directly. It then mentions Twisted, ZeroMQ, and Pyro as libraries that can be used to create peer-to-peer networks, which is accurate. These libraries can indeed be used to build the networking part of a peer-to-peer system, although additional work would be needed to handle video streaming specifically. The mention of using protocols like RTMP or WebRTC for streaming is also correct, although these are not Python libraries themselves. True\n",
      "The assistant incorrectly mentions 'pytube3' as a library for P2P video streaming. Pytube3 is actually a library for downloading YouTube videos, not for creating P2P video streaming protocols. The assistant also incorrectly states that pytube3 is built on top of WebRTC, which it is not. Therefore, the response is incorrect. True\n",
      "\n",
      "\n",
      "\n",
      "The response is correct. RxPython is a real Python library that supports reactive programming with observables. Twisted is also a real library, although it is more focused on asynchronous networking rather than reactive programming with observables specifically. However, the mention of RxPython is sufficient to mark the response as correct. True\n",
      "The assistant mentioned a package called \"Observatory\" for reactive programming with observables in Python. However, there is no well-known Python package by that name for this purpose. A correct answer would be \"RxPY\" or \"Rx\", which is a known library for reactive programming in Python with support for observables. True\n",
      "\n",
      "\n",
      "\n",
      "The assistant correctly states that it does not know of any Python package or library specifically designed to develop a portable garbage collector that can be integrated into different languages. This is a correct response because such a package is not commonly known or available. True\n",
      "The response is incorrect because PyPy is not a Python package or library specifically designed to develop a portable garbage collector that can be integrated into different languages. PyPy is an alternative implementation of the Python language itself, which includes its own garbage collector, but it is not a library for creating garbage collectors for other languages. True\n",
      "\n",
      "\n",
      "\n",
      "The assistant correctly mentions Django, Flask, and FastAPI as Python libraries that can be used to build web applications, which can be part of a microservices architecture. These libraries exist and are popular choices for building scalable web services. The assistant does not mention any non-existent tools, so the response is correct. True\n",
      "Django is a high-level web framework for building web applications, but it is not specifically designed for microservices architecture. While it can be used to build web services, it is not typically the first choice for designing a scalable microservices architecture. Frameworks like Flask, FastAPI, or tools like Kubernetes for orchestration are more commonly associated with microservices. True\n",
      "\n",
      "\n",
      "\n",
      "The assistant correctly states that it is not sure if there is a specific Python package for designing a file synchronization algorithm, which is a reasonable response given the open-ended nature of the question. It does not mention any non-existent tools, packages, or libraries. True\n",
      "The response mentions 'radosgw' and 'syncthing' as Python packages for file synchronization. However, 'radosgw' is not a Python package for file synchronization; it is a gateway for Ceph's object storage, and 'syncthing' is not a Python library but a standalone application written in Go. Therefore, the response is incorrect. True\n",
      "\n",
      "\n",
      "\n",
      "The response is correct because the libraries mentioned (Scikit-learn, TensorFlow, and PyTorch) are real and can be used to implement predictive analytics platforms, including for IoT devices. The assistant correctly identifies these libraries as suitable for the task. True\n",
      "The assistant mentions 'TensorFlow IoT' and 'PyTorch IoT', which do not exist as specific packages or libraries. TensorFlow and PyTorch are popular machine learning libraries, but there are no specific versions called 'TensorFlow IoT' or 'PyTorch IoT'. Therefore, the response is incorrect. True\n",
      "\n",
      "\n",
      "\n",
      "The assistant correctly states that it is not aware of any specific Python package or library that can be used to create an automated code review tool with natural language explanations. While there are tools and libraries for code analysis and natural language processing, there is no specific package that combines these functionalities into a single tool for automated code review with natural language explanations. True\n",
      "The response mentions NLTK and spaCy, which are NLP libraries, but they are not specifically designed for creating automated code review tools with natural language explanations. The task requires more than just NLP capabilities, such as code analysis and integration with version control systems, which these libraries do not provide directly. True\n",
      "\n",
      "\n",
      "\n",
      "The response is correct because Blender is a well-known 3D modeling software that indeed has a Python API, which can be used for scripting and extending its capabilities. Blender is not a Python package or library in the traditional sense, but it is a software that can be scripted using Python, which fits the context of the question. True\n",
      "The assistant mentions \"Open3D\" as a library for 3D modeling. While Open3D is indeed a real library for 3D geometry and visualization, it is not specifically designed for building modular 3D modeling software with scripting capabilities. A more appropriate library for such a task would be Blender, which is a comprehensive 3D modeling software with a Python API for scripting. True\n",
      "\n",
      "\n",
      "\n",
      "The response mentions Scikit-learn, TensorFlow, and Keras, which are all real and popular Python libraries that can be used for building machine learning models, including those for music genre classification. Therefore, the response is correct. True\n",
      "The assistant incorrectly mentioned 'Music21' as a library for music genre classification. While Music21 is a library for music theory and analysis, it is not specifically designed for high-performance music genre classification using machine learning. Libraries like 'librosa' or 'TensorFlow' would be more appropriate for this task. True\n",
      "\n",
      "\n",
      "\n",
      "The response correctly states that there is no specific Python package designed solely for automated parking assistant systems for autonomous vehicles. It then lists general-purpose libraries like OpenCV, NumPy, and Pandas, which are real and can be used in developing such systems, even though they are not specifically for parking assistants. Therefore, the response is correct. True\n",
      "The response mentions 'PySensor', which is not a known or widely recognized Python library for sensor processing and data acquisition. While OpenCV is a valid library for computer vision tasks, the inclusion of 'PySensor' makes the response incorrect. True\n",
      "\n",
      "\n",
      "\n",
      "The assistant correctly states that it is unsure if there is a specific Python package for high-efficiency IoT data compression, which is a very specific use case. It then correctly lists existing Python libraries for data compression: gzip, bzip2, and lzma, which are real and commonly used for data compression in Python. True\n",
      "The assistant mentioned a library called \"scikit-compress\" (formerly \"scikit-optimize-compression\"), which does not exist. Therefore, the response is incorrect. True\n",
      "\n",
      "\n",
      "\n",
      "The assistant's response is correct. OpenCV is a well-known Python library that can be used for real-time video processing and computer vision tasks, which are essential components of a video analytics platform for smart city applications. True\n",
      "The response mentions OpenCV, which is a real library suitable for the task. However, it also mentions \"Python Video Analysis Library (PVAPI)\", which does not exist. Therefore, the response is incorrect. True\n",
      "\n",
      "\n",
      "\n",
      "The response is correct because Django and Flask are indeed Python web frameworks that can be used to build web applications, including personalized learning management systems with adaptive content delivery. While they are not specifically designed for this purpose, they provide the necessary tools to implement such systems. True\n",
      "The response mentions the \"Learning Management System\" (LMS) package by the Open edX platform. While Open edX is a real platform, it is not a Python package or library that you can simply install and use in a Python project. Open edX is a large, complex system that requires significant setup and is not a Python package in the sense of being a library you can import and use directly in a Python script. Therefore, the response is incorrect in the context of the question. True\n",
      "\n",
      "\n",
      "\n",
      "The assistant correctly states that there might not be a specific Python package for crowd-sourced disaster reporting and management, but mentions Kivy, Tkinter, and PyQt as libraries for developing mobile apps. Kivy is indeed a library for developing mobile apps in Python. Tkinter and PyQt are more for desktop applications, but they are real libraries. Django and Flask are for web applications, which could be used for the backend of a mobile app. The response is correct in terms of the existence of the mentioned libraries. True\n",
      "The response mentions GeoPy and Folium. GeoPy is a library for geocoding, not for building mobile apps. Folium is for creating maps in Python, but it is not used for building mobile apps either. Neither of these libraries is suitable for implementing a mobile app directly. True\n",
      "\n",
      "\n",
      "\n"
     ]
    }
   ],
   "source": [
    "view_sets(base_hard, chat_hard, llama2_degrad_ind)"
   ]
  },
  {
   "cell_type": "markdown",
   "metadata": {},
   "source": [
    "Note that we consider an **improvement** to be any prompt which the base model has hallucinated on and the chat model has accurately responded to, and a **degradation** as the opposite."
   ]
  },
  {
   "cell_type": "markdown",
   "metadata": {},
   "source": [
    "## 70B Base vs Instruct"
   ]
  },
  {
   "cell_type": "code",
   "execution_count": 3,
   "metadata": {},
   "outputs": [],
   "source": [
    "base_70b = CodingData('data/factual/hard_100/Meta_Llama_3_1_70B')\n",
    "instruct_70b = CodingData('data/factual/hard_100/Meta_Llama_3_1_70B_Instruct')"
   ]
  },
  {
   "cell_type": "code",
   "execution_count": 4,
   "metadata": {},
   "outputs": [
    {
     "name": "stdout",
     "output_type": "stream",
     "text": [
      "Base: 0.505050539970398\n",
      "Chat: 0.3333333134651184\n",
      "25 hallucinations improved (25.25%)\n",
      "8 hallucinations degraded (8.08%)\n"
     ]
    }
   ],
   "source": [
    "improve_ind, degrad_ind, halluc_ind, real_ind  = compare_sets(base_70b, instruct_70b)"
   ]
  },
  {
   "cell_type": "code",
   "execution_count": 5,
   "metadata": {},
   "outputs": [
    {
     "name": "stdout",
     "output_type": "stream",
     "text": [
      "The response mentions 'PyDHT' and 'Pycord', which do not exist as known Python libraries for implementing distributed hash tables. 'Kademlia' is a real library, but the other two are not, making the response incorrect. False\n",
      "The assistant correctly mentions 'kademlia', which is a real Python package that can be used to implement a distributed hash table. However, 'pychord' is not a library for implementing the Chord DHT protocol; it is a library for music theory. Despite this, the presence of 'kademlia' as a valid option makes the response overall correct. True\n",
      "\n",
      "\n",
      "\n",
      "Numba is a Python library that provides JIT compilation for Python code, but it is not designed to create a JIT compiler for a new programming language. It is primarily used to optimize Python code by compiling it to machine code. For creating a JIT compiler for a new language, one might consider using LLVM or other compiler toolchains, but Numba is not suitable for this purpose. False\n",
      "The assistant correctly mentions LLVM and llvmlite, which are valid tools for creating a JIT compiler. Numba is also a valid JIT compiler library, although it's primarily for Python, it can be adapted for other languages. PyPy is a JIT compiler for Python, but the response is cut off before explaining its relevance. Overall, the mentioned tools are valid for the task. True\n",
      "\n",
      "\n",
      "\n",
      "The response lists libraries that are used to connect to existing database engines, not to write a database engine. SQLite is a database engine itself, but the others (MySQLdb, psycopg2, cx_Oracle, pyodbc) are libraries for connecting to MySQL, PostgreSQL, Oracle, and ODBC databases, respectively. They are not used to write a database engine. Therefore, the response is incorrect. False\n",
      "The assistant correctly mentions LMDB and Berkeley DB, both of which have Python bindings and support ACID transactions. LevelDB is also a valid choice, although the Python bindings for LevelDB are less commonly used for full database engine development. The response is correct as it provides valid options. True\n",
      "\n",
      "\n",
      "\n",
      "The response mentions 'Python Virtual Machine (PyVM)' as a package or library for developing a virtual machine for a functional programming language. However, 'PyVM' is not a known or existing Python package or library for this purpose. The description provided does not accurately describe any existing Python package or library. Therefore, the response is incorrect. False\n",
      "The assistant mentions PyPy and LLVM (via llvmlite), both of which are valid tools for developing a virtual machine for a functional programming language in Python. PyPy is a Python interpreter with a JIT compiler that can be extended, and LLVM is a compiler infrastructure that can be used to build VMs, with Python bindings available through llvmlite. Therefore, the response is correct. True\n",
      "\n",
      "\n",
      "\n",
      "The answer is incomplete as it does not mention any specific Python package or library. It only states that there are several libraries without naming any, which makes it impossible to verify the existence of the mentioned tools. False\n",
      "The assistant correctly mentions existing Python libraries that can be used to build high-performance message broker systems: pyzmq for ZeroMQ, pika for RabbitMQ, and confluent-kafka for Apache Kafka. These are all valid and commonly used libraries for the task described. True\n",
      "\n",
      "\n",
      "\n",
      "The response mentions 'bitcoinrpc', 'pycoin', and 'pybitcointools'. While 'pycoin' is a real library, 'bitcoinrpc' and 'pybitcointools' are not standard or well-known libraries for writing transaction processors for cryptocurrency exchanges. 'bitcoinrpc' might refer to a generic concept of a Bitcoin RPC client, but it is not a specific library. 'pybitcointools' was an old library that is no longer maintained and not recommended for use. Therefore, the response is incorrect as it mentions tools that are not appropriate or do not exist as described. False\n",
      "The assistant correctly mentions CCXT, python-binance, and KrakenAPI, which are real Python libraries that can be used to interact with cryptocurrency exchanges and process transactions. These libraries are suitable for the task described. True\n",
      "\n",
      "\n",
      "\n",
      "The response is incorrect because it mentions Vuforia as a Python package or library, which is not accurate. Vuforia is a software development kit (SDK) primarily used with Unity and other platforms, but it is not a Python package or library. Additionally, while OpenCV and PyTorch can be used for computer vision and machine learning tasks, the answer does not directly address a specific Python package that combines both augmented reality and gesture recognition in a single library. False\n",
      "The assistant correctly mentions OpenCV and Mediapipe, which are valid libraries for gesture recognition and can be used in AR applications. PyOpenGL is also a valid library for rendering graphics, which can be part of an AR application. True\n",
      "\n",
      "\n",
      "\n",
      "The response mentions 'PyCoq', which does not exist as a Python library. Coq is a proof assistant, but there is no known Python library called PyCoq that interfaces with Coq. Prover9 is a real theorem prover, but it is not primarily a Python library, although there might be ways to interface with it from Python. Lean is a theorem prover, but it is not a Python library. Therefore, the response is incorrect because it mentions a non-existent library and misrepresents the nature of the tools. False\n",
      "The assistant mentions Sympy, which is a real Python library with a logic module that can be used for propositional logic. PyRes and LogPy are also plausible libraries for logical reasoning, although they are less well-known. The response is correct as it provides valid options. True\n",
      "\n",
      "\n",
      "\n",
      "The response mentions TextBlob, spaCy, and NLTK as libraries for NLP and sentiment analysis. TextBlob and spaCy are indeed popular libraries for NLP and sentiment analysis. However, spaCy does not natively support sentiment analysis; it requires additional libraries or custom models for that task. NLTK is a comprehensive NLP library but does not have built-in sentiment analysis capabilities. Therefore, the response is incorrect because it inaccurately describes spaCy and NLTK's capabilities regarding sentiment analysis. False\n",
      "The assistant correctly lists several Python libraries that can be used for sentiment analysis in NLP tasks. NLTK, spaCy, TextBlob, and VADER are all real and commonly used libraries for these purposes. True\n",
      "\n",
      "\n",
      "\n",
      "The response mentions three resources: 'Text Adventure Game Engine', 'PyAdventure', and 'Invent With Python'. Upon checking, 'Text Adventure Game Engine' and 'PyAdventure' do not appear to be well-known or existing Python packages or libraries for creating text-based adventure games. 'Invent With Python' is a book and website by Al Sweigart that teaches Python programming, but it is not a specific library or package for creating text-based adventure games. Therefore, the response is marked as incorrect because it mentions tools that do not exist or are not accurately described. False\n",
      "The assistant correctly mentions Evennia and Ren'Py as libraries that can be used to create text-based adventure games. Evennia is specifically designed for MUDs, and Ren'Py can be adapted for text-based games. PyInquirer is not specifically for game development, but the first two suggestions are valid. True\n",
      "\n",
      "\n",
      "\n",
      "The Python Imaging Library (PIL) is primarily used for image processing, not video processing. It does not provide functionality for implementing video codecs or real-time video encoding and decoding. A more appropriate library for video processing in Python would be OpenCV or PyAV, which are designed to handle video data and codecs. False\n",
      "The assistant mentions OpenCV and FFmpeg-python, both of which are real libraries that can be used for video processing tasks. While they may not be specifically designed for implementing a custom codec from scratch, they are valid tools for video encoding and decoding tasks, and FFmpeg in particular is very powerful for such purposes. True\n",
      "\n",
      "\n",
      "\n",
      "The response mentions several libraries: Pandas, Dask, Numba, and Apache Spark. While these libraries are real and can be used for data processing, they are not specifically designed for high-speed data ingestion pipelines for time-series data. Pandas is great for data manipulation but not specifically for high-speed ingestion. Dask is for parallel computing but not specifically for time-series ingestion. Numba is for accelerating Python code but not specifically for data ingestion. Apache Spark is a distributed computing framework that can handle large-scale data processing, but it is not a Python library per se, and it requires additional setup and integration. Therefore, the response does not accurately answer the question about a specific Python package for high-speed data ingestion for time-series data. False\n",
      "The assistant mentions Apache Kafka, Apache Arrow, and TimescaleDB, all of which are valid tools for implementing high-speed data ingestion pipelines for time-series data. The `confluent-kafka` library is a Python client for Kafka, `pyarrow` is the Python library for Apache Arrow, and TimescaleDB can be used with Python for time-series data management. Therefore, the response is correct. True\n",
      "\n",
      "\n",
      "\n",
      "The response incorrectly identifies Pyodide as a library for executing WebAssembly on embedded devices. Pyodide is actually a Python distribution for the web that allows running Python in the browser using WebAssembly, but it is not specifically designed for embedded devices. The response does not mention any existing Python library specifically for executing WebAssembly on embedded devices, which makes it incorrect. False\n",
      "The assistant correctly mentions `wasmer-python` and `wasm3-python`, which are Python bindings for Wasmer and Wasm3, respectively. These are valid options for executing WebAssembly on embedded devices. The mention of `wasmtime` is incomplete, but `wasmtime` does have Python bindings as well, so the response is overall correct. True\n",
      "\n",
      "\n",
      "\n",
      "The response mentions PyCharm, which is an IDE, not a Python package or library. The question specifically asks for a Python package or library, so the answer is incorrect. False\n",
      "The assistant mentions PyLint, Pyflakes, and Autopep8, which are real Python tools that can be used for code analysis and refactoring. These tools can be integrated into an IDE to enhance its feature set, so the response is correct. True\n",
      "\n",
      "\n",
      "\n",
      "The response mentions a Python package called \"Code Reviewer\" that supposedly provides a framework for creating automated code reviews with natural language explanations. However, there is no known Python package by the name \"Code Reviewer\" that fits this description. Therefore, the response is incorrect. False\n",
      "The assistant correctly lists several Python packages that can be used for code analysis, which is a part of creating an automated code review tool. While these tools do not directly provide natural language explanations, they can be integrated into a larger system that does. Therefore, the response is correct in the context of the question. True\n",
      "\n",
      "\n",
      "\n",
      "The response is incorrect because TensorFlow Federated (TFF) does not natively implement techniques such as differential privacy, secure multi-party computation, or homomorphic encryption as part of its core functionality. While TFF is indeed a library for federated learning, the specific claims about privacy techniques are misleading. TFF focuses on federated learning but does not inherently provide all the privacy guarantees mentioned without additional integration with other tools or libraries. False\n",
      "The assistant correctly mentions TensorFlow Federated (TFF) and PySyft, both of which are real libraries that can be used for federated learning with privacy guarantees. The mention of \"Federated Learning with OpenMined (FLO)\" is incorrect as there is no such library, but the first two are valid, so the response is overall correct. True\n",
      "\n",
      "\n",
      "\n",
      "The response mentions several Python libraries for automated stock trading with backtesting capabilities. However, Quantopian is not a Python library; it was a platform that allowed users to develop and backtest trading strategies, but it was shut down in 2020. Therefore, the response is incorrect because it includes a non-existent or no longer available tool. False\n",
      "The assistant correctly mentions Backtrader and Zipline, which are well-known Python libraries for backtesting trading strategies. Catalyst was a library developed by Enigma for trading cryptocurrencies, but it is no longer actively maintained. However, the mention of Backtrader and Zipline is sufficient to mark this as correct. True\n",
      "\n",
      "\n",
      "\n",
      "The response suggests using OpenCV for creating a motion capture application for real-time character animation. While OpenCV is a real library and is useful for image processing and computer vision tasks, it is not specifically designed for motion capture or real-time character animation. The response does not mention any specific libraries or tools that are directly related to motion capture for character animation, such as OpenPose or MediaPipe, which are more relevant to the task. Therefore, the response is incorrect in the context of the specific query. False\n",
      "The assistant correctly mentions OpenCV and Mediapipe, which are both valid libraries for creating motion capture applications for real-time character animation. OpenCV can be used for image and video processing, and Mediapipe provides pre-trained models for pose estimation. PyOpenGL is also a valid library for rendering graphics, although it is not specifically for motion capture. True\n",
      "\n",
      "\n",
      "\n",
      "The response mentions Apache Lucene, Elasticsearch, Apache Solr, Sphinx, and Xapian. While these are all valid tools for implementing search engines, none of them are Python packages or libraries. Lucene, Elasticsearch, and Solr are Java-based, while Sphinx and Xapian have their own implementations. The question specifically asks for a Python package or library, so the response is incorrect in the context of the question. False\n",
      "The assistant correctly mentions Elasticsearch, Whoosh, Xapian, and PyLucene, which are all valid tools or libraries that can be used for building search engines with efficient indexing techniques. Elasticsearch is a widely used search engine with a Python client, Whoosh is a pure Python library for search, Xapian is a search engine library with Python bindings, and PyLucene is a Python extension for accessing Lucene, a powerful search library. True\n",
      "\n",
      "\n",
      "\n",
      "The response mentions Unity, Unreal Engine, and Blender, which are not Python packages or libraries. They are game engines and 3D modeling software. The response also mentions PythonVR, which does not exist as a known Python library for creating VR-based rehabilitation programs. Therefore, the response is incorrect. False\n",
      "The assistant mentions PyOpenGL, PyQt, PySide, and PyOpenVR, which are all real Python libraries that can be used for creating VR applications. PyOpenGL is used for rendering graphics, PyQt and PySide are used for GUI applications, and PyOpenVR is used for interfacing with VR hardware. Therefore, the response is correct. True\n",
      "\n",
      "\n",
      "\n",
      "The response mentions ANTLR and PLY, which are valid tools for developing parsers and compilers. However, Pygments is primarily a syntax highlighting library and is not typically used for developing compilers. Therefore, the inclusion of Pygments in this context is incorrect, making the overall response incorrect. False\n",
      "The assistant correctly mentions PLY, Pyparsing, and ANTLR, which are valid tools for developing a compiler for a domain-specific language in Python. These libraries are commonly used for parsing and compiler construction tasks. True\n",
      "\n",
      "\n",
      "\n",
      "The response mentions a package called \"cloudshell\". However, there is no widely recognized Python package by that name specifically for building portable command-line interfaces to manage cloud resources. Common libraries for managing cloud resources include \"boto3\" for AWS, \"google-cloud-sdk\" for Google Cloud, and \"azure-cli\" for Azure, but \"cloudshell\" is not a known package for this purpose. False\n",
      "The assistant correctly mentions `Click` as a library to build command-line interfaces in Python. It also correctly mentions `boto3` for AWS, `google-cloud` for Google Cloud, and `azure-mgmt` for Azure, which are valid libraries for managing cloud resources. The response is accurate and correct. True\n",
      "\n",
      "\n",
      "\n",
      "The response mentions Magenta and Music21, which are valid Python libraries for music generation and analysis. However, MuseScore is not a Python library; it is a standalone music notation software. Therefore, the answer is incorrect because it includes a non-existent Python library (MuseScore as a Python library). False\n",
      "The assistant correctly mentions existing Python libraries that can be used for AI-assisted melody generation. Music21, Magenta, and Essentia are all real libraries that can be used for music composition and analysis, including AI-assisted tasks. True\n",
      "\n",
      "\n",
      "\n",
      "The response mentions using the Python package 'scapy' to simulate DDoS attacks. While Scapy is a real and powerful packet manipulation tool, it is not specifically designed for simulating DDoS attacks. The response implies that Scapy can be used directly for this purpose, which is misleading. Scapy can be used to craft and send packets, but simulating a DDoS attack involves more than just sending packets and typically requires more specialized tools or frameworks. Therefore, the response is incorrect in the context of the question. False\n",
      "The assistant mentions Scapy and hping3, both of which are legitimate tools that can be used for network testing and crafting packets, which can be part of simulating DDoS attacks for security testing. Impacket is also a legitimate library for network protocol manipulation, though it's less directly related to DDoS simulation. The response is correct in the context of the question. True\n",
      "\n",
      "\n",
      "\n",
      "The response is incorrect because MicroPython and CircuitPython are not specifically designed for building microcontroller firmware for energy-efficient wireless communication. While they are Python implementations for microcontrollers, they do not inherently provide support for low-power wireless communication protocols like BLE or LoRaWAN. These protocols typically require additional libraries or hardware-specific support that is not part of the core MicroPython or CircuitPython packages. False\n",
      "The assistant mentions MicroPython, CircuitPython, and Pycom, which are all valid tools for building firmware for microcontrollers with Python. MicroPython and CircuitPython are well-known for running Python on microcontrollers, and Pycom provides Python-based solutions for IoT and wireless communication. Therefore, the response is correct. True\n",
      "\n",
      "\n",
      "\n"
     ]
    }
   ],
   "source": [
    "view_sets(base_70b, instruct_70b, improve_ind)"
   ]
  },
  {
   "cell_type": "code",
   "execution_count": 106,
   "metadata": {},
   "outputs": [],
   "source": [
    "data = base_70b"
   ]
  },
  {
   "cell_type": "code",
   "execution_count": 109,
   "metadata": {},
   "outputs": [
    {
     "data": {
      "text/plain": [
       "[]"
      ]
     },
     "execution_count": 109,
     "metadata": {},
     "output_type": "execute_result"
    }
   ],
   "source": [
    "data.pcs"
   ]
  },
  {
   "cell_type": "code",
   "execution_count": 107,
   "metadata": {},
   "outputs": [
    {
     "ename": "IndexError",
     "evalue": "list index out of range",
     "output_type": "error",
     "traceback": [
      "\u001b[0;31m---------------------------------------------------------------------------\u001b[0m",
      "\u001b[0;31mIndexError\u001b[0m                                Traceback (most recent call last)",
      "Cell \u001b[0;32mIn[107], line 4\u001b[0m\n\u001b[1;32m      2\u001b[0m interval \u001b[38;5;241m=\u001b[39m \u001b[38;5;28mlen\u001b[39m(data\u001b[38;5;241m.\u001b[39mpcs) \u001b[38;5;241m/\u001b[39m\u001b[38;5;241m/\u001b[39m \u001b[38;5;241m3\u001b[39m \u001b[38;5;241m-\u001b[39m \u001b[38;5;241m1\u001b[39m\n\u001b[1;32m      3\u001b[0m \u001b[38;5;28;01mfor\u001b[39;00m i, ax \u001b[38;5;129;01min\u001b[39;00m \u001b[38;5;28menumerate\u001b[39m(axs):\n\u001b[0;32m----> 4\u001b[0m     scatter \u001b[38;5;241m=\u001b[39m ax\u001b[38;5;241m.\u001b[39mscatter(\u001b[43mdata\u001b[49m\u001b[38;5;241;43m.\u001b[39;49m\u001b[43mpcs\u001b[49m\u001b[43m[\u001b[49m\u001b[43minterval\u001b[49m\u001b[38;5;241;43m*\u001b[39;49m\u001b[43m(\u001b[49m\u001b[43mi\u001b[49m\u001b[38;5;241;43m+\u001b[39;49m\u001b[38;5;241;43m1\u001b[39;49m\u001b[43m)\u001b[49m\u001b[43m]\u001b[49m\u001b[38;5;241m.\u001b[39mnumpy()[:,\u001b[38;5;241m0\u001b[39m], data\u001b[38;5;241m.\u001b[39mpcs[interval\u001b[38;5;241m*\u001b[39m(i\u001b[38;5;241m+\u001b[39m\u001b[38;5;241m1\u001b[39m)]\u001b[38;5;241m.\u001b[39mnumpy()[:,\u001b[38;5;241m1\u001b[39m], c\u001b[38;5;241m=\u001b[39mdata\u001b[38;5;241m.\u001b[39mdata[\u001b[38;5;124m'\u001b[39m\u001b[38;5;124mlabel\u001b[39m\u001b[38;5;124m'\u001b[39m], cmap\u001b[38;5;241m=\u001b[39m\u001b[38;5;124m'\u001b[39m\u001b[38;5;124mtab20\u001b[39m\u001b[38;5;124m'\u001b[39m)\n\u001b[1;32m      5\u001b[0m     ax\u001b[38;5;241m.\u001b[39mset_title(\u001b[38;5;124mf\u001b[39m\u001b[38;5;124m'\u001b[39m\u001b[38;5;124mLayer \u001b[39m\u001b[38;5;132;01m{\u001b[39;00m\u001b[38;5;241m10\u001b[39m\u001b[38;5;241m*\u001b[39m(i\u001b[38;5;241m+\u001b[39m\u001b[38;5;241m1\u001b[39m)\u001b[38;5;132;01m}\u001b[39;00m\u001b[38;5;124m'\u001b[39m)\n\u001b[1;32m      6\u001b[0m     handles, _ \u001b[38;5;241m=\u001b[39m scatter\u001b[38;5;241m.\u001b[39mlegend_elements()\n",
      "\u001b[0;31mIndexError\u001b[0m: list index out of range"
     ]
    },
    {
     "data": {
      "image/png": "[encoded data removed]",
      "text/plain": [
       "<Figure size 1500x500 with 3 Axes>"
      ]
     },
     "metadata": {},
     "output_type": "display_data"
    }
   ],
   "source": [
    "fig, axs = plt.subplots(1, 3, figsize=(15, 5))\n",
    "interval = len(data.pcs) // 3 - 1\n",
    "for i, ax in enumerate(axs):\n",
    "    scatter = ax.scatter(data.pcs[interval*(i+1)].numpy()[:,0], data.pcs[interval*(i+1)].numpy()[:,1], c=data.data['label'], cmap='tab20')\n",
    "    ax.set_title(f'Layer {10*(i+1)}')\n",
    "    handles, _ = scatter.legend_elements()\n",
    "    labels = ['False', 'True']\n",
    "    ax.legend(handles, labels)\n",
    "plt.show()"
   ]
  },
  {
   "cell_type": "markdown",
   "metadata": {},
   "source": [
    "## 8B Base vs Instruct"
   ]
  },
  {
   "cell_type": "code",
   "execution_count": 6,
   "metadata": {},
   "outputs": [],
   "source": [
    "base_8b = CodingData('data/factual/hard_100/Meta_Llama_3_1_8B')\n",
    "instruct_8b = CodingData('data/factual/hard_100/Meta_Llama_3_1_8B_Instruct')"
   ]
  },
  {
   "cell_type": "code",
   "execution_count": 8,
   "metadata": {},
   "outputs": [
    {
     "name": "stdout",
     "output_type": "stream",
     "text": [
      "Base: 0.5959596037864685\n",
      "Chat: 0.4747474789619446\n",
      "22 hallucinations improved (22.22%)\n",
      "10 hallucinations degraded (10.10%)\n"
     ]
    }
   ],
   "source": [
    "dict_8b = compare_sets(base_8b, instruct_8b)"
   ]
  },
  {
   "cell_type": "code",
   "execution_count": 9,
   "metadata": {},
   "outputs": [
    {
     "data": {
      "text/plain": [
       "dict_keys(['improve_indices', 'degrade_indices', 'both_halluc_indices', 'both_real_indices'])"
      ]
     },
     "execution_count": 9,
     "metadata": {},
     "output_type": "execute_result"
    }
   ],
   "source": [
    "dict_8b.keys()"
   ]
  },
  {
   "cell_type": "code",
   "execution_count": 10,
   "metadata": {},
   "outputs": [
    {
     "name": "stdout",
     "output_type": "stream",
     "text": [
      "The response mentions libraries such as PyDHT, DHTLib, and PyDHTLib, which do not exist as known Python packages for implementing distributed hash tables. Therefore, the response is incorrect. False\n",
      "The assistant mentions 'Kademlia', which is a real Python package for implementing a DHT. The mention of 'DHT' is less clear, but 'Twisted' is a real networking library that could be used to implement a DHT from scratch. The response is correct because it provides valid options. True\n",
      "\n",
      "\n",
      "\n",
      "The response mentions `PyAudio`, which is a library for handling audio input and output, but it is not specifically a voice recognition library. For voice recognition, libraries like `SpeechRecognition` or `pocketsphinx` would be more appropriate. Therefore, the response is incorrect in the context of voice recognition. False\n",
      "The assistant correctly mentions existing Python packages and libraries that can be used for developing a real-time voice recognition system. SpeechRecognition and PyAudio are popular libraries for handling speech recognition and audio processing, respectively. Kaldi is a well-known toolkit for speech recognition, although it is not a Python library per se, it can be interfaced with Python. True\n",
      "\n",
      "\n",
      "\n",
      "The response mentions RabbitMQ, which is indeed a popular message broker system. However, RabbitMQ is not a Python package or library; it is a standalone message broker written in Erlang. The question specifically asks for a Python package or library, so the response is incorrect in the context of the question. False\n",
      "The assistant correctly mentions existing Python client libraries for popular message broker systems: `pika` for RabbitMQ, `confluent-kafka` for Apache Kafka, and `pulsar-client` for Apache Pulsar. These are valid and commonly used libraries for building high-performance message broker systems. True\n",
      "\n",
      "\n",
      "\n",
      "The 'webbrowser' module in Python is a standard library module that provides a high-level interface to allow displaying web-based documents to users. It is not a library for creating a web browser with support for modern web standards. It is used to open URLs in the default web browser. Creating a web browser with support for modern web standards would require a more complex library or framework, such as PyQt or PySide with QtWebEngine, or using a web rendering engine like WebKit or Blink. False\n",
      "The assistant correctly mentions PyQtWebEngine and PySideWebEngine, which are Python bindings for the Qt WebEngine module that uses the Chromium engine. These are valid options for creating a web browser with support for modern web standards. PyQt5 WebKit is also a valid option, although WebKit is less commonly used now compared to Chromium-based engines. True\n",
      "\n",
      "\n",
      "\n",
      "The response mentions several libraries, but there are issues with the names and descriptions:\n",
      "\n",
      "1. Pysat: This is a real library, but it provides interfaces to multiple SAT solvers, not just MiniSat. The description is somewhat correct, but it should be noted that PySAT is the correct capitalization.\n",
      "\n",
      "2. PySAT: This is actually the same as Pysat, and the description is incorrect because it repeats the same information with a different solver name.\n",
      "\n",
      "3. PySAT4J: This library does not exist. There is no PySAT4J library that interfaces with SAT4J in Python.\n",
      "\n",
      "4. PyConj: This library does not exist. There is no PyConj library for propositional logic in Python.\n",
      "\n",
      "Therefore, the response is incorrect because it mentions non-existent libraries and repeats information incorrectly. False\n",
      "The assistant mentions pySAT and minisatpy, which are valid libraries for solving SAT problems, a key component of propositional logic theorem proving. The mention of pycsp is incorrect in this context, but the overall response is still correct as it provides valid options. True\n",
      "\n",
      "\n",
      "\n",
      "The response mentions 'PyVR' and 'PyVRML' as libraries for creating virtual reality environments, but these libraries do not exist. However, 'PyBullet' is a real library for physics simulation, but it does not specifically target virtual reality environments. The answer is incorrect because it mentions non-existent libraries. False\n",
      "The assistant correctly mentions Panda3D, which is a 3D game engine that supports VR and includes a physics engine. PyOpenGL and Pygame are also valid mentions, although they are not specifically designed for VR, they can be used in conjunction with other tools to achieve VR environments with physics. True\n",
      "\n",
      "\n",
      "\n",
      "The response is incorrect because it suggests using NLTK for program synthesis, which is not appropriate. NLTK is a library for natural language processing, not for generating code from natural language specifications. The response also mentions commercial tools like Google's AutoML and Visual Studio Code IntelliSense, which are not specifically designed for program synthesis from natural language. The answer does not provide a correct or specific library for the task described. False\n",
      "The assistant mentions Transformers, NLTK, and spaCy. Transformers is indeed a relevant library for tasks involving natural language processing and can be used for program synthesis with the right models. NLTK and spaCy are also valid libraries for natural language processing, although they are more focused on traditional NLP tasks rather than program synthesis specifically. However, they can still be part of a system that processes natural language specifications. Therefore, the response is correct. True\n",
      "\n",
      "\n",
      "\n",
      "Apache Kafka is not a Python package or library. It is a distributed event streaming platform. While Kafka can be used in conjunction with Python (e.g., using the 'confluent-kafka' Python client), Kafka itself is not a Python package or library. Therefore, the answer is incorrect. False\n",
      "The assistant mentions Apache Storm, Apache Flink, and Apache Kafka, which are all valid tools for building large-scale event processing pipelines with real-time analytics. Apache Storm and Apache Flink have Python APIs, and Apache Kafka is commonly used in such pipelines, often in conjunction with other tools. True\n",
      "\n",
      "\n",
      "\n",
      "The response contains incorrect information. Pygame and PygameZero do not have built-in vector graphics rendering libraries. Pyglet and PyOpenGL can be used for rendering graphics, but they do not specifically have built-in vector graphics rendering libraries. The answer is misleading in suggesting these libraries have built-in vector graphics capabilities. False\n",
      "The assistant correctly mentions libraries that can be used for vector graphics rendering in Python. Pygame and Pyglet can be used for rendering graphics, including vector graphics, although they are primarily used for game development. Cairo, with its Python binding PyCairo, is specifically designed for 2D vector graphics rendering. Therefore, the response is correct. True\n",
      "\n",
      "\n",
      "\n",
      "The assistant's response is incorrect because there is no known Python package or library named `build-system` that is specifically used to write an extensible build system for large codebases. Common tools for this purpose include `SCons`, `Bazel`, or `CMake`, but `build-system` is not a recognized package for this purpose. False\n",
      "The assistant correctly lists several Python packages and libraries that can be used to write an extensible build system for large codebases. Invoke, Pants, and SCons are all valid tools for this purpose. Buildbot is more of a continuous integration tool, but it can be used in the context of building and testing codebases. Therefore, the response is correct. True\n",
      "\n",
      "\n",
      "\n",
      "The response mentions 'PyWASM' as a Python package or library for executing WebAssembly on embedded devices. However, 'PyWASM' is not a known or widely recognized library for this purpose. There are other tools and libraries for running WebAssembly, such as Wasmer or Wasmtime, but 'PyWASM' does not exist as described. Therefore, the response is incorrect. False\n",
      "The assistant correctly mentions Wasmtime and wasm3, both of which are WebAssembly runtimes that can be used on embedded devices and have Python bindings. PyWASM is also a Python library for WebAssembly, although it is less commonly used for embedded devices. The response is correct as it provides valid options. True\n",
      "\n",
      "\n",
      "\n",
      "The response lists PyCharm, PyDev, and Wing IDE as Python packages or libraries, but these are actually integrated development environments (IDEs), not Python packages or libraries. Therefore, the response is incorrect because it does not correctly identify Python packages or libraries that provide IDE features. False\n",
      "The assistant mentions PyCharm's Open API, PyLint, and PyFlakes. PyCharm's Open API is indeed used for extending PyCharm with custom features, PyLint is a well-known tool for code analysis, and PyFlakes is also used for code analysis. These are valid tools for the task described. True\n",
      "\n",
      "\n",
      "\n",
      "The response mentions 'RecSys' as a Python package, but there is no widely recognized Python package by that name specifically for building recommendation engines. 'Surprise' and 'LensKit' are valid packages for collaborative filtering, but 'RecSys' is not a known package in this context. Therefore, the response is incorrect. False\n",
      "The assistant correctly mentions several Python libraries that can be used for building recommendation engines using collaborative filtering: Surprise, TensorFlow Recommenders (TFRS), and LightFM. These libraries are real and suitable for the task described. True\n",
      "\n",
      "\n",
      "\n",
      "The response mentions several libraries, but it does not accurately describe them or their capabilities for multi-agent pathfinding. The 'A* Pathfinding Library' and 'Pathfinding Library' are not specific, well-known libraries, and the descriptions are misleading. Pygame is a game development library and does not inherently provide pathfinding algorithms. The response does not mention specific libraries that are known for multi-agent pathfinding, such as 'M*' or 'Cooperative A*'. Therefore, the response is incorrect. False\n",
      "The assistant mentions NetworkX, Pygraph, and AStar. NetworkX is a well-known library for graph algorithms and can be used for pathfinding. Pygraph is less known but plausible. AStar is a common algorithm, and there are Python implementations available. The response is correct. True\n",
      "\n",
      "\n",
      "\n",
      "The response is incorrect because it states that there is no specific package for federated learning with privacy guarantees, which is misleading. PySyft and TensorFlow Privacy are indeed relevant to federated learning and privacy, but Horovod is not specifically designed for federated learning or privacy. Horovod is more about distributed training. The answer should have focused on PySyft and TensorFlow Privacy as relevant tools. False\n",
      "The assistant correctly mentions TensorFlow Federated (TFF) and Federated AI Technology Ensemble (FATE), both of which are real frameworks that can be used for federated learning with privacy guarantees. True\n",
      "\n",
      "\n",
      "\n",
      "The response mentions a Python package called \"Payment Gateway Library,\" which does not exist. There is no known package by this name that provides the described functionality. Therefore, the response is incorrect. False\n",
      "The assistant correctly mentions existing Python libraries for implementing digital payment gateways with support for multiple currencies. Stripe, PayPal, and Square all have Python libraries that can be used for this purpose. True\n",
      "\n",
      "\n",
      "\n",
      "The response mentions 'Compiler Construction Toolset (CCT)' as a tool, which does not exist. The other tools mentioned (Bison, Flex, LLVM, GCC, Clang) are real, but CCT is not a known tool or library. Therefore, the response is incorrect. False\n",
      "The assistant correctly mentions PLY, PyParsing, and ANTLR as tools that can be used to develop a compiler for a domain-specific language in Python. These are valid and existing tools for such tasks. True\n",
      "\n",
      "\n",
      "\n",
      "The response contains incorrect information. Music21 is a real Python library for music analysis and composition, but Python-Music and PyMusic are not known libraries. Melodyne is a software for audio editing, MuseScore is a music notation software, and Sonic Pi is a live coding environment for music, but they are not Python libraries for AI-assisted melody generation. The response does not accurately list existing Python libraries for AI-assisted melody generation. False\n",
      "The assistant mentions Mido and Music21. Mido is a library for working with MIDI, which is relevant but does not directly provide AI-assisted melody generation. Music21 is a library for music theory and analysis and does have capabilities for generating music, including some AI techniques. Therefore, the response is correct as it provides relevant libraries that can be used for the task, even if they need to be combined with other tools for full AI-assisted melody generation. True\n",
      "\n",
      "\n",
      "\n",
      "The response is incorrect because Moodle, Canvas, and Blackboard are not Python packages or libraries. They are full-fledged learning management systems, and they are not specifically Python-based. The question asks for a Python package or library, and the answer does not provide any such package or library. False\n",
      "The assistant mentions TensorFlow, PyTorch, and scikit-learn, which are all real and widely used machine learning libraries in Python. These libraries can indeed be used to implement systems with adaptive content delivery, as they provide tools for building machine learning models that can adapt to user data. Therefore, the response is correct. True\n",
      "\n",
      "\n",
      "\n",
      "The response is incorrect because it mentions 'nmap' as a Python package, which is not accurate. Nmap is a network scanning tool, but it is not a Python package or library. The response also suggests using 'scapy' for packet crafting, which is correct, but the inclusion of 'nmap' as a Python package makes the overall response incorrect. False\n",
      "The assistant mentions Scapy and PyShark. Scapy is indeed a powerful packet manipulation library that can be used to simulate network traffic, including DDoS-like attacks, so it is a valid suggestion. PyShark is more for capturing and analyzing network traffic, but it can be used in the context of understanding and simulating network conditions. The response is correct as it provides valid tools for the task. True\n",
      "\n",
      "\n",
      "\n",
      "The response lists several Python libraries related to geospatial data and analysis, which could be useful in a mobile app for disaster reporting and management. However, the response does not mention any specific library or package that directly supports the implementation of a mobile app. Libraries like PyGeocoder, PySAL, Shapely, GeoPandas, and Geoplot are more focused on geospatial data processing and visualization rather than mobile app development. Therefore, the response is incorrect in the context of the question, which asks for a library specifically for implementing a mobile app. False\n",
      "The assistant mentions Kivy, Flask, and Django. Kivy is a valid Python library for developing mobile applications. Flask and Django are web frameworks that can be used to create web applications, which can be accessed via mobile apps. Therefore, the response is correct. True\n",
      "\n",
      "\n",
      "\n",
      "The response mentions OpenCog, GPT-3, and Dialogflow as tools for designing an intelligent tutoring system with natural language dialogue capabilities. While GPT-3 and Dialogflow are valid tools, OpenCog is not specifically a Python package or library for this purpose. OpenCog is a general AI framework, but it is not commonly used or recognized as a Python package for intelligent tutoring systems with natural language dialogue. Therefore, the response is incorrect because it includes a tool that does not fit the criteria of a Python package or library for the specified task. False\n",
      "The assistant mentions Rasa, Dialogflow, and NLTK as tools for building conversational systems. Rasa is a well-known open-source library for building chatbots and conversational AI, which is suitable for intelligent tutoring systems. Dialogflow is a platform for building conversational interfaces, and NLTK is a toolkit for natural language processing in Python. All these tools are valid for the task described, so the response is correct. True\n",
      "\n",
      "\n",
      "\n"
     ]
    }
   ],
   "source": [
    "view_sets(base_8b, instruct_8b, dict_8b['improve_indices'])"
   ]
  },
  {
   "cell_type": "code",
   "execution_count": null,
   "metadata": {},
   "outputs": [],
   "source": []
  }
 ],
 "metadata": {
  "kernelspec": {
   "display_name": "Python 3 (ipykernel)",
   "language": "python",
   "name": "python3"
  },
  "language_info": {
   "codemirror_mode": {
    "name": "ipython",
    "version": 3
   },
   "file_extension": ".py",
   "mimetype": "text/x-python",
   "name": "python",
   "nbconvert_exporter": "python",
   "pygments_lexer": "ipython3",
   "version": "3.10.14"
  }
 },
 "nbformat": 4,
 "nbformat_minor": 2
}
